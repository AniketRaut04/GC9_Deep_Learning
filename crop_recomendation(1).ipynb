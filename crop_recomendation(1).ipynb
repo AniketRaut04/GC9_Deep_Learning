{
  "cells": [
    {
      "cell_type": "code",
      "execution_count": 772,
      "metadata": {
        "id": "VbbsiRtwRpuL"
      },
      "outputs": [],
      "source": [
        "import numpy as np\n",
        "from tensorflow.keras.models import Sequential\n",
        "from tensorflow.keras.layers import LSTM\n",
        "from tensorflow.keras.layers import Dense, Dropout\n",
        "import pandas as pd\n",
        "from matplotlib import pyplot as plt\n",
        "from sklearn.preprocessing import StandardScaler\n",
        "import seaborn as sns\n",
        "import sklearn.metrics as sm\n",
        "import math\n",
        "from sklearn.metrics import r2_score\n",
        "import tensorflow as tf\n",
        "from sklearn.preprocessing import MinMaxScaler\n",
        "from tensorflow.keras.models import Sequential\n",
        "from tensorflow.keras.layers import *\n",
        "from tensorflow.keras.callbacks import ModelCheckpoint\n",
        "from tensorflow.keras.losses import MeanSquaredError\n",
        "from tensorflow.keras.metrics import RootMeanSquaredError\n",
        "from tensorflow.keras.optimizers import Adam"
      ]
    },
    {
      "cell_type": "code",
      "execution_count": 773,
      "metadata": {
        "id": "5A2UqFYRRpuN"
      },
      "outputs": [],
      "source": [
        "data = pd.read_csv(\"crop.csv\")"
      ]
    },
    {
      "cell_type": "code",
      "execution_count": 774,
      "metadata": {
        "colab": {
          "base_uri": "https://localhost:8080/",
          "height": 206
        },
        "id": "ItLVDbohRpuN",
        "outputId": "09102962-df66-431e-fdf2-eb077da2fe24"
      },
      "outputs": [
        {
          "data": {
            "text/html": [
              "\n",
              "  <div id=\"df-9d3393f6-635a-4c41-9fbe-807e255061eb\">\n",
              "    <div class=\"colab-df-container\">\n",
              "      <div>\n",
              "<style scoped>\n",
              "    .dataframe tbody tr th:only-of-type {\n",
              "        vertical-align: middle;\n",
              "    }\n",
              "\n",
              "    .dataframe tbody tr th {\n",
              "        vertical-align: top;\n",
              "    }\n",
              "\n",
              "    .dataframe thead th {\n",
              "        text-align: right;\n",
              "    }\n",
              "</style>\n",
              "<table border=\"1\" class=\"dataframe\">\n",
              "  <thead>\n",
              "    <tr style=\"text-align: right;\">\n",
              "      <th></th>\n",
              "      <th>N</th>\n",
              "      <th>P</th>\n",
              "      <th>K</th>\n",
              "      <th>temperature</th>\n",
              "      <th>humidity</th>\n",
              "      <th>ph</th>\n",
              "      <th>rainfall</th>\n",
              "      <th>label</th>\n",
              "    </tr>\n",
              "  </thead>\n",
              "  <tbody>\n",
              "    <tr>\n",
              "      <th>0</th>\n",
              "      <td>90</td>\n",
              "      <td>42</td>\n",
              "      <td>43</td>\n",
              "      <td>20.879744</td>\n",
              "      <td>82.002744</td>\n",
              "      <td>6.502985</td>\n",
              "      <td>202.935536</td>\n",
              "      <td>rice</td>\n",
              "    </tr>\n",
              "    <tr>\n",
              "      <th>1</th>\n",
              "      <td>85</td>\n",
              "      <td>58</td>\n",
              "      <td>41</td>\n",
              "      <td>21.770462</td>\n",
              "      <td>80.319644</td>\n",
              "      <td>7.038096</td>\n",
              "      <td>226.655537</td>\n",
              "      <td>rice</td>\n",
              "    </tr>\n",
              "    <tr>\n",
              "      <th>2</th>\n",
              "      <td>60</td>\n",
              "      <td>55</td>\n",
              "      <td>44</td>\n",
              "      <td>23.004459</td>\n",
              "      <td>82.320763</td>\n",
              "      <td>7.840207</td>\n",
              "      <td>263.964248</td>\n",
              "      <td>rice</td>\n",
              "    </tr>\n",
              "    <tr>\n",
              "      <th>3</th>\n",
              "      <td>74</td>\n",
              "      <td>35</td>\n",
              "      <td>40</td>\n",
              "      <td>26.491096</td>\n",
              "      <td>80.158363</td>\n",
              "      <td>6.980401</td>\n",
              "      <td>242.864034</td>\n",
              "      <td>rice</td>\n",
              "    </tr>\n",
              "    <tr>\n",
              "      <th>4</th>\n",
              "      <td>78</td>\n",
              "      <td>42</td>\n",
              "      <td>42</td>\n",
              "      <td>20.130175</td>\n",
              "      <td>81.604873</td>\n",
              "      <td>7.628473</td>\n",
              "      <td>262.717340</td>\n",
              "      <td>rice</td>\n",
              "    </tr>\n",
              "  </tbody>\n",
              "</table>\n",
              "</div>\n",
              "      <button class=\"colab-df-convert\" onclick=\"convertToInteractive('df-9d3393f6-635a-4c41-9fbe-807e255061eb')\"\n",
              "              title=\"Convert this dataframe to an interactive table.\"\n",
              "              style=\"display:none;\">\n",
              "        \n",
              "  <svg xmlns=\"http://www.w3.org/2000/svg\" height=\"24px\"viewBox=\"0 0 24 24\"\n",
              "       width=\"24px\">\n",
              "    <path d=\"M0 0h24v24H0V0z\" fill=\"none\"/>\n",
              "    <path d=\"M18.56 5.44l.94 2.06.94-2.06 2.06-.94-2.06-.94-.94-2.06-.94 2.06-2.06.94zm-11 1L8.5 8.5l.94-2.06 2.06-.94-2.06-.94L8.5 2.5l-.94 2.06-2.06.94zm10 10l.94 2.06.94-2.06 2.06-.94-2.06-.94-.94-2.06-.94 2.06-2.06.94z\"/><path d=\"M17.41 7.96l-1.37-1.37c-.4-.4-.92-.59-1.43-.59-.52 0-1.04.2-1.43.59L10.3 9.45l-7.72 7.72c-.78.78-.78 2.05 0 2.83L4 21.41c.39.39.9.59 1.41.59.51 0 1.02-.2 1.41-.59l7.78-7.78 2.81-2.81c.8-.78.8-2.07 0-2.86zM5.41 20L4 18.59l7.72-7.72 1.47 1.35L5.41 20z\"/>\n",
              "  </svg>\n",
              "      </button>\n",
              "      \n",
              "  <style>\n",
              "    .colab-df-container {\n",
              "      display:flex;\n",
              "      flex-wrap:wrap;\n",
              "      gap: 12px;\n",
              "    }\n",
              "\n",
              "    .colab-df-convert {\n",
              "      background-color: #E8F0FE;\n",
              "      border: none;\n",
              "      border-radius: 50%;\n",
              "      cursor: pointer;\n",
              "      display: none;\n",
              "      fill: #1967D2;\n",
              "      height: 32px;\n",
              "      padding: 0 0 0 0;\n",
              "      width: 32px;\n",
              "    }\n",
              "\n",
              "    .colab-df-convert:hover {\n",
              "      background-color: #E2EBFA;\n",
              "      box-shadow: 0px 1px 2px rgba(60, 64, 67, 0.3), 0px 1px 3px 1px rgba(60, 64, 67, 0.15);\n",
              "      fill: #174EA6;\n",
              "    }\n",
              "\n",
              "    [theme=dark] .colab-df-convert {\n",
              "      background-color: #3B4455;\n",
              "      fill: #D2E3FC;\n",
              "    }\n",
              "\n",
              "    [theme=dark] .colab-df-convert:hover {\n",
              "      background-color: #434B5C;\n",
              "      box-shadow: 0px 1px 3px 1px rgba(0, 0, 0, 0.15);\n",
              "      filter: drop-shadow(0px 1px 2px rgba(0, 0, 0, 0.3));\n",
              "      fill: #FFFFFF;\n",
              "    }\n",
              "  </style>\n",
              "\n",
              "      <script>\n",
              "        const buttonEl =\n",
              "          document.querySelector('#df-9d3393f6-635a-4c41-9fbe-807e255061eb button.colab-df-convert');\n",
              "        buttonEl.style.display =\n",
              "          google.colab.kernel.accessAllowed ? 'block' : 'none';\n",
              "\n",
              "        async function convertToInteractive(key) {\n",
              "          const element = document.querySelector('#df-9d3393f6-635a-4c41-9fbe-807e255061eb');\n",
              "          const dataTable =\n",
              "            await google.colab.kernel.invokeFunction('convertToInteractive',\n",
              "                                                     [key], {});\n",
              "          if (!dataTable) return;\n",
              "\n",
              "          const docLinkHtml = 'Like what you see? Visit the ' +\n",
              "            '<a target=\"_blank\" href=https://colab.research.google.com/notebooks/data_table.ipynb>data table notebook</a>'\n",
              "            + ' to learn more about interactive tables.';\n",
              "          element.innerHTML = '';\n",
              "          dataTable['output_type'] = 'display_data';\n",
              "          await google.colab.output.renderOutput(dataTable, element);\n",
              "          const docLink = document.createElement('div');\n",
              "          docLink.innerHTML = docLinkHtml;\n",
              "          element.appendChild(docLink);\n",
              "        }\n",
              "      </script>\n",
              "    </div>\n",
              "  </div>\n",
              "  "
            ],
            "text/plain": [
              "    N   P   K  temperature   humidity        ph    rainfall label\n",
              "0  90  42  43    20.879744  82.002744  6.502985  202.935536  rice\n",
              "1  85  58  41    21.770462  80.319644  7.038096  226.655537  rice\n",
              "2  60  55  44    23.004459  82.320763  7.840207  263.964248  rice\n",
              "3  74  35  40    26.491096  80.158363  6.980401  242.864034  rice\n",
              "4  78  42  42    20.130175  81.604873  7.628473  262.717340  rice"
            ]
          },
          "execution_count": 774,
          "metadata": {},
          "output_type": "execute_result"
        }
      ],
      "source": [
        "data.head()"
      ]
    },
    {
      "cell_type": "code",
      "execution_count": 775,
      "metadata": {
        "colab": {
          "base_uri": "https://localhost:8080/",
          "height": 206
        },
        "id": "agL7wNweRpuO",
        "outputId": "4c2ba5ed-376c-43b4-b869-b233ed8fdade"
      },
      "outputs": [
        {
          "data": {
            "text/html": [
              "\n",
              "  <div id=\"df-14a8fe2f-2d07-4f95-ad0d-d6b8845f2c3b\">\n",
              "    <div class=\"colab-df-container\">\n",
              "      <div>\n",
              "<style scoped>\n",
              "    .dataframe tbody tr th:only-of-type {\n",
              "        vertical-align: middle;\n",
              "    }\n",
              "\n",
              "    .dataframe tbody tr th {\n",
              "        vertical-align: top;\n",
              "    }\n",
              "\n",
              "    .dataframe thead th {\n",
              "        text-align: right;\n",
              "    }\n",
              "</style>\n",
              "<table border=\"1\" class=\"dataframe\">\n",
              "  <thead>\n",
              "    <tr style=\"text-align: right;\">\n",
              "      <th></th>\n",
              "      <th>N</th>\n",
              "      <th>P</th>\n",
              "      <th>K</th>\n",
              "      <th>temperature</th>\n",
              "      <th>humidity</th>\n",
              "      <th>ph</th>\n",
              "      <th>rainfall</th>\n",
              "      <th>label</th>\n",
              "    </tr>\n",
              "  </thead>\n",
              "  <tbody>\n",
              "    <tr>\n",
              "      <th>0</th>\n",
              "      <td>90</td>\n",
              "      <td>42</td>\n",
              "      <td>43</td>\n",
              "      <td>20.879744</td>\n",
              "      <td>82.002744</td>\n",
              "      <td>6.502985</td>\n",
              "      <td>202.935536</td>\n",
              "      <td>20</td>\n",
              "    </tr>\n",
              "    <tr>\n",
              "      <th>1</th>\n",
              "      <td>85</td>\n",
              "      <td>58</td>\n",
              "      <td>41</td>\n",
              "      <td>21.770462</td>\n",
              "      <td>80.319644</td>\n",
              "      <td>7.038096</td>\n",
              "      <td>226.655537</td>\n",
              "      <td>20</td>\n",
              "    </tr>\n",
              "    <tr>\n",
              "      <th>2</th>\n",
              "      <td>60</td>\n",
              "      <td>55</td>\n",
              "      <td>44</td>\n",
              "      <td>23.004459</td>\n",
              "      <td>82.320763</td>\n",
              "      <td>7.840207</td>\n",
              "      <td>263.964248</td>\n",
              "      <td>20</td>\n",
              "    </tr>\n",
              "    <tr>\n",
              "      <th>3</th>\n",
              "      <td>74</td>\n",
              "      <td>35</td>\n",
              "      <td>40</td>\n",
              "      <td>26.491096</td>\n",
              "      <td>80.158363</td>\n",
              "      <td>6.980401</td>\n",
              "      <td>242.864034</td>\n",
              "      <td>20</td>\n",
              "    </tr>\n",
              "    <tr>\n",
              "      <th>4</th>\n",
              "      <td>78</td>\n",
              "      <td>42</td>\n",
              "      <td>42</td>\n",
              "      <td>20.130175</td>\n",
              "      <td>81.604873</td>\n",
              "      <td>7.628473</td>\n",
              "      <td>262.717340</td>\n",
              "      <td>20</td>\n",
              "    </tr>\n",
              "  </tbody>\n",
              "</table>\n",
              "</div>\n",
              "      <button class=\"colab-df-convert\" onclick=\"convertToInteractive('df-14a8fe2f-2d07-4f95-ad0d-d6b8845f2c3b')\"\n",
              "              title=\"Convert this dataframe to an interactive table.\"\n",
              "              style=\"display:none;\">\n",
              "        \n",
              "  <svg xmlns=\"http://www.w3.org/2000/svg\" height=\"24px\"viewBox=\"0 0 24 24\"\n",
              "       width=\"24px\">\n",
              "    <path d=\"M0 0h24v24H0V0z\" fill=\"none\"/>\n",
              "    <path d=\"M18.56 5.44l.94 2.06.94-2.06 2.06-.94-2.06-.94-.94-2.06-.94 2.06-2.06.94zm-11 1L8.5 8.5l.94-2.06 2.06-.94-2.06-.94L8.5 2.5l-.94 2.06-2.06.94zm10 10l.94 2.06.94-2.06 2.06-.94-2.06-.94-.94-2.06-.94 2.06-2.06.94z\"/><path d=\"M17.41 7.96l-1.37-1.37c-.4-.4-.92-.59-1.43-.59-.52 0-1.04.2-1.43.59L10.3 9.45l-7.72 7.72c-.78.78-.78 2.05 0 2.83L4 21.41c.39.39.9.59 1.41.59.51 0 1.02-.2 1.41-.59l7.78-7.78 2.81-2.81c.8-.78.8-2.07 0-2.86zM5.41 20L4 18.59l7.72-7.72 1.47 1.35L5.41 20z\"/>\n",
              "  </svg>\n",
              "      </button>\n",
              "      \n",
              "  <style>\n",
              "    .colab-df-container {\n",
              "      display:flex;\n",
              "      flex-wrap:wrap;\n",
              "      gap: 12px;\n",
              "    }\n",
              "\n",
              "    .colab-df-convert {\n",
              "      background-color: #E8F0FE;\n",
              "      border: none;\n",
              "      border-radius: 50%;\n",
              "      cursor: pointer;\n",
              "      display: none;\n",
              "      fill: #1967D2;\n",
              "      height: 32px;\n",
              "      padding: 0 0 0 0;\n",
              "      width: 32px;\n",
              "    }\n",
              "\n",
              "    .colab-df-convert:hover {\n",
              "      background-color: #E2EBFA;\n",
              "      box-shadow: 0px 1px 2px rgba(60, 64, 67, 0.3), 0px 1px 3px 1px rgba(60, 64, 67, 0.15);\n",
              "      fill: #174EA6;\n",
              "    }\n",
              "\n",
              "    [theme=dark] .colab-df-convert {\n",
              "      background-color: #3B4455;\n",
              "      fill: #D2E3FC;\n",
              "    }\n",
              "\n",
              "    [theme=dark] .colab-df-convert:hover {\n",
              "      background-color: #434B5C;\n",
              "      box-shadow: 0px 1px 3px 1px rgba(0, 0, 0, 0.15);\n",
              "      filter: drop-shadow(0px 1px 2px rgba(0, 0, 0, 0.3));\n",
              "      fill: #FFFFFF;\n",
              "    }\n",
              "  </style>\n",
              "\n",
              "      <script>\n",
              "        const buttonEl =\n",
              "          document.querySelector('#df-14a8fe2f-2d07-4f95-ad0d-d6b8845f2c3b button.colab-df-convert');\n",
              "        buttonEl.style.display =\n",
              "          google.colab.kernel.accessAllowed ? 'block' : 'none';\n",
              "\n",
              "        async function convertToInteractive(key) {\n",
              "          const element = document.querySelector('#df-14a8fe2f-2d07-4f95-ad0d-d6b8845f2c3b');\n",
              "          const dataTable =\n",
              "            await google.colab.kernel.invokeFunction('convertToInteractive',\n",
              "                                                     [key], {});\n",
              "          if (!dataTable) return;\n",
              "\n",
              "          const docLinkHtml = 'Like what you see? Visit the ' +\n",
              "            '<a target=\"_blank\" href=https://colab.research.google.com/notebooks/data_table.ipynb>data table notebook</a>'\n",
              "            + ' to learn more about interactive tables.';\n",
              "          element.innerHTML = '';\n",
              "          dataTable['output_type'] = 'display_data';\n",
              "          await google.colab.output.renderOutput(dataTable, element);\n",
              "          const docLink = document.createElement('div');\n",
              "          docLink.innerHTML = docLinkHtml;\n",
              "          element.appendChild(docLink);\n",
              "        }\n",
              "      </script>\n",
              "    </div>\n",
              "  </div>\n",
              "  "
            ],
            "text/plain": [
              "    N   P   K  temperature   humidity        ph    rainfall  label\n",
              "0  90  42  43    20.879744  82.002744  6.502985  202.935536     20\n",
              "1  85  58  41    21.770462  80.319644  7.038096  226.655537     20\n",
              "2  60  55  44    23.004459  82.320763  7.840207  263.964248     20\n",
              "3  74  35  40    26.491096  80.158363  6.980401  242.864034     20\n",
              "4  78  42  42    20.130175  81.604873  7.628473  262.717340     20"
            ]
          },
          "execution_count": 775,
          "metadata": {},
          "output_type": "execute_result"
        }
      ],
      "source": [
        "from sklearn.preprocessing import LabelEncoder\n",
        "labelencoder = LabelEncoder()\n",
        "# data['State_Name'] = labelencoder.fit_transform(data['State_Name'])\n",
        "# data['District_Name'] = labelencoder.fit_transform(data['District_Name'])\n",
        "# data['Crop'] = labelencoder.fit_transform(data['Crop'])\n",
        "data['label'] = labelencoder.fit_transform(data['label'])\n",
        "data.head()"
      ]
    },
    {
      "cell_type": "code",
      "execution_count": 776,
      "metadata": {
        "id": "F3SJ8zfqRpuO"
      },
      "outputs": [],
      "source": [
        "data = data.astype(float)"
      ]
    },
    {
      "cell_type": "code",
      "execution_count": 777,
      "metadata": {
        "colab": {
          "base_uri": "https://localhost:8080/",
          "height": 206
        },
        "id": "O2QCVaHGRpuO",
        "outputId": "87ef816b-a20f-4854-814a-d40e5b8d89cf"
      },
      "outputs": [
        {
          "data": {
            "text/html": [
              "\n",
              "  <div id=\"df-8f81b84f-59c4-4624-8c9e-1bff98fc9242\">\n",
              "    <div class=\"colab-df-container\">\n",
              "      <div>\n",
              "<style scoped>\n",
              "    .dataframe tbody tr th:only-of-type {\n",
              "        vertical-align: middle;\n",
              "    }\n",
              "\n",
              "    .dataframe tbody tr th {\n",
              "        vertical-align: top;\n",
              "    }\n",
              "\n",
              "    .dataframe thead th {\n",
              "        text-align: right;\n",
              "    }\n",
              "</style>\n",
              "<table border=\"1\" class=\"dataframe\">\n",
              "  <thead>\n",
              "    <tr style=\"text-align: right;\">\n",
              "      <th></th>\n",
              "      <th>N</th>\n",
              "      <th>P</th>\n",
              "      <th>K</th>\n",
              "      <th>temperature</th>\n",
              "      <th>humidity</th>\n",
              "      <th>ph</th>\n",
              "      <th>rainfall</th>\n",
              "      <th>label</th>\n",
              "    </tr>\n",
              "  </thead>\n",
              "  <tbody>\n",
              "    <tr>\n",
              "      <th>0</th>\n",
              "      <td>90.0</td>\n",
              "      <td>42.0</td>\n",
              "      <td>43.0</td>\n",
              "      <td>20.879744</td>\n",
              "      <td>82.002744</td>\n",
              "      <td>6.502985</td>\n",
              "      <td>202.935536</td>\n",
              "      <td>20.0</td>\n",
              "    </tr>\n",
              "    <tr>\n",
              "      <th>1</th>\n",
              "      <td>85.0</td>\n",
              "      <td>58.0</td>\n",
              "      <td>41.0</td>\n",
              "      <td>21.770462</td>\n",
              "      <td>80.319644</td>\n",
              "      <td>7.038096</td>\n",
              "      <td>226.655537</td>\n",
              "      <td>20.0</td>\n",
              "    </tr>\n",
              "    <tr>\n",
              "      <th>2</th>\n",
              "      <td>60.0</td>\n",
              "      <td>55.0</td>\n",
              "      <td>44.0</td>\n",
              "      <td>23.004459</td>\n",
              "      <td>82.320763</td>\n",
              "      <td>7.840207</td>\n",
              "      <td>263.964248</td>\n",
              "      <td>20.0</td>\n",
              "    </tr>\n",
              "    <tr>\n",
              "      <th>3</th>\n",
              "      <td>74.0</td>\n",
              "      <td>35.0</td>\n",
              "      <td>40.0</td>\n",
              "      <td>26.491096</td>\n",
              "      <td>80.158363</td>\n",
              "      <td>6.980401</td>\n",
              "      <td>242.864034</td>\n",
              "      <td>20.0</td>\n",
              "    </tr>\n",
              "    <tr>\n",
              "      <th>4</th>\n",
              "      <td>78.0</td>\n",
              "      <td>42.0</td>\n",
              "      <td>42.0</td>\n",
              "      <td>20.130175</td>\n",
              "      <td>81.604873</td>\n",
              "      <td>7.628473</td>\n",
              "      <td>262.717340</td>\n",
              "      <td>20.0</td>\n",
              "    </tr>\n",
              "  </tbody>\n",
              "</table>\n",
              "</div>\n",
              "      <button class=\"colab-df-convert\" onclick=\"convertToInteractive('df-8f81b84f-59c4-4624-8c9e-1bff98fc9242')\"\n",
              "              title=\"Convert this dataframe to an interactive table.\"\n",
              "              style=\"display:none;\">\n",
              "        \n",
              "  <svg xmlns=\"http://www.w3.org/2000/svg\" height=\"24px\"viewBox=\"0 0 24 24\"\n",
              "       width=\"24px\">\n",
              "    <path d=\"M0 0h24v24H0V0z\" fill=\"none\"/>\n",
              "    <path d=\"M18.56 5.44l.94 2.06.94-2.06 2.06-.94-2.06-.94-.94-2.06-.94 2.06-2.06.94zm-11 1L8.5 8.5l.94-2.06 2.06-.94-2.06-.94L8.5 2.5l-.94 2.06-2.06.94zm10 10l.94 2.06.94-2.06 2.06-.94-2.06-.94-.94-2.06-.94 2.06-2.06.94z\"/><path d=\"M17.41 7.96l-1.37-1.37c-.4-.4-.92-.59-1.43-.59-.52 0-1.04.2-1.43.59L10.3 9.45l-7.72 7.72c-.78.78-.78 2.05 0 2.83L4 21.41c.39.39.9.59 1.41.59.51 0 1.02-.2 1.41-.59l7.78-7.78 2.81-2.81c.8-.78.8-2.07 0-2.86zM5.41 20L4 18.59l7.72-7.72 1.47 1.35L5.41 20z\"/>\n",
              "  </svg>\n",
              "      </button>\n",
              "      \n",
              "  <style>\n",
              "    .colab-df-container {\n",
              "      display:flex;\n",
              "      flex-wrap:wrap;\n",
              "      gap: 12px;\n",
              "    }\n",
              "\n",
              "    .colab-df-convert {\n",
              "      background-color: #E8F0FE;\n",
              "      border: none;\n",
              "      border-radius: 50%;\n",
              "      cursor: pointer;\n",
              "      display: none;\n",
              "      fill: #1967D2;\n",
              "      height: 32px;\n",
              "      padding: 0 0 0 0;\n",
              "      width: 32px;\n",
              "    }\n",
              "\n",
              "    .colab-df-convert:hover {\n",
              "      background-color: #E2EBFA;\n",
              "      box-shadow: 0px 1px 2px rgba(60, 64, 67, 0.3), 0px 1px 3px 1px rgba(60, 64, 67, 0.15);\n",
              "      fill: #174EA6;\n",
              "    }\n",
              "\n",
              "    [theme=dark] .colab-df-convert {\n",
              "      background-color: #3B4455;\n",
              "      fill: #D2E3FC;\n",
              "    }\n",
              "\n",
              "    [theme=dark] .colab-df-convert:hover {\n",
              "      background-color: #434B5C;\n",
              "      box-shadow: 0px 1px 3px 1px rgba(0, 0, 0, 0.15);\n",
              "      filter: drop-shadow(0px 1px 2px rgba(0, 0, 0, 0.3));\n",
              "      fill: #FFFFFF;\n",
              "    }\n",
              "  </style>\n",
              "\n",
              "      <script>\n",
              "        const buttonEl =\n",
              "          document.querySelector('#df-8f81b84f-59c4-4624-8c9e-1bff98fc9242 button.colab-df-convert');\n",
              "        buttonEl.style.display =\n",
              "          google.colab.kernel.accessAllowed ? 'block' : 'none';\n",
              "\n",
              "        async function convertToInteractive(key) {\n",
              "          const element = document.querySelector('#df-8f81b84f-59c4-4624-8c9e-1bff98fc9242');\n",
              "          const dataTable =\n",
              "            await google.colab.kernel.invokeFunction('convertToInteractive',\n",
              "                                                     [key], {});\n",
              "          if (!dataTable) return;\n",
              "\n",
              "          const docLinkHtml = 'Like what you see? Visit the ' +\n",
              "            '<a target=\"_blank\" href=https://colab.research.google.com/notebooks/data_table.ipynb>data table notebook</a>'\n",
              "            + ' to learn more about interactive tables.';\n",
              "          element.innerHTML = '';\n",
              "          dataTable['output_type'] = 'display_data';\n",
              "          await google.colab.output.renderOutput(dataTable, element);\n",
              "          const docLink = document.createElement('div');\n",
              "          docLink.innerHTML = docLinkHtml;\n",
              "          element.appendChild(docLink);\n",
              "        }\n",
              "      </script>\n",
              "    </div>\n",
              "  </div>\n",
              "  "
            ],
            "text/plain": [
              "      N     P     K  temperature   humidity        ph    rainfall  label\n",
              "0  90.0  42.0  43.0    20.879744  82.002744  6.502985  202.935536   20.0\n",
              "1  85.0  58.0  41.0    21.770462  80.319644  7.038096  226.655537   20.0\n",
              "2  60.0  55.0  44.0    23.004459  82.320763  7.840207  263.964248   20.0\n",
              "3  74.0  35.0  40.0    26.491096  80.158363  6.980401  242.864034   20.0\n",
              "4  78.0  42.0  42.0    20.130175  81.604873  7.628473  262.717340   20.0"
            ]
          },
          "execution_count": 777,
          "metadata": {},
          "output_type": "execute_result"
        }
      ],
      "source": [
        "data.head()"
      ]
    },
    {
      "cell_type": "code",
      "execution_count": 778,
      "metadata": {
        "colab": {
          "base_uri": "https://localhost:8080/",
          "height": 281
        },
        "id": "anVDwUroIeEo",
        "outputId": "5b6e1b52-4e30-4b00-83bd-62c78cff3c61"
      },
      "outputs": [
        {
          "data": {
            "image/png": "[encoded data removed]",
            "text/plain": [
              "<Figure size 432x288 with 2 Axes>"
            ]
          },
          "metadata": {
            "needs_background": "light"
          },
          "output_type": "display_data"
        }
      ],
      "source": [
        "# data = data[data['Production'].notna()]\n",
        "from matplotlib import pyplot as plt\n",
        "import numpy as np\n",
        "\n",
        "plt.subplot(1, 2, 1) \n",
        "plt.title(\"N\")\n",
        "plt.boxplot(data['N'])\n",
        " \n",
        "plt.subplot(1, 2, 2) \n",
        "plt.title(\"P\")\n",
        "plt.boxplot(data['P'])\n",
        " \n",
        "plt.show()"
      ]
    },
    {
      "cell_type": "code",
      "execution_count": 779,
      "metadata": {
        "colab": {
          "base_uri": "https://localhost:8080/",
          "height": 420
        },
        "id": "_cK76rSsIeNe",
        "outputId": "69f2bd40-f862-4929-ac70-ac346cebcdfd"
      },
      "outputs": [
        {
          "data": {
            "text/plain": [
              "{'whiskers': [<matplotlib.lines.Line2D at 0x7f5caf7e6be0>,\n",
              "  <matplotlib.lines.Line2D at 0x7f5caf7e6eb0>],\n",
              " 'caps': [<matplotlib.lines.Line2D at 0x7f5caf7f41c0>,\n",
              "  <matplotlib.lines.Line2D at 0x7f5caf7f4490>],\n",
              " 'boxes': [<matplotlib.lines.Line2D at 0x7f5caf7e6910>],\n",
              " 'medians': [<matplotlib.lines.Line2D at 0x7f5caf7f4760>],\n",
              " 'fliers': [<matplotlib.lines.Line2D at 0x7f5caf7f4a30>],\n",
              " 'means': []}"
            ]
          },
          "execution_count": 779,
          "metadata": {},
          "output_type": "execute_result"
        },
        {
          "data": {
            "image/png": "[encoded data removed]",
            "text/plain": [
              "<Figure size 432x288 with 2 Axes>"
            ]
          },
          "metadata": {
            "needs_background": "light"
          },
          "output_type": "display_data"
        }
      ],
      "source": [
        "plt.subplot(1, 2, 1) \n",
        "plt.title(\"temperature\")\n",
        "plt.boxplot(data['temperature'])\n",
        "\n",
        "plt.subplot(1, 2, 2) \n",
        "plt.title(\"humidity\")\n",
        "plt.boxplot(data['humidity'])"
      ]
    },
    {
      "cell_type": "code",
      "execution_count": 780,
      "metadata": {
        "colab": {
          "base_uri": "https://localhost:8080/",
          "height": 420
        },
        "id": "Vw_Era7jr4Yk",
        "outputId": "dacf6e79-0e49-4bd7-f061-6fb93a0753f5"
      },
      "outputs": [
        {
          "data": {
            "text/plain": [
              "{'whiskers': [<matplotlib.lines.Line2D at 0x7f5cad09b790>,\n",
              "  <matplotlib.lines.Line2D at 0x7f5cad09ba60>],\n",
              " 'caps': [<matplotlib.lines.Line2D at 0x7f5cad09bd30>,\n",
              "  <matplotlib.lines.Line2D at 0x7f5caf7004c0>],\n",
              " 'boxes': [<matplotlib.lines.Line2D at 0x7f5cad09b4c0>],\n",
              " 'medians': [<matplotlib.lines.Line2D at 0x7f5cad0a71f0>],\n",
              " 'fliers': [<matplotlib.lines.Line2D at 0x7f5cad0a74c0>],\n",
              " 'means': []}"
            ]
          },
          "execution_count": 780,
          "metadata": {},
          "output_type": "execute_result"
        },
        {
          "data": {
            "image/png": "[encoded data removed]",
            "text/plain": [
              "<Figure size 432x288 with 2 Axes>"
            ]
          },
          "metadata": {
            "needs_background": "light"
          },
          "output_type": "display_data"
        }
      ],
      "source": [
        "plt.subplot(1, 2, 1) \n",
        "plt.title(\"ph\")\n",
        "plt.boxplot(data['ph'])\n",
        "\n",
        "plt.subplot(1, 2, 2) \n",
        "plt.title(\"rainfall\")\n",
        "plt.boxplot(data['rainfall'])"
      ]
    },
    {
      "cell_type": "code",
      "execution_count": 781,
      "metadata": {
        "colab": {
          "base_uri": "https://localhost:8080/",
          "height": 420
        },
        "id": "Et-EetE1PLk3",
        "outputId": "d8fce44b-0ea7-484b-e6fe-fa2a8d63c5ca"
      },
      "outputs": [
        {
          "data": {
            "text/plain": [
              "{'whiskers': [<matplotlib.lines.Line2D at 0x7f5cb12e77c0>,\n",
              "  <matplotlib.lines.Line2D at 0x7f5cb12e7a90>],\n",
              " 'caps': [<matplotlib.lines.Line2D at 0x7f5cb12e7d60>,\n",
              "  <matplotlib.lines.Line2D at 0x7f5cad040070>],\n",
              " 'boxes': [<matplotlib.lines.Line2D at 0x7f5cb12e74f0>],\n",
              " 'medians': [<matplotlib.lines.Line2D at 0x7f5cad040340>],\n",
              " 'fliers': [<matplotlib.lines.Line2D at 0x7f5cad040610>],\n",
              " 'means': []}"
            ]
          },
          "execution_count": 781,
          "metadata": {},
          "output_type": "execute_result"
        },
        {
          "data": {
            "image/png": "[encoded data removed]",
            "text/plain": [
              "<Figure size 432x288 with 1 Axes>"
            ]
          },
          "metadata": {
            "needs_background": "light"
          },
          "output_type": "display_data"
        }
      ],
      "source": [
        "plt.subplot(1, 2, 1) \n",
        "plt.title(\"K\")\n",
        "plt.boxplot(data['K'])"
      ]
    },
    {
      "cell_type": "code",
      "execution_count": 782,
      "metadata": {
        "id": "rd2bQK_EIeRQ"
      },
      "outputs": [],
      "source": [
        "import numpy as np\n",
        "import matplotlib.pyplot as plt\n",
        "import random\n",
        "from scipy.stats.mstats import winsorize\n",
        "\n",
        "data['P']= winsorize(data['P'],(0.05,0.05))\n",
        "data['temperature']= winsorize(data['temperature'],(0.05,0.05))\n",
        "data['humidity']= winsorize(data['humidity'],(0.05,0.05))\n",
        "data['rainfall']= winsorize(data['rainfall'],(0.05,0.05))\n",
        "data['K']= winsorize(data['K'],(0.05,0.05))\n",
        "data['ph']= winsorize(data['ph'],(0.05,0.05))"
      ]
    },
    {
      "cell_type": "code",
      "execution_count": 783,
      "metadata": {
        "colab": {
          "base_uri": "https://localhost:8080/",
          "height": 281
        },
        "id": "7oAa7KoOPkxW",
        "outputId": "c4610d09-6e50-474b-a1da-a96ecac4dc90"
      },
      "outputs": [
        {
          "data": {
            "image/png": "[encoded data removed]",
            "text/plain": [
              "<Figure size 432x288 with 2 Axes>"
            ]
          },
          "metadata": {
            "needs_background": "light"
          },
          "output_type": "display_data"
        }
      ],
      "source": [
        "from matplotlib import pyplot as plt\n",
        "import numpy as np\n",
        "\n",
        "plt.subplot(1, 2, 1) \n",
        "plt.title(\"N\")\n",
        "plt.boxplot(data['N'])\n",
        "plt.subplot(1, 2, 2) \n",
        "plt.title(\"P\")\n",
        "plt.boxplot(data['P'])\n",
        "plt.show()"
      ]
    },
    {
      "cell_type": "code",
      "execution_count": 784,
      "metadata": {
        "colab": {
          "base_uri": "https://localhost:8080/",
          "height": 420
        },
        "id": "qtX9EDu9PuRc",
        "outputId": "dc2660d4-537a-4d15-983d-0e14289b3902"
      },
      "outputs": [
        {
          "data": {
            "text/plain": [
              "{'whiskers': [<matplotlib.lines.Line2D at 0x7f5cac723b50>,\n",
              "  <matplotlib.lines.Line2D at 0x7f5cac723e20>],\n",
              " 'caps': [<matplotlib.lines.Line2D at 0x7f5cac733130>,\n",
              "  <matplotlib.lines.Line2D at 0x7f5cac733400>],\n",
              " 'boxes': [<matplotlib.lines.Line2D at 0x7f5cac723880>],\n",
              " 'medians': [<matplotlib.lines.Line2D at 0x7f5cac7336d0>],\n",
              " 'fliers': [<matplotlib.lines.Line2D at 0x7f5cac7339a0>],\n",
              " 'means': []}"
            ]
          },
          "execution_count": 784,
          "metadata": {},
          "output_type": "execute_result"
        },
        {
          "data": {
            "image/png": "[encoded data removed]",
            "text/plain": [
              "<Figure size 432x288 with 2 Axes>"
            ]
          },
          "metadata": {
            "needs_background": "light"
          },
          "output_type": "display_data"
        }
      ],
      "source": [
        "plt.subplot(1, 2, 1) \n",
        "plt.title(\"temperature\")\n",
        "plt.boxplot(data['temperature'])\n",
        "\n",
        "plt.subplot(1, 2, 2) \n",
        "plt.title(\"humidity\")\n",
        "plt.boxplot(data['humidity'])"
      ]
    },
    {
      "cell_type": "code",
      "execution_count": 785,
      "metadata": {
        "colab": {
          "base_uri": "https://localhost:8080/",
          "height": 420
        },
        "id": "YsHKlc6vP1Sx",
        "outputId": "6369c58c-80c5-409f-a3ca-323fb8a94bf7"
      },
      "outputs": [
        {
          "data": {
            "text/plain": [
              "{'whiskers': [<matplotlib.lines.Line2D at 0x7f5cac5fe2e0>,\n",
              "  <matplotlib.lines.Line2D at 0x7f5cac5fe5b0>],\n",
              " 'caps': [<matplotlib.lines.Line2D at 0x7f5cac5fe7f0>,\n",
              "  <matplotlib.lines.Line2D at 0x7f5cac5feac0>],\n",
              " 'boxes': [<matplotlib.lines.Line2D at 0x7f5cac66dfd0>],\n",
              " 'medians': [<matplotlib.lines.Line2D at 0x7f5cac5fed90>],\n",
              " 'fliers': [<matplotlib.lines.Line2D at 0x7f5cac60c0a0>],\n",
              " 'means': []}"
            ]
          },
          "execution_count": 785,
          "metadata": {},
          "output_type": "execute_result"
        },
        {
          "data": {
            "image/png": "[encoded data removed]",
            "text/plain": [
              "<Figure size 432x288 with 2 Axes>"
            ]
          },
          "metadata": {
            "needs_background": "light"
          },
          "output_type": "display_data"
        }
      ],
      "source": [
        "plt.subplot(1, 2, 1) \n",
        "plt.title(\"ph\")\n",
        "plt.boxplot(data['ph'])\n",
        "\n",
        "plt.subplot(1, 2, 2) \n",
        "plt.title(\"rainfall\")\n",
        "plt.boxplot(data['rainfall'])"
      ]
    },
    {
      "cell_type": "code",
      "execution_count": 786,
      "metadata": {
        "colab": {
          "base_uri": "https://localhost:8080/",
          "height": 420
        },
        "id": "_Q72yjq7P24a",
        "outputId": "167f114e-3bd6-4db4-ea94-f9af1a09c691"
      },
      "outputs": [
        {
          "data": {
            "text/plain": [
              "{'whiskers': [<matplotlib.lines.Line2D at 0x7f5cac5ecaf0>,\n",
              "  <matplotlib.lines.Line2D at 0x7f5cac5ecdc0>],\n",
              " 'caps': [<matplotlib.lines.Line2D at 0x7f5cac5fa0d0>,\n",
              "  <matplotlib.lines.Line2D at 0x7f5cac5fa3a0>],\n",
              " 'boxes': [<matplotlib.lines.Line2D at 0x7f5cac5ec820>],\n",
              " 'medians': [<matplotlib.lines.Line2D at 0x7f5cac5fa670>],\n",
              " 'fliers': [<matplotlib.lines.Line2D at 0x7f5cac5fa940>],\n",
              " 'means': []}"
            ]
          },
          "execution_count": 786,
          "metadata": {},
          "output_type": "execute_result"
        },
        {
          "data": {
            "image/png": "[encoded data removed]",
            "text/plain": [
              "<Figure size 432x288 with 1 Axes>"
            ]
          },
          "metadata": {
            "needs_background": "light"
          },
          "output_type": "display_data"
        }
      ],
      "source": [
        "plt.subplot(1, 2, 1) \n",
        "plt.title(\"K\")\n",
        "plt.boxplot(data['K'])"
      ]
    },
    {
      "cell_type": "code",
      "execution_count": 788,
      "metadata": {
        "id": "ZwK4vq-zSnHy"
      },
      "outputs": [],
      "source": [
        "data = data.sort_values(by=['label'])"
      ]
    },
    {
      "cell_type": "code",
      "execution_count": 789,
      "metadata": {
        "id": "1vdtN7XxRpuQ"
      },
      "outputs": [],
      "source": [
        "scaler = MinMaxScaler(feature_range=(0, 1))\n",
        "data_scaled = scaler.fit_transform(data)"
      ]
    },
    {
      "cell_type": "code",
      "execution_count": 790,
      "metadata": {
        "colab": {
          "base_uri": "https://localhost:8080/"
        },
        "id": "9WK5uUufVEPL",
        "outputId": "f63ca126-21c0-43df-f353-08f00b647484"
      },
      "outputs": [
        {
          "name": "stdout",
          "output_type": "stream",
          "text": [
            "trainX shape == (2190, 10, 7).\n",
            "trainY shape == (2190, 1).\n"
          ]
        }
      ],
      "source": [
        "trainX = []\n",
        "trainY = []\n",
        "\n",
        "n_future = 1   # Number of days we want to look into the future based on the past days.\n",
        "n_past = 10  # Number of past days we want to use to predict the future.\n",
        "\n",
        "#Reformat input data into a shape: (n_samples x timesteps x n_features)\n",
        "#In my example, my df_for_training_scaled has a shape (12823, 5)\n",
        "#12823 refers to the number of data points and 5 refers to the columns (multi-variables).\n",
        "for i in range(n_past, len(data_scaled) - n_future +1):\n",
        "    trainX.append(data_scaled[i - n_past:i, 0:data_scaled.shape[1]-1])\n",
        "    trainY.append(data_scaled[i + n_future - 1:i + n_future, 7])\n",
        "\n",
        "trainX, trainY = np.array(trainX), np.array(trainY)\n",
        "\n",
        "print('trainX shape == {}.'.format(trainX.shape))\n",
        "print('trainY shape == {}.'.format(trainY.shape))"
      ]
    },
    {
      "cell_type": "code",
      "execution_count": 793,
      "metadata": {
        "colab": {
          "base_uri": "https://localhost:8080/"
        },
        "id": "dQAuRWVgauii",
        "outputId": "601ca35f-a298-48a5-eed0-52076418a8c5"
      },
      "outputs": [
        {
          "data": {
            "text/plain": [
              "10"
            ]
          },
          "execution_count": 793,
          "metadata": {},
          "output_type": "execute_result"
        }
      ],
      "source": [
        "trainX.shape[1]"
      ]
    },
    {
      "cell_type": "code",
      "execution_count": 794,
      "metadata": {
        "id": "L_3ejhpIRpuR"
      },
      "outputs": [],
      "source": [
        "# sgd = tf.keras.optimizers.SGD(learning_rate=0.001)\n",
        "# model = Sequential()\n",
        "# model.add(LSTM(50,activation='relu',input_shape=(trainX.shape[1], trainX.shape[2])))\n",
        "# model.add(Dropout(0.2))\n",
        "# model.add(Dense(1))\n",
        "# model.compile(loss='mean_squared_error', optimizer= sgd ,metrics=[tf.keras.metrics.RootMeanSquaredError()])"
      ]
    },
    {
      "cell_type": "code",
      "execution_count": 795,
      "metadata": {
        "colab": {
          "base_uri": "https://localhost:8080/"
        },
        "id": "ohdFs8nACp7J",
        "outputId": "88ace3e3-4c01-47a9-9f89-1d7a2a7bd07d"
      },
      "outputs": [
        {
          "name": "stdout",
          "output_type": "stream",
          "text": [
            "Model: \"sequential_25\"\n",
            "_________________________________________________________________\n",
            " Layer (type)                Output Shape              Param #   \n",
            "=================================================================\n",
            " lstm_29 (LSTM)              (None, 10, 64)            18432     \n",
            "                                                                 \n",
            " lstm_30 (LSTM)              (None, 32)                12416     \n",
            "                                                                 \n",
            " dropout_22 (Dropout)        (None, 32)                0         \n",
            "                                                                 \n",
            " dense_28 (Dense)            (None, 1)                 33        \n",
            "                                                                 \n",
            "=================================================================\n",
            "Total params: 30,881\n",
            "Trainable params: 30,881\n",
            "Non-trainable params: 0\n",
            "_________________________________________________________________\n"
          ]
        }
      ],
      "source": [
        "model = Sequential()\n",
        "model.add(LSTM(64, activation='relu', input_shape=(trainX.shape[1], trainX.shape[2]), return_sequences=True))\n",
        "model.add(LSTM(32, activation='relu', return_sequences=False))\n",
        "model.add(Dropout(0.2))\n",
        "model.add(Dense(trainY.shape[1]))\n",
        "\n",
        "model.compile(optimizer='adam', loss='mse')\n",
        "model.summary()"
      ]
    },
    {
      "cell_type": "code",
      "execution_count": 796,
      "metadata": {
        "id": "t0jByL9_ep1A"
      },
      "outputs": [],
      "source": [
        "model.compile(loss=MeanSquaredError(), optimizer=Adam(learning_rate=0.001), metrics=[RootMeanSquaredError()])"
      ]
    },
    {
      "cell_type": "code",
      "execution_count": 797,
      "metadata": {
        "colab": {
          "base_uri": "https://localhost:8080/"
        },
        "id": "VokqVSZ8N9z9",
        "outputId": "f9de7afe-1881-4130-bb5e-c4aa2d6dd131"
      },
      "outputs": [
        {
          "name": "stdout",
          "output_type": "stream",
          "text": [
            "Epoch 1/100\n",
            "110/110 - 5s - loss: 0.0646 - root_mean_squared_error: 0.2542 - val_loss: 0.2478 - val_root_mean_squared_error: 0.4978 - 5s/epoch - 45ms/step\n",
            "Epoch 2/100\n",
            "110/110 - 2s - loss: 0.0227 - root_mean_squared_error: 0.1507 - val_loss: 0.1920 - val_root_mean_squared_error: 0.4382 - 2s/epoch - 19ms/step\n",
            "Epoch 3/100\n",
            "110/110 - 2s - loss: 0.0131 - root_mean_squared_error: 0.1146 - val_loss: 0.1083 - val_root_mean_squared_error: 0.3291 - 2s/epoch - 16ms/step\n",
            "Epoch 4/100\n",
            "110/110 - 1s - loss: 0.0067 - root_mean_squared_error: 0.0819 - val_loss: 0.1875 - val_root_mean_squared_error: 0.4330 - 1s/epoch - 14ms/step\n",
            "Epoch 5/100\n",
            "110/110 - 1s - loss: 0.0060 - root_mean_squared_error: 0.0776 - val_loss: 0.1500 - val_root_mean_squared_error: 0.3873 - 1s/epoch - 13ms/step\n",
            "Epoch 6/100\n",
            "110/110 - 1s - loss: 0.0050 - root_mean_squared_error: 0.0708 - val_loss: 0.1471 - val_root_mean_squared_error: 0.3835 - 1s/epoch - 13ms/step\n",
            "Epoch 7/100\n",
            "110/110 - 2s - loss: 0.0046 - root_mean_squared_error: 0.0675 - val_loss: 0.1463 - val_root_mean_squared_error: 0.3824 - 2s/epoch - 14ms/step\n",
            "Epoch 8/100\n",
            "110/110 - 1s - loss: 0.0041 - root_mean_squared_error: 0.0642 - val_loss: 0.1545 - val_root_mean_squared_error: 0.3931 - 1s/epoch - 13ms/step\n",
            "Epoch 9/100\n",
            "110/110 - 1s - loss: 0.0040 - root_mean_squared_error: 0.0636 - val_loss: 0.1451 - val_root_mean_squared_error: 0.3809 - 1s/epoch - 13ms/step\n",
            "Epoch 10/100\n",
            "110/110 - 2s - loss: 0.0039 - root_mean_squared_error: 0.0627 - val_loss: 0.1829 - val_root_mean_squared_error: 0.4276 - 2s/epoch - 22ms/step\n",
            "Epoch 11/100\n",
            "110/110 - 2s - loss: 0.0038 - root_mean_squared_error: 0.0619 - val_loss: 0.1372 - val_root_mean_squared_error: 0.3704 - 2s/epoch - 14ms/step\n",
            "Epoch 12/100\n",
            "110/110 - 2s - loss: 0.0032 - root_mean_squared_error: 0.0566 - val_loss: 0.1602 - val_root_mean_squared_error: 0.4002 - 2s/epoch - 14ms/step\n",
            "Epoch 13/100\n",
            "110/110 - 1s - loss: 0.0028 - root_mean_squared_error: 0.0532 - val_loss: 0.1395 - val_root_mean_squared_error: 0.3735 - 1s/epoch - 13ms/step\n",
            "Epoch 14/100\n",
            "110/110 - 1s - loss: 0.0031 - root_mean_squared_error: 0.0554 - val_loss: 0.1943 - val_root_mean_squared_error: 0.4408 - 1s/epoch - 14ms/step\n",
            "Epoch 15/100\n",
            "110/110 - 2s - loss: 0.0029 - root_mean_squared_error: 0.0537 - val_loss: 0.1524 - val_root_mean_squared_error: 0.3904 - 2s/epoch - 14ms/step\n",
            "Epoch 16/100\n",
            "110/110 - 2s - loss: 0.0027 - root_mean_squared_error: 0.0517 - val_loss: 0.1516 - val_root_mean_squared_error: 0.3894 - 2s/epoch - 19ms/step\n",
            "Epoch 17/100\n",
            "110/110 - 2s - loss: 0.0023 - root_mean_squared_error: 0.0475 - val_loss: 0.1374 - val_root_mean_squared_error: 0.3707 - 2s/epoch - 18ms/step\n",
            "Epoch 18/100\n",
            "110/110 - 2s - loss: 0.0024 - root_mean_squared_error: 0.0487 - val_loss: 0.1499 - val_root_mean_squared_error: 0.3871 - 2s/epoch - 18ms/step\n",
            "Epoch 19/100\n",
            "110/110 - 1s - loss: 0.0025 - root_mean_squared_error: 0.0496 - val_loss: 0.1426 - val_root_mean_squared_error: 0.3776 - 1s/epoch - 14ms/step\n",
            "Epoch 20/100\n",
            "110/110 - 2s - loss: 0.0021 - root_mean_squared_error: 0.0456 - val_loss: 0.1414 - val_root_mean_squared_error: 0.3761 - 2s/epoch - 14ms/step\n",
            "Epoch 21/100\n",
            "110/110 - 1s - loss: 0.0022 - root_mean_squared_error: 0.0474 - val_loss: 0.1401 - val_root_mean_squared_error: 0.3743 - 1s/epoch - 14ms/step\n",
            "Epoch 22/100\n",
            "110/110 - 2s - loss: 0.0021 - root_mean_squared_error: 0.0458 - val_loss: 0.1341 - val_root_mean_squared_error: 0.3662 - 2s/epoch - 14ms/step\n",
            "Epoch 23/100\n",
            "110/110 - 1s - loss: 0.0020 - root_mean_squared_error: 0.0449 - val_loss: 0.1385 - val_root_mean_squared_error: 0.3721 - 1s/epoch - 14ms/step\n",
            "Epoch 24/100\n",
            "110/110 - 1s - loss: 0.0019 - root_mean_squared_error: 0.0440 - val_loss: 0.1419 - val_root_mean_squared_error: 0.3767 - 1s/epoch - 13ms/step\n",
            "Epoch 25/100\n",
            "110/110 - 2s - loss: 0.0019 - root_mean_squared_error: 0.0437 - val_loss: 0.1583 - val_root_mean_squared_error: 0.3979 - 2s/epoch - 22ms/step\n",
            "Epoch 26/100\n",
            "110/110 - 2s - loss: 0.0020 - root_mean_squared_error: 0.0444 - val_loss: 0.1482 - val_root_mean_squared_error: 0.3849 - 2s/epoch - 14ms/step\n",
            "Epoch 27/100\n",
            "110/110 - 1s - loss: 0.0019 - root_mean_squared_error: 0.0435 - val_loss: 0.1473 - val_root_mean_squared_error: 0.3838 - 1s/epoch - 13ms/step\n",
            "Epoch 28/100\n",
            "110/110 - 2s - loss: 0.0018 - root_mean_squared_error: 0.0423 - val_loss: 0.1359 - val_root_mean_squared_error: 0.3686 - 2s/epoch - 14ms/step\n",
            "Epoch 29/100\n",
            "110/110 - 1s - loss: 0.0016 - root_mean_squared_error: 0.0404 - val_loss: 0.1418 - val_root_mean_squared_error: 0.3765 - 1s/epoch - 14ms/step\n",
            "Epoch 30/100\n",
            "110/110 - 2s - loss: 0.0017 - root_mean_squared_error: 0.0412 - val_loss: 0.1351 - val_root_mean_squared_error: 0.3676 - 2s/epoch - 14ms/step\n",
            "Epoch 31/100\n",
            "110/110 - 2s - loss: 0.0018 - root_mean_squared_error: 0.0427 - val_loss: 0.1439 - val_root_mean_squared_error: 0.3794 - 2s/epoch - 14ms/step\n",
            "Epoch 32/100\n",
            "110/110 - 2s - loss: 0.0020 - root_mean_squared_error: 0.0443 - val_loss: 0.1326 - val_root_mean_squared_error: 0.3641 - 2s/epoch - 15ms/step\n",
            "Epoch 33/100\n",
            "110/110 - 2s - loss: 0.0017 - root_mean_squared_error: 0.0410 - val_loss: 0.1458 - val_root_mean_squared_error: 0.3819 - 2s/epoch - 21ms/step\n",
            "Epoch 34/100\n",
            "110/110 - 1s - loss: 0.0017 - root_mean_squared_error: 0.0408 - val_loss: 0.1406 - val_root_mean_squared_error: 0.3750 - 1s/epoch - 13ms/step\n",
            "Epoch 35/100\n",
            "110/110 - 1s - loss: 0.0018 - root_mean_squared_error: 0.0419 - val_loss: 0.1297 - val_root_mean_squared_error: 0.3601 - 1s/epoch - 13ms/step\n",
            "Epoch 36/100\n",
            "110/110 - 1s - loss: 0.0018 - root_mean_squared_error: 0.0428 - val_loss: 0.1389 - val_root_mean_squared_error: 0.3727 - 1s/epoch - 13ms/step\n",
            "Epoch 37/100\n",
            "110/110 - 1s - loss: 0.0017 - root_mean_squared_error: 0.0414 - val_loss: 0.1260 - val_root_mean_squared_error: 0.3549 - 1s/epoch - 14ms/step\n",
            "Epoch 38/100\n",
            "110/110 - 1s - loss: 0.0017 - root_mean_squared_error: 0.0416 - val_loss: 0.1517 - val_root_mean_squared_error: 0.3895 - 1s/epoch - 14ms/step\n",
            "Epoch 39/100\n",
            "110/110 - 2s - loss: 0.0015 - root_mean_squared_error: 0.0392 - val_loss: 0.1251 - val_root_mean_squared_error: 0.3538 - 2s/epoch - 14ms/step\n",
            "Epoch 40/100\n",
            "110/110 - 2s - loss: 0.0018 - root_mean_squared_error: 0.0419 - val_loss: 0.1371 - val_root_mean_squared_error: 0.3702 - 2s/epoch - 17ms/step\n",
            "Epoch 41/100\n",
            "110/110 - 3s - loss: 0.0014 - root_mean_squared_error: 0.0381 - val_loss: 0.1459 - val_root_mean_squared_error: 0.3820 - 3s/epoch - 30ms/step\n",
            "Epoch 42/100\n",
            "110/110 - 2s - loss: 0.0016 - root_mean_squared_error: 0.0399 - val_loss: 0.1490 - val_root_mean_squared_error: 0.3860 - 2s/epoch - 14ms/step\n",
            "Epoch 43/100\n",
            "110/110 - 2s - loss: 0.0017 - root_mean_squared_error: 0.0408 - val_loss: 0.1524 - val_root_mean_squared_error: 0.3903 - 2s/epoch - 14ms/step\n",
            "Epoch 44/100\n",
            "110/110 - 1s - loss: 0.0015 - root_mean_squared_error: 0.0389 - val_loss: 0.1417 - val_root_mean_squared_error: 0.3764 - 1s/epoch - 14ms/step\n",
            "Epoch 45/100\n",
            "110/110 - 1s - loss: 0.0016 - root_mean_squared_error: 0.0401 - val_loss: 0.1453 - val_root_mean_squared_error: 0.3811 - 1s/epoch - 13ms/step\n",
            "Epoch 46/100\n",
            "110/110 - 2s - loss: 0.0016 - root_mean_squared_error: 0.0400 - val_loss: 0.1415 - val_root_mean_squared_error: 0.3762 - 2s/epoch - 14ms/step\n",
            "Epoch 47/100\n",
            "110/110 - 2s - loss: 0.0015 - root_mean_squared_error: 0.0387 - val_loss: 0.1440 - val_root_mean_squared_error: 0.3795 - 2s/epoch - 17ms/step\n",
            "Epoch 48/100\n",
            "110/110 - 2s - loss: 0.0016 - root_mean_squared_error: 0.0399 - val_loss: 0.1396 - val_root_mean_squared_error: 0.3736 - 2s/epoch - 19ms/step\n",
            "Epoch 49/100\n",
            "110/110 - 2s - loss: 0.0016 - root_mean_squared_error: 0.0397 - val_loss: 0.1515 - val_root_mean_squared_error: 0.3893 - 2s/epoch - 14ms/step\n",
            "Epoch 50/100\n",
            "110/110 - 1s - loss: 0.0014 - root_mean_squared_error: 0.0379 - val_loss: 0.1365 - val_root_mean_squared_error: 0.3694 - 1s/epoch - 13ms/step\n",
            "Epoch 51/100\n",
            "110/110 - 1s - loss: 0.0016 - root_mean_squared_error: 0.0394 - val_loss: 0.1251 - val_root_mean_squared_error: 0.3537 - 1s/epoch - 13ms/step\n",
            "Epoch 52/100\n",
            "110/110 - 2s - loss: 0.0016 - root_mean_squared_error: 0.0394 - val_loss: 0.1337 - val_root_mean_squared_error: 0.3657 - 2s/epoch - 14ms/step\n",
            "Epoch 53/100\n",
            "110/110 - 1s - loss: 0.0014 - root_mean_squared_error: 0.0377 - val_loss: 0.1419 - val_root_mean_squared_error: 0.3767 - 1s/epoch - 13ms/step\n",
            "Epoch 54/100\n",
            "110/110 - 1s - loss: 0.0015 - root_mean_squared_error: 0.0383 - val_loss: 0.1446 - val_root_mean_squared_error: 0.3802 - 1s/epoch - 13ms/step\n",
            "Epoch 55/100\n",
            "110/110 - 2s - loss: 0.0017 - root_mean_squared_error: 0.0406 - val_loss: 0.1294 - val_root_mean_squared_error: 0.3597 - 2s/epoch - 18ms/step\n",
            "Epoch 56/100\n",
            "110/110 - 2s - loss: 0.0014 - root_mean_squared_error: 0.0372 - val_loss: 0.1434 - val_root_mean_squared_error: 0.3787 - 2s/epoch - 19ms/step\n",
            "Epoch 57/100\n",
            "110/110 - 1s - loss: 0.0014 - root_mean_squared_error: 0.0372 - val_loss: 0.1363 - val_root_mean_squared_error: 0.3691 - 1s/epoch - 13ms/step\n",
            "Epoch 58/100\n",
            "110/110 - 2s - loss: 0.0016 - root_mean_squared_error: 0.0402 - val_loss: 0.1374 - val_root_mean_squared_error: 0.3707 - 2s/epoch - 14ms/step\n",
            "Epoch 59/100\n",
            "110/110 - 1s - loss: 0.0016 - root_mean_squared_error: 0.0395 - val_loss: 0.1274 - val_root_mean_squared_error: 0.3569 - 1s/epoch - 13ms/step\n",
            "Epoch 60/100\n",
            "110/110 - 1s - loss: 0.0016 - root_mean_squared_error: 0.0397 - val_loss: 0.1392 - val_root_mean_squared_error: 0.3731 - 1s/epoch - 13ms/step\n",
            "Epoch 61/100\n",
            "110/110 - 1s - loss: 0.0013 - root_mean_squared_error: 0.0364 - val_loss: 0.1432 - val_root_mean_squared_error: 0.3784 - 1s/epoch - 13ms/step\n",
            "Epoch 62/100\n",
            "110/110 - 2s - loss: 0.0014 - root_mean_squared_error: 0.0368 - val_loss: 0.1404 - val_root_mean_squared_error: 0.3747 - 2s/epoch - 14ms/step\n",
            "Epoch 63/100\n",
            "110/110 - 2s - loss: 0.0015 - root_mean_squared_error: 0.0384 - val_loss: 0.1446 - val_root_mean_squared_error: 0.3802 - 2s/epoch - 20ms/step\n",
            "Epoch 64/100\n",
            "110/110 - 2s - loss: 0.0016 - root_mean_squared_error: 0.0398 - val_loss: 0.1304 - val_root_mean_squared_error: 0.3611 - 2s/epoch - 17ms/step\n",
            "Epoch 65/100\n",
            "110/110 - 2s - loss: 0.0014 - root_mean_squared_error: 0.0374 - val_loss: 0.1263 - val_root_mean_squared_error: 0.3554 - 2s/epoch - 14ms/step\n",
            "Epoch 66/100\n",
            "110/110 - 1s - loss: 0.0014 - root_mean_squared_error: 0.0376 - val_loss: 0.1555 - val_root_mean_squared_error: 0.3943 - 1s/epoch - 14ms/step\n",
            "Epoch 67/100\n",
            "110/110 - 2s - loss: 0.0015 - root_mean_squared_error: 0.0385 - val_loss: 0.1596 - val_root_mean_squared_error: 0.3995 - 2s/epoch - 14ms/step\n",
            "Epoch 68/100\n",
            "110/110 - 2s - loss: 0.0014 - root_mean_squared_error: 0.0369 - val_loss: 0.1414 - val_root_mean_squared_error: 0.3760 - 2s/epoch - 14ms/step\n",
            "Epoch 69/100\n",
            "110/110 - 2s - loss: 0.0015 - root_mean_squared_error: 0.0392 - val_loss: 0.1337 - val_root_mean_squared_error: 0.3657 - 2s/epoch - 14ms/step\n",
            "Epoch 70/100\n",
            "110/110 - 2s - loss: 0.0014 - root_mean_squared_error: 0.0370 - val_loss: 0.1504 - val_root_mean_squared_error: 0.3879 - 2s/epoch - 14ms/step\n",
            "Epoch 71/100\n",
            "110/110 - 3s - loss: 0.0014 - root_mean_squared_error: 0.0372 - val_loss: 0.1342 - val_root_mean_squared_error: 0.3663 - 3s/epoch - 23ms/step\n",
            "Epoch 72/100\n",
            "110/110 - 2s - loss: 0.0014 - root_mean_squared_error: 0.0380 - val_loss: 0.1262 - val_root_mean_squared_error: 0.3552 - 2s/epoch - 14ms/step\n",
            "Epoch 73/100\n",
            "110/110 - 2s - loss: 0.0013 - root_mean_squared_error: 0.0366 - val_loss: 0.1343 - val_root_mean_squared_error: 0.3665 - 2s/epoch - 14ms/step\n",
            "Epoch 74/100\n",
            "110/110 - 2s - loss: 0.0013 - root_mean_squared_error: 0.0367 - val_loss: 0.1398 - val_root_mean_squared_error: 0.3739 - 2s/epoch - 14ms/step\n",
            "Epoch 75/100\n",
            "110/110 - 2s - loss: 0.0015 - root_mean_squared_error: 0.0383 - val_loss: 0.1281 - val_root_mean_squared_error: 0.3578 - 2s/epoch - 14ms/step\n",
            "Epoch 76/100\n",
            "110/110 - 1s - loss: 0.0013 - root_mean_squared_error: 0.0362 - val_loss: 0.1414 - val_root_mean_squared_error: 0.3760 - 1s/epoch - 13ms/step\n",
            "Epoch 77/100\n",
            "110/110 - 2s - loss: 0.0028 - root_mean_squared_error: 0.0529 - val_loss: 0.1377 - val_root_mean_squared_error: 0.3711 - 2s/epoch - 14ms/step\n",
            "Epoch 78/100\n",
            "110/110 - 2s - loss: 0.0013 - root_mean_squared_error: 0.0363 - val_loss: 0.1266 - val_root_mean_squared_error: 0.3558 - 2s/epoch - 18ms/step\n",
            "Epoch 79/100\n",
            "110/110 - 2s - loss: 0.0014 - root_mean_squared_error: 0.0373 - val_loss: 0.1424 - val_root_mean_squared_error: 0.3773 - 2s/epoch - 19ms/step\n",
            "Epoch 80/100\n",
            "110/110 - 1s - loss: 0.0014 - root_mean_squared_error: 0.0375 - val_loss: 0.1296 - val_root_mean_squared_error: 0.3601 - 1s/epoch - 13ms/step\n",
            "Epoch 81/100\n",
            "110/110 - 1s - loss: 0.0014 - root_mean_squared_error: 0.0371 - val_loss: 0.1360 - val_root_mean_squared_error: 0.3688 - 1s/epoch - 13ms/step\n",
            "Epoch 82/100\n",
            "110/110 - 2s - loss: 0.0013 - root_mean_squared_error: 0.0359 - val_loss: 0.1280 - val_root_mean_squared_error: 0.3578 - 2s/epoch - 14ms/step\n",
            "Epoch 83/100\n",
            "110/110 - 1s - loss: 0.0014 - root_mean_squared_error: 0.0371 - val_loss: 0.1411 - val_root_mean_squared_error: 0.3756 - 1s/epoch - 13ms/step\n",
            "Epoch 84/100\n",
            "110/110 - 1s - loss: 0.0015 - root_mean_squared_error: 0.0382 - val_loss: 0.1289 - val_root_mean_squared_error: 0.3591 - 1s/epoch - 13ms/step\n",
            "Epoch 85/100\n",
            "110/110 - 1s - loss: 0.0012 - root_mean_squared_error: 0.0347 - val_loss: 0.1291 - val_root_mean_squared_error: 0.3593 - 1s/epoch - 14ms/step\n",
            "Epoch 86/100\n",
            "110/110 - 2s - loss: 0.0014 - root_mean_squared_error: 0.0368 - val_loss: 0.1337 - val_root_mean_squared_error: 0.3657 - 2s/epoch - 20ms/step\n",
            "Epoch 87/100\n",
            "110/110 - 2s - loss: 0.0014 - root_mean_squared_error: 0.0373 - val_loss: 0.1373 - val_root_mean_squared_error: 0.3705 - 2s/epoch - 17ms/step\n",
            "Epoch 88/100\n",
            "110/110 - 2s - loss: 0.0014 - root_mean_squared_error: 0.0375 - val_loss: 0.1416 - val_root_mean_squared_error: 0.3763 - 2s/epoch - 14ms/step\n",
            "Epoch 89/100\n",
            "110/110 - 1s - loss: 0.0013 - root_mean_squared_error: 0.0365 - val_loss: 0.1358 - val_root_mean_squared_error: 0.3685 - 1s/epoch - 13ms/step\n",
            "Epoch 90/100\n",
            "110/110 - 1s - loss: 0.0013 - root_mean_squared_error: 0.0361 - val_loss: 0.1222 - val_root_mean_squared_error: 0.3496 - 1s/epoch - 13ms/step\n",
            "Epoch 91/100\n",
            "110/110 - 2s - loss: 0.0013 - root_mean_squared_error: 0.0355 - val_loss: 0.1342 - val_root_mean_squared_error: 0.3664 - 2s/epoch - 14ms/step\n",
            "Epoch 92/100\n",
            "110/110 - 2s - loss: 0.0013 - root_mean_squared_error: 0.0361 - val_loss: 0.1300 - val_root_mean_squared_error: 0.3605 - 2s/epoch - 14ms/step\n",
            "Epoch 93/100\n",
            "110/110 - 2s - loss: 0.0013 - root_mean_squared_error: 0.0355 - val_loss: 0.1377 - val_root_mean_squared_error: 0.3710 - 2s/epoch - 14ms/step\n",
            "Epoch 94/100\n",
            "110/110 - 2s - loss: 0.0013 - root_mean_squared_error: 0.0361 - val_loss: 0.1379 - val_root_mean_squared_error: 0.3713 - 2s/epoch - 21ms/step\n",
            "Epoch 95/100\n",
            "110/110 - 2s - loss: 0.0013 - root_mean_squared_error: 0.0364 - val_loss: 0.1357 - val_root_mean_squared_error: 0.3684 - 2s/epoch - 15ms/step\n",
            "Epoch 96/100\n",
            "110/110 - 1s - loss: 0.0014 - root_mean_squared_error: 0.0378 - val_loss: 0.1347 - val_root_mean_squared_error: 0.3670 - 1s/epoch - 14ms/step\n",
            "Epoch 97/100\n",
            "110/110 - 2s - loss: 0.0013 - root_mean_squared_error: 0.0356 - val_loss: 0.1358 - val_root_mean_squared_error: 0.3685 - 2s/epoch - 14ms/step\n",
            "Epoch 98/100\n",
            "110/110 - 1s - loss: 0.0013 - root_mean_squared_error: 0.0360 - val_loss: 0.1324 - val_root_mean_squared_error: 0.3638 - 1s/epoch - 13ms/step\n",
            "Epoch 99/100\n",
            "110/110 - 1s - loss: 0.0013 - root_mean_squared_error: 0.0367 - val_loss: 0.1372 - val_root_mean_squared_error: 0.3704 - 1s/epoch - 14ms/step\n",
            "Epoch 100/100\n",
            "110/110 - 1s - loss: 0.0014 - root_mean_squared_error: 0.0372 - val_loss: 0.1244 - val_root_mean_squared_error: 0.3527 - 1s/epoch - 14ms/step\n"
          ]
        }
      ],
      "source": [
        "history = model.fit(trainX, trainY, epochs=100, batch_size=16, validation_split=0.2, verbose=2)"
      ]
    },
    {
      "cell_type": "code",
      "execution_count": 799,
      "metadata": {
        "colab": {
          "base_uri": "https://localhost:8080/",
          "height": 282
        },
        "id": "a65aBn2ZcQRw",
        "outputId": "6dd053ba-3223-478f-f544-e56247f681fe"
      },
      "outputs": [
        {
          "data": {
            "text/plain": [
              "<matplotlib.legend.Legend at 0x7f5cabf51bb0>"
            ]
          },
          "execution_count": 799,
          "metadata": {},
          "output_type": "execute_result"
        },
        {
          "data": {
            "image/png": "[encoded data removed]",
            "text/plain": [
              "<Figure size 432x288 with 1 Axes>"
            ]
          },
          "metadata": {
            "needs_background": "light"
          },
          "output_type": "display_data"
        }
      ],
      "source": [
        "plt.plot(history.history['loss'], label='Training loss')\n",
        "plt.plot(history.history['val_loss'], label='Validation loss')\n",
        "plt.legend()"
      ]
    },
    {
      "cell_type": "code",
      "execution_count": 800,
      "metadata": {
        "colab": {
          "base_uri": "https://localhost:8080/"
        },
        "id": "MNrSyH7nRpuS",
        "outputId": "326e7082-1af8-40b0-db5e-72de1993c43f"
      },
      "outputs": [
        {
          "name": "stdout",
          "output_type": "stream",
          "text": [
            "69/69 [==============================] - 1s 7ms/step\n"
          ]
        }
      ],
      "source": [
        "train_predict = model.predict(trainX)"
      ]
    },
    {
      "cell_type": "code",
      "execution_count": 804,
      "metadata": {
        "id": "fQOV4iqcRpuS"
      },
      "outputs": [],
      "source": [
        "trainY = np.repeat(trainY, data_scaled.shape[1], axis=-1)\n",
        "trainY_scaler = scaler.inverse_transform(trainY)[:,0]\n",
        "#train original"
      ]
    },
    {
      "cell_type": "code",
      "execution_count": 805,
      "metadata": {
        "id": "O6A66hbdRpuT"
      },
      "outputs": [],
      "source": [
        "train_predict_new = np.repeat(train_predict, data_scaled.shape[1], axis=-1)\n",
        "train_predict_scaler = scaler.inverse_transform(train_predict_new)[:,0]\n",
        "#train prediction"
      ]
    },
    {
      "cell_type": "code",
      "execution_count": 806,
      "metadata": {
        "colab": {
          "base_uri": "https://localhost:8080/"
        },
        "id": "CPTAmrQpCwKu",
        "outputId": "5bb296a9-4339-4902-cfb3-6f5cb40c3b1c"
      },
      "outputs": [
        {
          "data": {
            "text/plain": [
              "[]"
            ]
          },
          "execution_count": 806,
          "metadata": {},
          "output_type": "execute_result"
        }
      ],
      "source": [
        "neg_nos = [num for num in train_predict_scaler if num < 0]\n",
        "neg_nos"
      ]
    },
    {
      "cell_type": "code",
      "execution_count": 807,
      "metadata": {
        "colab": {
          "base_uri": "https://localhost:8080/",
          "height": 269
        },
        "id": "GCspVrm3RpuT",
        "outputId": "ad08b1d0-15e3-4b8c-e202-9c89b98a990d"
      },
      "outputs": [
        {
          "data": {
            "image/png": "[encoded data removed]",
            "text/plain": [
              "<Figure size 432x288 with 1 Axes>"
            ]
          },
          "metadata": {
            "needs_background": "light"
          },
          "output_type": "display_data"
        }
      ],
      "source": [
        "plt.plot(trainY_scaler[1:2000], label=\"actual\")\n",
        "plt.plot(train_predict_scaler[1:2000], label=\"predicted\")\n",
        "plt.legend()\n",
        "plt.show()"
      ]
    },
    {
      "cell_type": "code",
      "execution_count": 808,
      "metadata": {
        "colab": {
          "base_uri": "https://localhost:8080/",
          "height": 282
        },
        "id": "CdrqIsPuRpuT",
        "outputId": "58d644ad-0b1e-4690-bf1f-c903a9365914"
      },
      "outputs": [
        {
          "data": {
            "text/plain": [
              "[<matplotlib.lines.Line2D at 0x7f5cabddaf10>]"
            ]
          },
          "execution_count": 808,
          "metadata": {},
          "output_type": "execute_result"
        },
        {
          "data": {
            "image/png": "[encoded data removed]",
            "text/plain": [
              "<Figure size 432x288 with 1 Axes>"
            ]
          },
          "metadata": {
            "needs_background": "light"
          },
          "output_type": "display_data"
        }
      ],
      "source": [
        "plt.plot(trainY_scaler, label=\"actual\")"
      ]
    },
    {
      "cell_type": "code",
      "execution_count": 809,
      "metadata": {
        "colab": {
          "base_uri": "https://localhost:8080/",
          "height": 282
        },
        "id": "zg6ZrIr2RpuT",
        "outputId": "20d7fecf-87df-4b0e-9495-7f157722da55"
      },
      "outputs": [
        {
          "data": {
            "text/plain": [
              "[<matplotlib.lines.Line2D at 0x7f5cabd3eb80>]"
            ]
          },
          "execution_count": 809,
          "metadata": {},
          "output_type": "execute_result"
        },
        {
          "data": {
            "image/png": "[encoded data removed]",
            "text/plain": [
              "<Figure size 432x288 with 1 Axes>"
            ]
          },
          "metadata": {
            "needs_background": "light"
          },
          "output_type": "display_data"
        }
      ],
      "source": [
        "plt.plot(train_predict_scaler, label=\"predicted\")"
      ]
    },
    {
      "cell_type": "code",
      "execution_count": 810,
      "metadata": {
        "colab": {
          "base_uri": "https://localhost:8080/"
        },
        "id": "px6ISEBJRpuT",
        "outputId": "c6994621-ec95-405b-d909-37f1d8b988e4"
      },
      "outputs": [
        {
          "name": "stdout",
          "output_type": "stream",
          "text": [
            "train data\n",
            "R2 score = 0.7242710856280934\n"
          ]
        }
      ],
      "source": [
        "print(\"train data\") \n",
        "print(\"R2 score =\", r2_score(trainY_scaler,train_predict_scaler))"
      ]
    },
    {
      "cell_type": "code",
      "execution_count": 811,
      "metadata": {
        "colab": {
          "base_uri": "https://localhost:8080/"
        },
        "id": "azoXDB5uRpuT",
        "outputId": "373e5309-77f7-40e4-b1d0-b22eb843296c"
      },
      "outputs": [
        {
          "name": "stdout",
          "output_type": "stream",
          "text": [
            "Root Mean Square Error:\n",
            "\n",
            "22.12019936008653\n"
          ]
        }
      ],
      "source": [
        "MSE = np.square(np.subtract(trainY_scaler,train_predict_scaler)).mean()   \n",
        "   \n",
        "rsme = math.sqrt(MSE)  \n",
        "print(\"Root Mean Square Error:\\n\")  \n",
        "print(rsme)  "
      ]
    },
    {
      "cell_type": "code",
      "execution_count": 812,
      "metadata": {
        "colab": {
          "base_uri": "https://localhost:8080/",
          "height": 423
        },
        "id": "68JGS05yRpuU",
        "outputId": "f72e839b-d520-4ad9-c5b7-9e26d30ab15d"
      },
      "outputs": [
        {
          "data": {
            "text/html": [
              "\n",
              "  <div id=\"df-8e0e7276-8add-4b11-ad9f-1b5416cd6367\">\n",
              "    <div class=\"colab-df-container\">\n",
              "      <div>\n",
              "<style scoped>\n",
              "    .dataframe tbody tr th:only-of-type {\n",
              "        vertical-align: middle;\n",
              "    }\n",
              "\n",
              "    .dataframe tbody tr th {\n",
              "        vertical-align: top;\n",
              "    }\n",
              "\n",
              "    .dataframe thead th {\n",
              "        text-align: right;\n",
              "    }\n",
              "</style>\n",
              "<table border=\"1\" class=\"dataframe\">\n",
              "  <thead>\n",
              "    <tr style=\"text-align: right;\">\n",
              "      <th></th>\n",
              "      <th>Val Predictions</th>\n",
              "      <th>Actuals</th>\n",
              "    </tr>\n",
              "  </thead>\n",
              "  <tbody>\n",
              "    <tr>\n",
              "      <th>0</th>\n",
              "      <td>1.495607</td>\n",
              "      <td>0.0</td>\n",
              "    </tr>\n",
              "    <tr>\n",
              "      <th>1</th>\n",
              "      <td>1.083761</td>\n",
              "      <td>0.0</td>\n",
              "    </tr>\n",
              "    <tr>\n",
              "      <th>2</th>\n",
              "      <td>1.139637</td>\n",
              "      <td>0.0</td>\n",
              "    </tr>\n",
              "    <tr>\n",
              "      <th>3</th>\n",
              "      <td>1.665855</td>\n",
              "      <td>0.0</td>\n",
              "    </tr>\n",
              "    <tr>\n",
              "      <th>4</th>\n",
              "      <td>1.466877</td>\n",
              "      <td>0.0</td>\n",
              "    </tr>\n",
              "    <tr>\n",
              "      <th>...</th>\n",
              "      <td>...</td>\n",
              "      <td>...</td>\n",
              "    </tr>\n",
              "    <tr>\n",
              "      <th>2185</th>\n",
              "      <td>98.935875</td>\n",
              "      <td>140.0</td>\n",
              "    </tr>\n",
              "    <tr>\n",
              "      <th>2186</th>\n",
              "      <td>98.470581</td>\n",
              "      <td>140.0</td>\n",
              "    </tr>\n",
              "    <tr>\n",
              "      <th>2187</th>\n",
              "      <td>98.476639</td>\n",
              "      <td>140.0</td>\n",
              "    </tr>\n",
              "    <tr>\n",
              "      <th>2188</th>\n",
              "      <td>98.776306</td>\n",
              "      <td>140.0</td>\n",
              "    </tr>\n",
              "    <tr>\n",
              "      <th>2189</th>\n",
              "      <td>98.931755</td>\n",
              "      <td>140.0</td>\n",
              "    </tr>\n",
              "  </tbody>\n",
              "</table>\n",
              "<p>2190 rows × 2 columns</p>\n",
              "</div>\n",
              "      <button class=\"colab-df-convert\" onclick=\"convertToInteractive('df-8e0e7276-8add-4b11-ad9f-1b5416cd6367')\"\n",
              "              title=\"Convert this dataframe to an interactive table.\"\n",
              "              style=\"display:none;\">\n",
              "        \n",
              "  <svg xmlns=\"http://www.w3.org/2000/svg\" height=\"24px\"viewBox=\"0 0 24 24\"\n",
              "       width=\"24px\">\n",
              "    <path d=\"M0 0h24v24H0V0z\" fill=\"none\"/>\n",
              "    <path d=\"M18.56 5.44l.94 2.06.94-2.06 2.06-.94-2.06-.94-.94-2.06-.94 2.06-2.06.94zm-11 1L8.5 8.5l.94-2.06 2.06-.94-2.06-.94L8.5 2.5l-.94 2.06-2.06.94zm10 10l.94 2.06.94-2.06 2.06-.94-2.06-.94-.94-2.06-.94 2.06-2.06.94z\"/><path d=\"M17.41 7.96l-1.37-1.37c-.4-.4-.92-.59-1.43-.59-.52 0-1.04.2-1.43.59L10.3 9.45l-7.72 7.72c-.78.78-.78 2.05 0 2.83L4 21.41c.39.39.9.59 1.41.59.51 0 1.02-.2 1.41-.59l7.78-7.78 2.81-2.81c.8-.78.8-2.07 0-2.86zM5.41 20L4 18.59l7.72-7.72 1.47 1.35L5.41 20z\"/>\n",
              "  </svg>\n",
              "      </button>\n",
              "      \n",
              "  <style>\n",
              "    .colab-df-container {\n",
              "      display:flex;\n",
              "      flex-wrap:wrap;\n",
              "      gap: 12px;\n",
              "    }\n",
              "\n",
              "    .colab-df-convert {\n",
              "      background-color: #E8F0FE;\n",
              "      border: none;\n",
              "      border-radius: 50%;\n",
              "      cursor: pointer;\n",
              "      display: none;\n",
              "      fill: #1967D2;\n",
              "      height: 32px;\n",
              "      padding: 0 0 0 0;\n",
              "      width: 32px;\n",
              "    }\n",
              "\n",
              "    .colab-df-convert:hover {\n",
              "      background-color: #E2EBFA;\n",
              "      box-shadow: 0px 1px 2px rgba(60, 64, 67, 0.3), 0px 1px 3px 1px rgba(60, 64, 67, 0.15);\n",
              "      fill: #174EA6;\n",
              "    }\n",
              "\n",
              "    [theme=dark] .colab-df-convert {\n",
              "      background-color: #3B4455;\n",
              "      fill: #D2E3FC;\n",
              "    }\n",
              "\n",
              "    [theme=dark] .colab-df-convert:hover {\n",
              "      background-color: #434B5C;\n",
              "      box-shadow: 0px 1px 3px 1px rgba(0, 0, 0, 0.15);\n",
              "      filter: drop-shadow(0px 1px 2px rgba(0, 0, 0, 0.3));\n",
              "      fill: #FFFFFF;\n",
              "    }\n",
              "  </style>\n",
              "\n",
              "      <script>\n",
              "        const buttonEl =\n",
              "          document.querySelector('#df-8e0e7276-8add-4b11-ad9f-1b5416cd6367 button.colab-df-convert');\n",
              "        buttonEl.style.display =\n",
              "          google.colab.kernel.accessAllowed ? 'block' : 'none';\n",
              "\n",
              "        async function convertToInteractive(key) {\n",
              "          const element = document.querySelector('#df-8e0e7276-8add-4b11-ad9f-1b5416cd6367');\n",
              "          const dataTable =\n",
              "            await google.colab.kernel.invokeFunction('convertToInteractive',\n",
              "                                                     [key], {});\n",
              "          if (!dataTable) return;\n",
              "\n",
              "          const docLinkHtml = 'Like what you see? Visit the ' +\n",
              "            '<a target=\"_blank\" href=https://colab.research.google.com/notebooks/data_table.ipynb>data table notebook</a>'\n",
              "            + ' to learn more about interactive tables.';\n",
              "          element.innerHTML = '';\n",
              "          dataTable['output_type'] = 'display_data';\n",
              "          await google.colab.output.renderOutput(dataTable, element);\n",
              "          const docLink = document.createElement('div');\n",
              "          docLink.innerHTML = docLinkHtml;\n",
              "          element.appendChild(docLink);\n",
              "        }\n",
              "      </script>\n",
              "    </div>\n",
              "  </div>\n",
              "  "
            ],
            "text/plain": [
              "      Val Predictions  Actuals\n",
              "0            1.495607      0.0\n",
              "1            1.083761      0.0\n",
              "2            1.139637      0.0\n",
              "3            1.665855      0.0\n",
              "4            1.466877      0.0\n",
              "...               ...      ...\n",
              "2185        98.935875    140.0\n",
              "2186        98.470581    140.0\n",
              "2187        98.476639    140.0\n",
              "2188        98.776306    140.0\n",
              "2189        98.931755    140.0\n",
              "\n",
              "[2190 rows x 2 columns]"
            ]
          },
          "execution_count": 812,
          "metadata": {},
          "output_type": "execute_result"
        }
      ],
      "source": [
        "val_results = pd.DataFrame(data={'Val Predictions':train_predict_scaler, 'Actuals':trainY_scaler})\n",
        "val_results"
      ]
    },
    {
      "cell_type": "code",
      "execution_count": 813,
      "metadata": {
        "colab": {
          "base_uri": "https://localhost:8080/"
        },
        "id": "-RXK1a-z03Vw",
        "outputId": "24c670bc-c5dc-4077-837c-a16d248a422c"
      },
      "outputs": [
        {
          "name": "stdout",
          "output_type": "stream",
          "text": [
            "Unique elements of the list using numpy.unique():\n",
            "\n",
            "[  0.           6.66666667  13.33333333  20.          26.66666667\n",
            "  33.33333333  40.          46.66666667  53.33333333  60.\n",
            "  66.66666667  73.33333333  80.          86.66666667  93.33333333\n",
            " 100.         106.66666667 113.33333333 120.         126.66666667\n",
            " 133.33333333 140.        ]\n"
          ]
        }
      ],
      "source": [
        "res = np.array(trainY_scaler) \n",
        "unique_res = np.unique(res) \n",
        "print(\"Unique elements of the list using numpy.unique():\\n\")\n",
        "print(unique_res)"
      ]
    },
    {
      "cell_type": "code",
      "execution_count": 814,
      "metadata": {
        "id": "lPvgmDkL15ys"
      },
      "outputs": [],
      "source": [
        "new_predicetd = []\n",
        "for j in train_predict_scaler:\n",
        "  temp = []\n",
        "  for k in unique_res:\n",
        "    diff = j - k\n",
        "    diff = int(abs(diff))\n",
        "    temp.append(diff)\n",
        "  value = min(temp)\n",
        "  ind = temp.index(value)\n",
        "  new_predicetd.append(unique_res[ind])"
      ]
    },
    {
      "cell_type": "code",
      "execution_count": 815,
      "metadata": {
        "colab": {
          "base_uri": "https://localhost:8080/"
        },
        "id": "tr9GvvLJ9DFR",
        "outputId": "69377f35-97c0-48d1-f2f9-34dc24875219"
      },
      "outputs": [
        {
          "name": "stdout",
          "output_type": "stream",
          "text": [
            "train data\n",
            "R2 score = 0.7181918443438347\n"
          ]
        }
      ],
      "source": [
        "print(\"train data\") \n",
        "print(\"R2 score =\", r2_score(trainY_scaler,new_predicetd))"
      ]
    },
    {
      "cell_type": "code",
      "execution_count": 816,
      "metadata": {
        "colab": {
          "base_uri": "https://localhost:8080/"
        },
        "id": "YB3-fIDE_a2m",
        "outputId": "d69b76b3-acad-43fa-c8a5-cf2dfa4f6fd1"
      },
      "outputs": [
        {
          "data": {
            "text/plain": [
              "2190"
            ]
          },
          "execution_count": 816,
          "metadata": {},
          "output_type": "execute_result"
        }
      ],
      "source": [
        "len(new_predicetd)"
      ]
    },
    {
      "cell_type": "code",
      "execution_count": 817,
      "metadata": {
        "colab": {
          "base_uri": "https://localhost:8080/",
          "height": 423
        },
        "id": "PodcpnVc9EmA",
        "outputId": "ace14d66-83da-4923-dd16-9b6158ca347c"
      },
      "outputs": [
        {
          "data": {
            "text/html": [
              "\n",
              "  <div id=\"df-e278725e-5d5b-401f-97b9-d1ad3fca6816\">\n",
              "    <div class=\"colab-df-container\">\n",
              "      <div>\n",
              "<style scoped>\n",
              "    .dataframe tbody tr th:only-of-type {\n",
              "        vertical-align: middle;\n",
              "    }\n",
              "\n",
              "    .dataframe tbody tr th {\n",
              "        vertical-align: top;\n",
              "    }\n",
              "\n",
              "    .dataframe thead th {\n",
              "        text-align: right;\n",
              "    }\n",
              "</style>\n",
              "<table border=\"1\" class=\"dataframe\">\n",
              "  <thead>\n",
              "    <tr style=\"text-align: right;\">\n",
              "      <th></th>\n",
              "      <th>Val Predictions</th>\n",
              "      <th>Actuals</th>\n",
              "    </tr>\n",
              "  </thead>\n",
              "  <tbody>\n",
              "    <tr>\n",
              "      <th>0</th>\n",
              "      <td>0.0</td>\n",
              "      <td>0.0</td>\n",
              "    </tr>\n",
              "    <tr>\n",
              "      <th>1</th>\n",
              "      <td>0.0</td>\n",
              "      <td>0.0</td>\n",
              "    </tr>\n",
              "    <tr>\n",
              "      <th>2</th>\n",
              "      <td>0.0</td>\n",
              "      <td>0.0</td>\n",
              "    </tr>\n",
              "    <tr>\n",
              "      <th>3</th>\n",
              "      <td>0.0</td>\n",
              "      <td>0.0</td>\n",
              "    </tr>\n",
              "    <tr>\n",
              "      <th>4</th>\n",
              "      <td>0.0</td>\n",
              "      <td>0.0</td>\n",
              "    </tr>\n",
              "    <tr>\n",
              "      <th>...</th>\n",
              "      <td>...</td>\n",
              "      <td>...</td>\n",
              "    </tr>\n",
              "    <tr>\n",
              "      <th>2185</th>\n",
              "      <td>100.0</td>\n",
              "      <td>140.0</td>\n",
              "    </tr>\n",
              "    <tr>\n",
              "      <th>2186</th>\n",
              "      <td>100.0</td>\n",
              "      <td>140.0</td>\n",
              "    </tr>\n",
              "    <tr>\n",
              "      <th>2187</th>\n",
              "      <td>100.0</td>\n",
              "      <td>140.0</td>\n",
              "    </tr>\n",
              "    <tr>\n",
              "      <th>2188</th>\n",
              "      <td>100.0</td>\n",
              "      <td>140.0</td>\n",
              "    </tr>\n",
              "    <tr>\n",
              "      <th>2189</th>\n",
              "      <td>100.0</td>\n",
              "      <td>140.0</td>\n",
              "    </tr>\n",
              "  </tbody>\n",
              "</table>\n",
              "<p>2190 rows × 2 columns</p>\n",
              "</div>\n",
              "      <button class=\"colab-df-convert\" onclick=\"convertToInteractive('df-e278725e-5d5b-401f-97b9-d1ad3fca6816')\"\n",
              "              title=\"Convert this dataframe to an interactive table.\"\n",
              "              style=\"display:none;\">\n",
              "        \n",
              "  <svg xmlns=\"http://www.w3.org/2000/svg\" height=\"24px\"viewBox=\"0 0 24 24\"\n",
              "       width=\"24px\">\n",
              "    <path d=\"M0 0h24v24H0V0z\" fill=\"none\"/>\n",
              "    <path d=\"M18.56 5.44l.94 2.06.94-2.06 2.06-.94-2.06-.94-.94-2.06-.94 2.06-2.06.94zm-11 1L8.5 8.5l.94-2.06 2.06-.94-2.06-.94L8.5 2.5l-.94 2.06-2.06.94zm10 10l.94 2.06.94-2.06 2.06-.94-2.06-.94-.94-2.06-.94 2.06-2.06.94z\"/><path d=\"M17.41 7.96l-1.37-1.37c-.4-.4-.92-.59-1.43-.59-.52 0-1.04.2-1.43.59L10.3 9.45l-7.72 7.72c-.78.78-.78 2.05 0 2.83L4 21.41c.39.39.9.59 1.41.59.51 0 1.02-.2 1.41-.59l7.78-7.78 2.81-2.81c.8-.78.8-2.07 0-2.86zM5.41 20L4 18.59l7.72-7.72 1.47 1.35L5.41 20z\"/>\n",
              "  </svg>\n",
              "      </button>\n",
              "      \n",
              "  <style>\n",
              "    .colab-df-container {\n",
              "      display:flex;\n",
              "      flex-wrap:wrap;\n",
              "      gap: 12px;\n",
              "    }\n",
              "\n",
              "    .colab-df-convert {\n",
              "      background-color: #E8F0FE;\n",
              "      border: none;\n",
              "      border-radius: 50%;\n",
              "      cursor: pointer;\n",
              "      display: none;\n",
              "      fill: #1967D2;\n",
              "      height: 32px;\n",
              "      padding: 0 0 0 0;\n",
              "      width: 32px;\n",
              "    }\n",
              "\n",
              "    .colab-df-convert:hover {\n",
              "      background-color: #E2EBFA;\n",
              "      box-shadow: 0px 1px 2px rgba(60, 64, 67, 0.3), 0px 1px 3px 1px rgba(60, 64, 67, 0.15);\n",
              "      fill: #174EA6;\n",
              "    }\n",
              "\n",
              "    [theme=dark] .colab-df-convert {\n",
              "      background-color: #3B4455;\n",
              "      fill: #D2E3FC;\n",
              "    }\n",
              "\n",
              "    [theme=dark] .colab-df-convert:hover {\n",
              "      background-color: #434B5C;\n",
              "      box-shadow: 0px 1px 3px 1px rgba(0, 0, 0, 0.15);\n",
              "      filter: drop-shadow(0px 1px 2px rgba(0, 0, 0, 0.3));\n",
              "      fill: #FFFFFF;\n",
              "    }\n",
              "  </style>\n",
              "\n",
              "      <script>\n",
              "        const buttonEl =\n",
              "          document.querySelector('#df-e278725e-5d5b-401f-97b9-d1ad3fca6816 button.colab-df-convert');\n",
              "        buttonEl.style.display =\n",
              "          google.colab.kernel.accessAllowed ? 'block' : 'none';\n",
              "\n",
              "        async function convertToInteractive(key) {\n",
              "          const element = document.querySelector('#df-e278725e-5d5b-401f-97b9-d1ad3fca6816');\n",
              "          const dataTable =\n",
              "            await google.colab.kernel.invokeFunction('convertToInteractive',\n",
              "                                                     [key], {});\n",
              "          if (!dataTable) return;\n",
              "\n",
              "          const docLinkHtml = 'Like what you see? Visit the ' +\n",
              "            '<a target=\"_blank\" href=https://colab.research.google.com/notebooks/data_table.ipynb>data table notebook</a>'\n",
              "            + ' to learn more about interactive tables.';\n",
              "          element.innerHTML = '';\n",
              "          dataTable['output_type'] = 'display_data';\n",
              "          await google.colab.output.renderOutput(dataTable, element);\n",
              "          const docLink = document.createElement('div');\n",
              "          docLink.innerHTML = docLinkHtml;\n",
              "          element.appendChild(docLink);\n",
              "        }\n",
              "      </script>\n",
              "    </div>\n",
              "  </div>\n",
              "  "
            ],
            "text/plain": [
              "      Val Predictions  Actuals\n",
              "0                 0.0      0.0\n",
              "1                 0.0      0.0\n",
              "2                 0.0      0.0\n",
              "3                 0.0      0.0\n",
              "4                 0.0      0.0\n",
              "...               ...      ...\n",
              "2185            100.0    140.0\n",
              "2186            100.0    140.0\n",
              "2187            100.0    140.0\n",
              "2188            100.0    140.0\n",
              "2189            100.0    140.0\n",
              "\n",
              "[2190 rows x 2 columns]"
            ]
          },
          "execution_count": 817,
          "metadata": {},
          "output_type": "execute_result"
        }
      ],
      "source": [
        "val_results = pd.DataFrame(data={'Val Predictions':new_predicetd, 'Actuals':trainY_scaler})\n",
        "val_results"
      ]
    }
  ],
  "metadata": {
    "colab": {
      "provenance": []
    },
    "kernelspec": {
      "display_name": "Python 3",
      "language": "python",
      "name": "python3"
    },
    "language_info": {
      "codemirror_mode": {
        "name": "ipython",
        "version": 3
      },
      "file_extension": ".py",
      "mimetype": "text/x-python",
      "name": "python",
      "nbconvert_exporter": "python",
      "pygments_lexer": "ipython3",
      "version": "3.10.10"
    },
    "orig_nbformat": 4
  },
  "nbformat": 4,
  "nbformat_minor": 0
}
