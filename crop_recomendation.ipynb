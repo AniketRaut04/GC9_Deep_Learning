{
  "cells": [
    {
      "cell_type": "code",
      "execution_count": null,
      "metadata": {
        "id": "VbbsiRtwRpuL"
      },
      "outputs": [],
      "source": [
        "import numpy as np\n",
        "from tensorflow.keras.models import Sequential\n",
        "from tensorflow.keras.layers import LSTM\n",
        "from tensorflow.keras.layers import Dense, Dropout\n",
        "import pandas as pd\n",
        "from matplotlib import pyplot as plt\n",
        "from sklearn.preprocessing import StandardScaler\n",
        "import seaborn as sns\n",
        "import sklearn.metrics as sm\n",
        "import math\n",
        "from sklearn.metrics import r2_score\n",
        "import tensorflow as tf\n",
        "from sklearn.preprocessing import MinMaxScaler\n",
        "from tensorflow.keras.models import Sequential\n",
        "from tensorflow.keras.layers import *\n",
        "from tensorflow.keras.callbacks import ModelCheckpoint\n",
        "from tensorflow.keras.losses import MeanSquaredError\n",
        "from tensorflow.keras.metrics import RootMeanSquaredError\n",
        "from tensorflow.keras.optimizers import Adam"
      ]
    },
    {
      "cell_type": "code",
      "execution_count": null,
      "metadata": {
        "id": "5A2UqFYRRpuN"
      },
      "outputs": [],
      "source": [
        "data = pd.read_csv(\"crop.csv\")"
      ]
    },
    {
      "cell_type": "code",
      "execution_count": null,
      "metadata": {
        "colab": {
          "base_uri": "https://localhost:8080/",
          "height": 206
        },
        "id": "ItLVDbohRpuN",
        "outputId": "10b751c9-cda3-4f0a-88ac-cf3d826eefdc"
      },
      "outputs": [
        {
          "data": {
            "text/html": [
              "\n",
              "  <div id=\"df-c47b0ba5-ff4a-4cae-ab26-57c42d636892\">\n",
              "    <div class=\"colab-df-container\">\n",
              "      <div>\n",
              "<style scoped>\n",
              "    .dataframe tbody tr th:only-of-type {\n",
              "        vertical-align: middle;\n",
              "    }\n",
              "\n",
              "    .dataframe tbody tr th {\n",
              "        vertical-align: top;\n",
              "    }\n",
              "\n",
              "    .dataframe thead th {\n",
              "        text-align: right;\n",
              "    }\n",
              "</style>\n",
              "<table border=\"1\" class=\"dataframe\">\n",
              "  <thead>\n",
              "    <tr style=\"text-align: right;\">\n",
              "      <th></th>\n",
              "      <th>N</th>\n",
              "      <th>P</th>\n",
              "      <th>K</th>\n",
              "      <th>temperature</th>\n",
              "      <th>humidity</th>\n",
              "      <th>ph</th>\n",
              "      <th>rainfall</th>\n",
              "      <th>label</th>\n",
              "    </tr>\n",
              "  </thead>\n",
              "  <tbody>\n",
              "    <tr>\n",
              "      <th>0</th>\n",
              "      <td>90</td>\n",
              "      <td>42</td>\n",
              "      <td>43</td>\n",
              "      <td>20.879744</td>\n",
              "      <td>82.002744</td>\n",
              "      <td>6.502985</td>\n",
              "      <td>202.935536</td>\n",
              "      <td>rice</td>\n",
              "    </tr>\n",
              "    <tr>\n",
              "      <th>1</th>\n",
              "      <td>85</td>\n",
              "      <td>58</td>\n",
              "      <td>41</td>\n",
              "      <td>21.770462</td>\n",
              "      <td>80.319644</td>\n",
              "      <td>7.038096</td>\n",
              "      <td>226.655537</td>\n",
              "      <td>rice</td>\n",
              "    </tr>\n",
              "    <tr>\n",
              "      <th>2</th>\n",
              "      <td>60</td>\n",
              "      <td>55</td>\n",
              "      <td>44</td>\n",
              "      <td>23.004459</td>\n",
              "      <td>82.320763</td>\n",
              "      <td>7.840207</td>\n",
              "      <td>263.964248</td>\n",
              "      <td>rice</td>\n",
              "    </tr>\n",
              "    <tr>\n",
              "      <th>3</th>\n",
              "      <td>74</td>\n",
              "      <td>35</td>\n",
              "      <td>40</td>\n",
              "      <td>26.491096</td>\n",
              "      <td>80.158363</td>\n",
              "      <td>6.980401</td>\n",
              "      <td>242.864034</td>\n",
              "      <td>rice</td>\n",
              "    </tr>\n",
              "    <tr>\n",
              "      <th>4</th>\n",
              "      <td>78</td>\n",
              "      <td>42</td>\n",
              "      <td>42</td>\n",
              "      <td>20.130175</td>\n",
              "      <td>81.604873</td>\n",
              "      <td>7.628473</td>\n",
              "      <td>262.717340</td>\n",
              "      <td>rice</td>\n",
              "    </tr>\n",
              "  </tbody>\n",
              "</table>\n",
              "</div>\n",
              "      <button class=\"colab-df-convert\" onclick=\"convertToInteractive('df-c47b0ba5-ff4a-4cae-ab26-57c42d636892')\"\n",
              "              title=\"Convert this dataframe to an interactive table.\"\n",
              "              style=\"display:none;\">\n",
              "        \n",
              "  <svg xmlns=\"http://www.w3.org/2000/svg\" height=\"24px\"viewBox=\"0 0 24 24\"\n",
              "       width=\"24px\">\n",
              "    <path d=\"M0 0h24v24H0V0z\" fill=\"none\"/>\n",
              "    <path d=\"M18.56 5.44l.94 2.06.94-2.06 2.06-.94-2.06-.94-.94-2.06-.94 2.06-2.06.94zm-11 1L8.5 8.5l.94-2.06 2.06-.94-2.06-.94L8.5 2.5l-.94 2.06-2.06.94zm10 10l.94 2.06.94-2.06 2.06-.94-2.06-.94-.94-2.06-.94 2.06-2.06.94z\"/><path d=\"M17.41 7.96l-1.37-1.37c-.4-.4-.92-.59-1.43-.59-.52 0-1.04.2-1.43.59L10.3 9.45l-7.72 7.72c-.78.78-.78 2.05 0 2.83L4 21.41c.39.39.9.59 1.41.59.51 0 1.02-.2 1.41-.59l7.78-7.78 2.81-2.81c.8-.78.8-2.07 0-2.86zM5.41 20L4 18.59l7.72-7.72 1.47 1.35L5.41 20z\"/>\n",
              "  </svg>\n",
              "      </button>\n",
              "      \n",
              "  <style>\n",
              "    .colab-df-container {\n",
              "      display:flex;\n",
              "      flex-wrap:wrap;\n",
              "      gap: 12px;\n",
              "    }\n",
              "\n",
              "    .colab-df-convert {\n",
              "      background-color: #E8F0FE;\n",
              "      border: none;\n",
              "      border-radius: 50%;\n",
              "      cursor: pointer;\n",
              "      display: none;\n",
              "      fill: #1967D2;\n",
              "      height: 32px;\n",
              "      padding: 0 0 0 0;\n",
              "      width: 32px;\n",
              "    }\n",
              "\n",
              "    .colab-df-convert:hover {\n",
              "      background-color: #E2EBFA;\n",
              "      box-shadow: 0px 1px 2px rgba(60, 64, 67, 0.3), 0px 1px 3px 1px rgba(60, 64, 67, 0.15);\n",
              "      fill: #174EA6;\n",
              "    }\n",
              "\n",
              "    [theme=dark] .colab-df-convert {\n",
              "      background-color: #3B4455;\n",
              "      fill: #D2E3FC;\n",
              "    }\n",
              "\n",
              "    [theme=dark] .colab-df-convert:hover {\n",
              "      background-color: #434B5C;\n",
              "      box-shadow: 0px 1px 3px 1px rgba(0, 0, 0, 0.15);\n",
              "      filter: drop-shadow(0px 1px 2px rgba(0, 0, 0, 0.3));\n",
              "      fill: #FFFFFF;\n",
              "    }\n",
              "  </style>\n",
              "\n",
              "      <script>\n",
              "        const buttonEl =\n",
              "          document.querySelector('#df-c47b0ba5-ff4a-4cae-ab26-57c42d636892 button.colab-df-convert');\n",
              "        buttonEl.style.display =\n",
              "          google.colab.kernel.accessAllowed ? 'block' : 'none';\n",
              "\n",
              "        async function convertToInteractive(key) {\n",
              "          const element = document.querySelector('#df-c47b0ba5-ff4a-4cae-ab26-57c42d636892');\n",
              "          const dataTable =\n",
              "            await google.colab.kernel.invokeFunction('convertToInteractive',\n",
              "                                                     [key], {});\n",
              "          if (!dataTable) return;\n",
              "\n",
              "          const docLinkHtml = 'Like what you see? Visit the ' +\n",
              "            '<a target=\"_blank\" href=https://colab.research.google.com/notebooks/data_table.ipynb>data table notebook</a>'\n",
              "            + ' to learn more about interactive tables.';\n",
              "          element.innerHTML = '';\n",
              "          dataTable['output_type'] = 'display_data';\n",
              "          await google.colab.output.renderOutput(dataTable, element);\n",
              "          const docLink = document.createElement('div');\n",
              "          docLink.innerHTML = docLinkHtml;\n",
              "          element.appendChild(docLink);\n",
              "        }\n",
              "      </script>\n",
              "    </div>\n",
              "  </div>\n",
              "  "
            ],
            "text/plain": [
              "    N   P   K  temperature   humidity        ph    rainfall label\n",
              "0  90  42  43    20.879744  82.002744  6.502985  202.935536  rice\n",
              "1  85  58  41    21.770462  80.319644  7.038096  226.655537  rice\n",
              "2  60  55  44    23.004459  82.320763  7.840207  263.964248  rice\n",
              "3  74  35  40    26.491096  80.158363  6.980401  242.864034  rice\n",
              "4  78  42  42    20.130175  81.604873  7.628473  262.717340  rice"
            ]
          },
          "execution_count": 93,
          "metadata": {},
          "output_type": "execute_result"
        }
      ],
      "source": [
        "data.head()"
      ]
    },
    {
      "cell_type": "code",
      "execution_count": null,
      "metadata": {
        "colab": {
          "base_uri": "https://localhost:8080/",
          "height": 206
        },
        "id": "agL7wNweRpuO",
        "outputId": "64033828-f867-4a26-9359-f687fe90b8e4"
      },
      "outputs": [
        {
          "data": {
            "text/html": [
              "\n",
              "  <div id=\"df-7408941b-ffc6-437c-8402-12252b1dfc53\">\n",
              "    <div class=\"colab-df-container\">\n",
              "      <div>\n",
              "<style scoped>\n",
              "    .dataframe tbody tr th:only-of-type {\n",
              "        vertical-align: middle;\n",
              "    }\n",
              "\n",
              "    .dataframe tbody tr th {\n",
              "        vertical-align: top;\n",
              "    }\n",
              "\n",
              "    .dataframe thead th {\n",
              "        text-align: right;\n",
              "    }\n",
              "</style>\n",
              "<table border=\"1\" class=\"dataframe\">\n",
              "  <thead>\n",
              "    <tr style=\"text-align: right;\">\n",
              "      <th></th>\n",
              "      <th>N</th>\n",
              "      <th>P</th>\n",
              "      <th>K</th>\n",
              "      <th>temperature</th>\n",
              "      <th>humidity</th>\n",
              "      <th>ph</th>\n",
              "      <th>rainfall</th>\n",
              "      <th>label</th>\n",
              "    </tr>\n",
              "  </thead>\n",
              "  <tbody>\n",
              "    <tr>\n",
              "      <th>0</th>\n",
              "      <td>90</td>\n",
              "      <td>42</td>\n",
              "      <td>43</td>\n",
              "      <td>20.879744</td>\n",
              "      <td>82.002744</td>\n",
              "      <td>6.502985</td>\n",
              "      <td>202.935536</td>\n",
              "      <td>20</td>\n",
              "    </tr>\n",
              "    <tr>\n",
              "      <th>1</th>\n",
              "      <td>85</td>\n",
              "      <td>58</td>\n",
              "      <td>41</td>\n",
              "      <td>21.770462</td>\n",
              "      <td>80.319644</td>\n",
              "      <td>7.038096</td>\n",
              "      <td>226.655537</td>\n",
              "      <td>20</td>\n",
              "    </tr>\n",
              "    <tr>\n",
              "      <th>2</th>\n",
              "      <td>60</td>\n",
              "      <td>55</td>\n",
              "      <td>44</td>\n",
              "      <td>23.004459</td>\n",
              "      <td>82.320763</td>\n",
              "      <td>7.840207</td>\n",
              "      <td>263.964248</td>\n",
              "      <td>20</td>\n",
              "    </tr>\n",
              "    <tr>\n",
              "      <th>3</th>\n",
              "      <td>74</td>\n",
              "      <td>35</td>\n",
              "      <td>40</td>\n",
              "      <td>26.491096</td>\n",
              "      <td>80.158363</td>\n",
              "      <td>6.980401</td>\n",
              "      <td>242.864034</td>\n",
              "      <td>20</td>\n",
              "    </tr>\n",
              "    <tr>\n",
              "      <th>4</th>\n",
              "      <td>78</td>\n",
              "      <td>42</td>\n",
              "      <td>42</td>\n",
              "      <td>20.130175</td>\n",
              "      <td>81.604873</td>\n",
              "      <td>7.628473</td>\n",
              "      <td>262.717340</td>\n",
              "      <td>20</td>\n",
              "    </tr>\n",
              "  </tbody>\n",
              "</table>\n",
              "</div>\n",
              "      <button class=\"colab-df-convert\" onclick=\"convertToInteractive('df-7408941b-ffc6-437c-8402-12252b1dfc53')\"\n",
              "              title=\"Convert this dataframe to an interactive table.\"\n",
              "              style=\"display:none;\">\n",
              "        \n",
              "  <svg xmlns=\"http://www.w3.org/2000/svg\" height=\"24px\"viewBox=\"0 0 24 24\"\n",
              "       width=\"24px\">\n",
              "    <path d=\"M0 0h24v24H0V0z\" fill=\"none\"/>\n",
              "    <path d=\"M18.56 5.44l.94 2.06.94-2.06 2.06-.94-2.06-.94-.94-2.06-.94 2.06-2.06.94zm-11 1L8.5 8.5l.94-2.06 2.06-.94-2.06-.94L8.5 2.5l-.94 2.06-2.06.94zm10 10l.94 2.06.94-2.06 2.06-.94-2.06-.94-.94-2.06-.94 2.06-2.06.94z\"/><path d=\"M17.41 7.96l-1.37-1.37c-.4-.4-.92-.59-1.43-.59-.52 0-1.04.2-1.43.59L10.3 9.45l-7.72 7.72c-.78.78-.78 2.05 0 2.83L4 21.41c.39.39.9.59 1.41.59.51 0 1.02-.2 1.41-.59l7.78-7.78 2.81-2.81c.8-.78.8-2.07 0-2.86zM5.41 20L4 18.59l7.72-7.72 1.47 1.35L5.41 20z\"/>\n",
              "  </svg>\n",
              "      </button>\n",
              "      \n",
              "  <style>\n",
              "    .colab-df-container {\n",
              "      display:flex;\n",
              "      flex-wrap:wrap;\n",
              "      gap: 12px;\n",
              "    }\n",
              "\n",
              "    .colab-df-convert {\n",
              "      background-color: #E8F0FE;\n",
              "      border: none;\n",
              "      border-radius: 50%;\n",
              "      cursor: pointer;\n",
              "      display: none;\n",
              "      fill: #1967D2;\n",
              "      height: 32px;\n",
              "      padding: 0 0 0 0;\n",
              "      width: 32px;\n",
              "    }\n",
              "\n",
              "    .colab-df-convert:hover {\n",
              "      background-color: #E2EBFA;\n",
              "      box-shadow: 0px 1px 2px rgba(60, 64, 67, 0.3), 0px 1px 3px 1px rgba(60, 64, 67, 0.15);\n",
              "      fill: #174EA6;\n",
              "    }\n",
              "\n",
              "    [theme=dark] .colab-df-convert {\n",
              "      background-color: #3B4455;\n",
              "      fill: #D2E3FC;\n",
              "    }\n",
              "\n",
              "    [theme=dark] .colab-df-convert:hover {\n",
              "      background-color: #434B5C;\n",
              "      box-shadow: 0px 1px 3px 1px rgba(0, 0, 0, 0.15);\n",
              "      filter: drop-shadow(0px 1px 2px rgba(0, 0, 0, 0.3));\n",
              "      fill: #FFFFFF;\n",
              "    }\n",
              "  </style>\n",
              "\n",
              "      <script>\n",
              "        const buttonEl =\n",
              "          document.querySelector('#df-7408941b-ffc6-437c-8402-12252b1dfc53 button.colab-df-convert');\n",
              "        buttonEl.style.display =\n",
              "          google.colab.kernel.accessAllowed ? 'block' : 'none';\n",
              "\n",
              "        async function convertToInteractive(key) {\n",
              "          const element = document.querySelector('#df-7408941b-ffc6-437c-8402-12252b1dfc53');\n",
              "          const dataTable =\n",
              "            await google.colab.kernel.invokeFunction('convertToInteractive',\n",
              "                                                     [key], {});\n",
              "          if (!dataTable) return;\n",
              "\n",
              "          const docLinkHtml = 'Like what you see? Visit the ' +\n",
              "            '<a target=\"_blank\" href=https://colab.research.google.com/notebooks/data_table.ipynb>data table notebook</a>'\n",
              "            + ' to learn more about interactive tables.';\n",
              "          element.innerHTML = '';\n",
              "          dataTable['output_type'] = 'display_data';\n",
              "          await google.colab.output.renderOutput(dataTable, element);\n",
              "          const docLink = document.createElement('div');\n",
              "          docLink.innerHTML = docLinkHtml;\n",
              "          element.appendChild(docLink);\n",
              "        }\n",
              "      </script>\n",
              "    </div>\n",
              "  </div>\n",
              "  "
            ],
            "text/plain": [
              "    N   P   K  temperature   humidity        ph    rainfall  label\n",
              "0  90  42  43    20.879744  82.002744  6.502985  202.935536     20\n",
              "1  85  58  41    21.770462  80.319644  7.038096  226.655537     20\n",
              "2  60  55  44    23.004459  82.320763  7.840207  263.964248     20\n",
              "3  74  35  40    26.491096  80.158363  6.980401  242.864034     20\n",
              "4  78  42  42    20.130175  81.604873  7.628473  262.717340     20"
            ]
          },
          "execution_count": 94,
          "metadata": {},
          "output_type": "execute_result"
        }
      ],
      "source": [
        "from sklearn.preprocessing import LabelEncoder\n",
        "labelencoder = LabelEncoder()\n",
        "# data['State_Name'] = labelencoder.fit_transform(data['State_Name'])\n",
        "# data['District_Name'] = labelencoder.fit_transform(data['District_Name'])\n",
        "# data['Crop'] = labelencoder.fit_transform(data['Crop'])\n",
        "data['label'] = labelencoder.fit_transform(data['label'])\n",
        "data.head()"
      ]
    },
    {
      "cell_type": "code",
      "execution_count": null,
      "metadata": {
        "id": "F3SJ8zfqRpuO"
      },
      "outputs": [],
      "source": [
        "data = data.astype(float)\n"
      ]
    },
    {
      "cell_type": "code",
      "execution_count": null,
      "metadata": {
        "colab": {
          "base_uri": "https://localhost:8080/",
          "height": 206
        },
        "id": "O2QCVaHGRpuO",
        "outputId": "93208809-b9d4-4e05-af0c-33557aac3aed"
      },
      "outputs": [
        {
          "data": {
            "text/html": [
              "\n",
              "  <div id=\"df-385ccf11-0751-466f-9a7b-66cb5b2050b7\">\n",
              "    <div class=\"colab-df-container\">\n",
              "      <div>\n",
              "<style scoped>\n",
              "    .dataframe tbody tr th:only-of-type {\n",
              "        vertical-align: middle;\n",
              "    }\n",
              "\n",
              "    .dataframe tbody tr th {\n",
              "        vertical-align: top;\n",
              "    }\n",
              "\n",
              "    .dataframe thead th {\n",
              "        text-align: right;\n",
              "    }\n",
              "</style>\n",
              "<table border=\"1\" class=\"dataframe\">\n",
              "  <thead>\n",
              "    <tr style=\"text-align: right;\">\n",
              "      <th></th>\n",
              "      <th>N</th>\n",
              "      <th>P</th>\n",
              "      <th>K</th>\n",
              "      <th>temperature</th>\n",
              "      <th>humidity</th>\n",
              "      <th>ph</th>\n",
              "      <th>rainfall</th>\n",
              "      <th>label</th>\n",
              "    </tr>\n",
              "  </thead>\n",
              "  <tbody>\n",
              "    <tr>\n",
              "      <th>0</th>\n",
              "      <td>90.0</td>\n",
              "      <td>42.0</td>\n",
              "      <td>43.0</td>\n",
              "      <td>20.879744</td>\n",
              "      <td>82.002744</td>\n",
              "      <td>6.502985</td>\n",
              "      <td>202.935536</td>\n",
              "      <td>20.0</td>\n",
              "    </tr>\n",
              "    <tr>\n",
              "      <th>1</th>\n",
              "      <td>85.0</td>\n",
              "      <td>58.0</td>\n",
              "      <td>41.0</td>\n",
              "      <td>21.770462</td>\n",
              "      <td>80.319644</td>\n",
              "      <td>7.038096</td>\n",
              "      <td>226.655537</td>\n",
              "      <td>20.0</td>\n",
              "    </tr>\n",
              "    <tr>\n",
              "      <th>2</th>\n",
              "      <td>60.0</td>\n",
              "      <td>55.0</td>\n",
              "      <td>44.0</td>\n",
              "      <td>23.004459</td>\n",
              "      <td>82.320763</td>\n",
              "      <td>7.840207</td>\n",
              "      <td>263.964248</td>\n",
              "      <td>20.0</td>\n",
              "    </tr>\n",
              "    <tr>\n",
              "      <th>3</th>\n",
              "      <td>74.0</td>\n",
              "      <td>35.0</td>\n",
              "      <td>40.0</td>\n",
              "      <td>26.491096</td>\n",
              "      <td>80.158363</td>\n",
              "      <td>6.980401</td>\n",
              "      <td>242.864034</td>\n",
              "      <td>20.0</td>\n",
              "    </tr>\n",
              "    <tr>\n",
              "      <th>4</th>\n",
              "      <td>78.0</td>\n",
              "      <td>42.0</td>\n",
              "      <td>42.0</td>\n",
              "      <td>20.130175</td>\n",
              "      <td>81.604873</td>\n",
              "      <td>7.628473</td>\n",
              "      <td>262.717340</td>\n",
              "      <td>20.0</td>\n",
              "    </tr>\n",
              "  </tbody>\n",
              "</table>\n",
              "</div>\n",
              "      <button class=\"colab-df-convert\" onclick=\"convertToInteractive('df-385ccf11-0751-466f-9a7b-66cb5b2050b7')\"\n",
              "              title=\"Convert this dataframe to an interactive table.\"\n",
              "              style=\"display:none;\">\n",
              "        \n",
              "  <svg xmlns=\"http://www.w3.org/2000/svg\" height=\"24px\"viewBox=\"0 0 24 24\"\n",
              "       width=\"24px\">\n",
              "    <path d=\"M0 0h24v24H0V0z\" fill=\"none\"/>\n",
              "    <path d=\"M18.56 5.44l.94 2.06.94-2.06 2.06-.94-2.06-.94-.94-2.06-.94 2.06-2.06.94zm-11 1L8.5 8.5l.94-2.06 2.06-.94-2.06-.94L8.5 2.5l-.94 2.06-2.06.94zm10 10l.94 2.06.94-2.06 2.06-.94-2.06-.94-.94-2.06-.94 2.06-2.06.94z\"/><path d=\"M17.41 7.96l-1.37-1.37c-.4-.4-.92-.59-1.43-.59-.52 0-1.04.2-1.43.59L10.3 9.45l-7.72 7.72c-.78.78-.78 2.05 0 2.83L4 21.41c.39.39.9.59 1.41.59.51 0 1.02-.2 1.41-.59l7.78-7.78 2.81-2.81c.8-.78.8-2.07 0-2.86zM5.41 20L4 18.59l7.72-7.72 1.47 1.35L5.41 20z\"/>\n",
              "  </svg>\n",
              "      </button>\n",
              "      \n",
              "  <style>\n",
              "    .colab-df-container {\n",
              "      display:flex;\n",
              "      flex-wrap:wrap;\n",
              "      gap: 12px;\n",
              "    }\n",
              "\n",
              "    .colab-df-convert {\n",
              "      background-color: #E8F0FE;\n",
              "      border: none;\n",
              "      border-radius: 50%;\n",
              "      cursor: pointer;\n",
              "      display: none;\n",
              "      fill: #1967D2;\n",
              "      height: 32px;\n",
              "      padding: 0 0 0 0;\n",
              "      width: 32px;\n",
              "    }\n",
              "\n",
              "    .colab-df-convert:hover {\n",
              "      background-color: #E2EBFA;\n",
              "      box-shadow: 0px 1px 2px rgba(60, 64, 67, 0.3), 0px 1px 3px 1px rgba(60, 64, 67, 0.15);\n",
              "      fill: #174EA6;\n",
              "    }\n",
              "\n",
              "    [theme=dark] .colab-df-convert {\n",
              "      background-color: #3B4455;\n",
              "      fill: #D2E3FC;\n",
              "    }\n",
              "\n",
              "    [theme=dark] .colab-df-convert:hover {\n",
              "      background-color: #434B5C;\n",
              "      box-shadow: 0px 1px 3px 1px rgba(0, 0, 0, 0.15);\n",
              "      filter: drop-shadow(0px 1px 2px rgba(0, 0, 0, 0.3));\n",
              "      fill: #FFFFFF;\n",
              "    }\n",
              "  </style>\n",
              "\n",
              "      <script>\n",
              "        const buttonEl =\n",
              "          document.querySelector('#df-385ccf11-0751-466f-9a7b-66cb5b2050b7 button.colab-df-convert');\n",
              "        buttonEl.style.display =\n",
              "          google.colab.kernel.accessAllowed ? 'block' : 'none';\n",
              "\n",
              "        async function convertToInteractive(key) {\n",
              "          const element = document.querySelector('#df-385ccf11-0751-466f-9a7b-66cb5b2050b7');\n",
              "          const dataTable =\n",
              "            await google.colab.kernel.invokeFunction('convertToInteractive',\n",
              "                                                     [key], {});\n",
              "          if (!dataTable) return;\n",
              "\n",
              "          const docLinkHtml = 'Like what you see? Visit the ' +\n",
              "            '<a target=\"_blank\" href=https://colab.research.google.com/notebooks/data_table.ipynb>data table notebook</a>'\n",
              "            + ' to learn more about interactive tables.';\n",
              "          element.innerHTML = '';\n",
              "          dataTable['output_type'] = 'display_data';\n",
              "          await google.colab.output.renderOutput(dataTable, element);\n",
              "          const docLink = document.createElement('div');\n",
              "          docLink.innerHTML = docLinkHtml;\n",
              "          element.appendChild(docLink);\n",
              "        }\n",
              "      </script>\n",
              "    </div>\n",
              "  </div>\n",
              "  "
            ],
            "text/plain": [
              "      N     P     K  temperature   humidity        ph    rainfall  label\n",
              "0  90.0  42.0  43.0    20.879744  82.002744  6.502985  202.935536   20.0\n",
              "1  85.0  58.0  41.0    21.770462  80.319644  7.038096  226.655537   20.0\n",
              "2  60.0  55.0  44.0    23.004459  82.320763  7.840207  263.964248   20.0\n",
              "3  74.0  35.0  40.0    26.491096  80.158363  6.980401  242.864034   20.0\n",
              "4  78.0  42.0  42.0    20.130175  81.604873  7.628473  262.717340   20.0"
            ]
          },
          "execution_count": 96,
          "metadata": {},
          "output_type": "execute_result"
        }
      ],
      "source": [
        "data.head()"
      ]
    },
    {
      "cell_type": "code",
      "execution_count": null,
      "metadata": {
        "colab": {
          "base_uri": "https://localhost:8080/",
          "height": 452
        },
        "id": "anVDwUroIeEo",
        "outputId": "10fdc6e5-8ee9-4c04-c1f1-212ee848458a"
      },
      "outputs": [
        {
          "data": {
            "image/png": "[encoded data removed]",
            "text/plain": [
              "<Figure size 640x480 with 2 Axes>"
            ]
          },
          "metadata": {},
          "output_type": "display_data"
        }
      ],
      "source": [
        "# data = data[data['Production'].notna()]\n",
        "from matplotlib import pyplot as plt\n",
        "import numpy as np\n",
        "\n",
        "plt.subplot(1, 2, 1) \n",
        "plt.title(\"N\")\n",
        "plt.boxplot(data['N'])\n",
        " \n",
        "plt.subplot(1, 2, 2) \n",
        "plt.title(\"P\")\n",
        "plt.boxplot(data['P'])\n",
        " \n",
        "plt.show()"
      ]
    },
    {
      "cell_type": "code",
      "execution_count": null,
      "metadata": {
        "colab": {
          "base_uri": "https://localhost:8080/",
          "height": 591
        },
        "id": "_cK76rSsIeNe",
        "outputId": "e424818d-9d62-4aa8-f91c-44f4355fcd9a"
      },
      "outputs": [
        {
          "data": {
            "text/plain": [
              "{'whiskers': [<matplotlib.lines.Line2D at 0x7f968eda1340>,\n",
              "  <matplotlib.lines.Line2D at 0x7f968eda15e0>],\n",
              " 'caps': [<matplotlib.lines.Line2D at 0x7f968eda1880>,\n",
              "  <matplotlib.lines.Line2D at 0x7f968eda1b20>],\n",
              " 'boxes': [<matplotlib.lines.Line2D at 0x7f968eda10a0>],\n",
              " 'medians': [<matplotlib.lines.Line2D at 0x7f968eda1dc0>],\n",
              " 'fliers': [<matplotlib.lines.Line2D at 0x7f968edaf0a0>],\n",
              " 'means': []}"
            ]
          },
          "execution_count": 98,
          "metadata": {},
          "output_type": "execute_result"
        },
        {
          "data": {
            "image/png": "[encoded data removed]",
            "text/plain": [
              "<Figure size 640x480 with 2 Axes>"
            ]
          },
          "metadata": {},
          "output_type": "display_data"
        }
      ],
      "source": [
        "plt.subplot(1, 2, 1) \n",
        "plt.title(\"temperature\")\n",
        "plt.boxplot(data['temperature'])\n",
        "\n",
        "plt.subplot(1, 2, 2) \n",
        "plt.title(\"humidity\")\n",
        "plt.boxplot(data['humidity'])"
      ]
    },
    {
      "cell_type": "code",
      "execution_count": null,
      "metadata": {
        "colab": {
          "base_uri": "https://localhost:8080/",
          "height": 591
        },
        "id": "Vw_Era7jr4Yk",
        "outputId": "2b59a45e-8258-4e6c-93c0-a39d6ccc376d"
      },
      "outputs": [
        {
          "data": {
            "text/plain": [
              "{'whiskers': [<matplotlib.lines.Line2D at 0x7f968eee1490>,\n",
              "  <matplotlib.lines.Line2D at 0x7f968eecfb80>],\n",
              " 'caps': [<matplotlib.lines.Line2D at 0x7f968eecf190>,\n",
              "  <matplotlib.lines.Line2D at 0x7f968eecf8e0>],\n",
              " 'boxes': [<matplotlib.lines.Line2D at 0x7f968eee12b0>],\n",
              " 'medians': [<matplotlib.lines.Line2D at 0x7f968eecf310>],\n",
              " 'fliers': [<matplotlib.lines.Line2D at 0x7f968eecff40>],\n",
              " 'means': []}"
            ]
          },
          "execution_count": 99,
          "metadata": {},
          "output_type": "execute_result"
        },
        {
          "data": {
            "image/png": "[encoded data removed]",
            "text/plain": [
              "<Figure size 640x480 with 2 Axes>"
            ]
          },
          "metadata": {},
          "output_type": "display_data"
        }
      ],
      "source": [
        "plt.subplot(1, 2, 1) \n",
        "plt.title(\"ph\")\n",
        "plt.boxplot(data['ph'])\n",
        "\n",
        "plt.subplot(1, 2, 2) \n",
        "plt.title(\"rainfall\")\n",
        "plt.boxplot(data['rainfall'])"
      ]
    },
    {
      "cell_type": "code",
      "execution_count": null,
      "metadata": {
        "colab": {
          "base_uri": "https://localhost:8080/",
          "height": 591
        },
        "id": "Et-EetE1PLk3",
        "outputId": "6442a92d-1ec4-4aef-bbd9-22ab64d33abc"
      },
      "outputs": [
        {
          "data": {
            "text/plain": [
              "{'whiskers': [<matplotlib.lines.Line2D at 0x7f9694e3c220>,\n",
              "  <matplotlib.lines.Line2D at 0x7f9694e3c370>],\n",
              " 'caps': [<matplotlib.lines.Line2D at 0x7f9694e430a0>,\n",
              "  <matplotlib.lines.Line2D at 0x7f9694e43ac0>],\n",
              " 'boxes': [<matplotlib.lines.Line2D at 0x7f9694e3c1c0>],\n",
              " 'medians': [<matplotlib.lines.Line2D at 0x7f9694e39970>],\n",
              " 'fliers': [<matplotlib.lines.Line2D at 0x7f9694e394f0>],\n",
              " 'means': []}"
            ]
          },
          "execution_count": 100,
          "metadata": {},
          "output_type": "execute_result"
        },
        {
          "data": {
            "image/png": "[encoded data removed]",
            "text/plain": [
              "<Figure size 640x480 with 1 Axes>"
            ]
          },
          "metadata": {},
          "output_type": "display_data"
        }
      ],
      "source": [
        "plt.subplot(1, 2, 1) \n",
        "plt.title(\"K\")\n",
        "plt.boxplot(data['K'])"
      ]
    },
    {
      "cell_type": "code",
      "execution_count": null,
      "metadata": {
        "id": "rd2bQK_EIeRQ"
      },
      "outputs": [],
      "source": [
        "import numpy as np\n",
        "import matplotlib.pyplot as plt\n",
        "import random\n",
        "from scipy.stats.mstats import winsorize\n",
        "\n",
        "data['P']= winsorize(data['P'],(0.05,0.05))\n",
        "data['temperature']= winsorize(data['temperature'],(0.05,0.05))\n",
        "data['humidity']= winsorize(data['humidity'],(0.05,0.05))\n",
        "data['rainfall']= winsorize(data['rainfall'],(0.05,0.05))\n",
        "data['K']= winsorize(data['K'],(0.05,0.05))\n",
        "data['ph']= winsorize(data['ph'],(0.05,0.05))\n"
      ]
    },
    {
      "cell_type": "code",
      "execution_count": null,
      "metadata": {
        "colab": {
          "base_uri": "https://localhost:8080/",
          "height": 452
        },
        "id": "7oAa7KoOPkxW",
        "outputId": "40947ff5-cede-49d7-e165-2e95f892cdab"
      },
      "outputs": [
        {
          "data": {
            "image/png": "[encoded data removed]",
            "text/plain": [
              "<Figure size 640x480 with 2 Axes>"
            ]
          },
          "metadata": {},
          "output_type": "display_data"
        }
      ],
      "source": [
        "from matplotlib import pyplot as plt\n",
        "import numpy as np\n",
        "\n",
        "plt.subplot(1, 2, 1) \n",
        "plt.title(\"N\")\n",
        "plt.boxplot(data['N'])\n",
        " \n",
        "plt.subplot(1, 2, 2) \n",
        "plt.title(\"P\")\n",
        "plt.boxplot(data['P'])\n",
        " \n",
        "\n",
        "plt.show()"
      ]
    },
    {
      "cell_type": "code",
      "execution_count": null,
      "metadata": {
        "colab": {
          "base_uri": "https://localhost:8080/",
          "height": 591
        },
        "id": "qtX9EDu9PuRc",
        "outputId": "650fb8f4-3175-4548-a8ba-f223a48bdf10"
      },
      "outputs": [
        {
          "data": {
            "text/plain": [
              "{'whiskers': [<matplotlib.lines.Line2D at 0x7f96975f15b0>,\n",
              "  <matplotlib.lines.Line2D at 0x7f96975f1c40>],\n",
              " 'caps': [<matplotlib.lines.Line2D at 0x7f96975f1100>,\n",
              "  <matplotlib.lines.Line2D at 0x7f96975f13d0>],\n",
              " 'boxes': [<matplotlib.lines.Line2D at 0x7f96975f1f10>],\n",
              " 'medians': [<matplotlib.lines.Line2D at 0x7f96975f1370>],\n",
              " 'fliers': [<matplotlib.lines.Line2D at 0x7f96975a1790>],\n",
              " 'means': []}"
            ]
          },
          "execution_count": 103,
          "metadata": {},
          "output_type": "execute_result"
        },
        {
          "data": {
            "image/png": "[encoded data removed]",
            "text/plain": [
              "<Figure size 640x480 with 2 Axes>"
            ]
          },
          "metadata": {},
          "output_type": "display_data"
        }
      ],
      "source": [
        "plt.subplot(1, 2, 1) \n",
        "plt.title(\"temperature\")\n",
        "plt.boxplot(data['temperature'])\n",
        "\n",
        "plt.subplot(1, 2, 2) \n",
        "plt.title(\"humidity\")\n",
        "plt.boxplot(data['humidity'])"
      ]
    },
    {
      "cell_type": "code",
      "execution_count": null,
      "metadata": {
        "colab": {
          "base_uri": "https://localhost:8080/",
          "height": 591
        },
        "id": "YsHKlc6vP1Sx",
        "outputId": "99c613aa-d763-4633-bdcf-7299248c1919"
      },
      "outputs": [
        {
          "data": {
            "text/plain": [
              "{'whiskers': [<matplotlib.lines.Line2D at 0x7f968e5d31c0>,\n",
              "  <matplotlib.lines.Line2D at 0x7f968e5d3340>],\n",
              " 'caps': [<matplotlib.lines.Line2D at 0x7f9694b8ea00>,\n",
              "  <matplotlib.lines.Line2D at 0x7f9694b8e340>],\n",
              " 'boxes': [<matplotlib.lines.Line2D at 0x7f9694bd9b20>],\n",
              " 'medians': [<matplotlib.lines.Line2D at 0x7f9694b8ebb0>],\n",
              " 'fliers': [<matplotlib.lines.Line2D at 0x7f9694b8e880>],\n",
              " 'means': []}"
            ]
          },
          "execution_count": 104,
          "metadata": {},
          "output_type": "execute_result"
        },
        {
          "data": {
            "image/png": "[encoded data removed]",
            "text/plain": [
              "<Figure size 640x480 with 2 Axes>"
            ]
          },
          "metadata": {},
          "output_type": "display_data"
        }
      ],
      "source": [
        "plt.subplot(1, 2, 1) \n",
        "plt.title(\"ph\")\n",
        "plt.boxplot(data['ph'])\n",
        "\n",
        "plt.subplot(1, 2, 2) \n",
        "plt.title(\"rainfall\")\n",
        "plt.boxplot(data['rainfall'])"
      ]
    },
    {
      "cell_type": "code",
      "execution_count": null,
      "metadata": {
        "colab": {
          "base_uri": "https://localhost:8080/",
          "height": 591
        },
        "id": "_Q72yjq7P24a",
        "outputId": "db8252cc-540a-4bd0-eeda-6e5bbd701d8f"
      },
      "outputs": [
        {
          "data": {
            "text/plain": [
              "{'whiskers': [<matplotlib.lines.Line2D at 0x7f96974e0bb0>,\n",
              "  <matplotlib.lines.Line2D at 0x7f96974e0a30>],\n",
              " 'caps': [<matplotlib.lines.Line2D at 0x7f96974e04c0>,\n",
              "  <matplotlib.lines.Line2D at 0x7f96974e0220>],\n",
              " 'boxes': [<matplotlib.lines.Line2D at 0x7f96974e0700>],\n",
              " 'medians': [<matplotlib.lines.Line2D at 0x7f9697597670>],\n",
              " 'fliers': [<matplotlib.lines.Line2D at 0x7f96975970a0>],\n",
              " 'means': []}"
            ]
          },
          "execution_count": 105,
          "metadata": {},
          "output_type": "execute_result"
        },
        {
          "data": {
            "image/png": "[encoded data removed]",
            "text/plain": [
              "<Figure size 640x480 with 1 Axes>"
            ]
          },
          "metadata": {},
          "output_type": "display_data"
        }
      ],
      "source": [
        "plt.subplot(1, 2, 1) \n",
        "plt.title(\"K\")\n",
        "plt.boxplot(data['K'])"
      ]
    },
    {
      "cell_type": "code",
      "execution_count": null,
      "metadata": {
        "colab": {
          "base_uri": "https://localhost:8080/"
        },
        "id": "ja-Ti44jQEHY",
        "outputId": "8aee3b9c-2a68-489c-e41c-1c46fd6df48d"
      },
      "outputs": [
        {
          "name": "stdout",
          "output_type": "stream",
          "text": [
            "train length -> 1540   test length-> 660\n"
          ]
        }
      ],
      "source": [
        "from sklearn.model_selection import train_test_split\n",
        "\n",
        "train, test = train_test_split(data, test_size=0.3)\n",
        "print(\"train length ->\",len(train),\"  test length->\",len(test))"
      ]
    },
    {
      "cell_type": "code",
      "execution_count": null,
      "metadata": {
        "colab": {
          "base_uri": "https://localhost:8080/"
        },
        "id": "ZwK4vq-zSnHy",
        "outputId": "de46f85d-4ed5-4331-e037-901f5a5dc962"
      },
      "outputs": [
        {
          "name": "stdout",
          "output_type": "stream",
          "text": [
            "          N      P      K  temperature   humidity        ph    rainfall  label\n",
            "1569    3.0  133.0  197.0    21.981419  91.127193  6.142803  115.478915    0.0\n",
            "1500   24.0  128.0  196.0    22.750888  90.694892  5.521467  110.431786    0.0\n",
            "1505   32.0  133.0  199.0    22.860066  93.128599  5.824152  117.729673    0.0\n",
            "1547   25.0  133.0  199.0    23.804363  92.804416  6.024249  100.619254    0.0\n",
            "1552   28.0  123.0  198.0    23.462603  91.456650  5.682751  111.776340    0.0\n",
            "...     ...    ...    ...          ...        ...       ...         ...    ...\n",
            "1364  115.0   11.0   46.0    24.415927  89.396555  6.623167   40.321619   21.0\n",
            "1301  119.0   19.0   55.0    25.187800  83.446217  6.818261   46.874209   21.0\n",
            "1375   88.0   10.0   47.0    25.864755  86.674680  6.662245   41.165548   21.0\n",
            "1382  101.0   11.0   51.0    25.507370  84.243402  6.792036   44.206900   21.0\n",
            "1397   96.0   18.0   50.0    25.331045  84.305338  6.904242   41.532187   21.0\n",
            "\n",
            "[1540 rows x 8 columns]           N      P      K  temperature   humidity        ph    rainfall  label\n",
            "1533   10.0  133.0  199.0    22.126594  90.978183  6.386021  104.541228    0.0\n",
            "1558   32.0  133.0  199.0    23.830537  90.844222  6.406819  109.596679    0.0\n",
            "1584   28.0  130.0  196.0    22.134506  94.368035  6.062356  112.920322    0.0\n",
            "1535   23.0  133.0  195.0    22.490951  91.702927  5.795986  124.391510    0.0\n",
            "1545   15.0  133.0  199.0    23.996862  91.610017  5.824779  117.610292    0.0\n",
            "...     ...    ...    ...          ...        ...       ...         ...    ...\n",
            "1388  110.0   21.0   54.0    26.736908  87.824302  6.747538   47.464470   21.0\n",
            "1396  110.0   10.0   45.0    26.638386  84.695469  6.189214   48.324286   21.0\n",
            "1384   99.0   10.0   45.0    26.125889  86.550794  6.000976   40.712101   21.0\n",
            "1325   83.0   10.0   45.0    25.854836  89.131640  6.049610   46.851770   21.0\n",
            "1304   93.0   22.0   52.0    26.587407  81.325632  6.932740   41.875400   21.0\n",
            "\n",
            "[660 rows x 8 columns]\n"
          ]
        }
      ],
      "source": [
        "train = pd.DataFrame(train)\n",
        "train = train.sort_values(by=['label'])\n",
        "test = pd.DataFrame(test)\n",
        "test = test.sort_values(by=['label'])\n",
        "print(train,test)\n",
        "data = data.sort_values(by=['label'])"
      ]
    },
    {
      "cell_type": "code",
      "execution_count": null,
      "metadata": {
        "id": "1vdtN7XxRpuQ"
      },
      "outputs": [],
      "source": [
        "scaler = MinMaxScaler(feature_range=(0, 1))\n",
        "data_scaled = scaler.fit_transform(data)\n",
        "train = scaler.fit_transform(train)\n",
        "test = scaler.fit_transform(test)"
      ]
    },
    {
      "cell_type": "code",
      "execution_count": null,
      "metadata": {
        "id": "9WK5uUufVEPL"
      },
      "outputs": [],
      "source": [
        "# trainX = []\n",
        "# trainY = []\n",
        "\n",
        "# n_future = 1   # Number of days we want to look into the future based on the past days.\n",
        "# n_past = 10  # Number of past days we want to use to predict the future.\n",
        "\n",
        "# #Reformat input data into a shape: (n_samples x timesteps x n_features)\n",
        "# #In my example, my df_for_training_scaled has a shape (12823, 5)\n",
        "# #12823 refers to the number of data points and 5 refers to the columns (multi-variables).\n",
        "# for i in range(n_past, len(data_scaled) - n_future +1):\n",
        "#     trainX.append(data_scaled[i - n_past:i, 0:data_scaled.shape[1]-1])\n",
        "#     trainY.append(data_scaled[i + n_future - 1:i + n_future, 7])\n",
        "\n",
        "# trainX, trainY = np.array(trainX), np.array(trainY)\n",
        "\n",
        "# print('trainX shape == {}.'.format(trainX.shape))\n",
        "# print('trainY shape == {}.'.format(trainY.shape))"
      ]
    },
    {
      "cell_type": "code",
      "execution_count": null,
      "metadata": {
        "colab": {
          "base_uri": "https://localhost:8080/"
        },
        "id": "h1HgilcGRpuQ",
        "outputId": "e3d43d70-b117-4a67-ca11-48fac69171a0"
      },
      "outputs": [
        {
          "name": "stdout",
          "output_type": "stream",
          "text": [
            "trainX shape == (1530, 10, 7).\n",
            "trainY shape == (1530, 1).\n"
          ]
        }
      ],
      "source": [
        "trainX = []\n",
        "trainY = []\n",
        "\n",
        "n_future = 1   # Number of days we want to look into the future based on the past days.\n",
        "n_past = 10  # Number of past days we want to use to predict the future.\n",
        "\n",
        "#Reformat input data into a shape: (n_samples x timesteps x n_features)\n",
        "#In my example, my df_for_training_scaled has a shape (12823, 5)\n",
        "#12823 refers to the number of data points and 5 refers to the columns (multi-variables).\n",
        "for i in range(n_past, len(train) - n_future +1):\n",
        "    trainX.append(train[i - n_past:i, 0:train.shape[1]-1])\n",
        "    trainY.append(train[i + n_future - 1:i + n_future, 7])\n",
        "\n",
        "trainX, trainY = np.array(trainX), np.array(trainY)\n",
        "\n",
        "print('trainX shape == {}.'.format(trainX.shape))\n",
        "print('trainY shape == {}.'.format(trainY.shape))"
      ]
    },
    {
      "cell_type": "code",
      "execution_count": null,
      "metadata": {
        "colab": {
          "base_uri": "https://localhost:8080/"
        },
        "id": "9H9xTtn3RBqJ",
        "outputId": "35bf2e25-a2fe-406f-909b-610555919c2a"
      },
      "outputs": [
        {
          "name": "stdout",
          "output_type": "stream",
          "text": [
            "testX shape == (650, 10, 7).\n",
            "testY shape == (650, 1).\n"
          ]
        }
      ],
      "source": [
        "testX = []\n",
        "testY = []\n",
        "\n",
        "n_future = 1   # Number of days we want to look into the future based on the past days.\n",
        "n_past = 10  # Number of past days we want to use to predict the future.\n",
        "\n",
        "#Reformat input data into a shape: (n_samples x timesteps x n_features)\n",
        "#In my example, my df_for_testing_scaled has a shape (12823, 5)\n",
        "#12823 refers to the number of data points and 5 refers to the columns (multi-variables).\n",
        "for i in range(n_past, len(test) - n_future +1):\n",
        "    testX.append(test[i - n_past:i, 0:test.shape[1]-1])\n",
        "    testY.append(test[i + n_future - 1:i + n_future, 7])\n",
        "\n",
        "testX, testY = np.array(testX), np.array(testY)\n",
        "\n",
        "print('testX shape == {}.'.format(testX.shape))\n",
        "print('testY shape == {}.'.format(testY.shape))"
      ]
    },
    {
      "cell_type": "code",
      "execution_count": null,
      "metadata": {
        "colab": {
          "base_uri": "https://localhost:8080/"
        },
        "id": "dQAuRWVgauii",
        "outputId": "4d2c3c0d-70ad-4a0a-c48a-60e90b2301e1"
      },
      "outputs": [
        {
          "data": {
            "text/plain": [
              "10"
            ]
          },
          "execution_count": 111,
          "metadata": {},
          "output_type": "execute_result"
        }
      ],
      "source": [
        "trainX.shape[1]"
      ]
    },
    {
      "cell_type": "code",
      "execution_count": null,
      "metadata": {
        "id": "L_3ejhpIRpuR"
      },
      "outputs": [],
      "source": [
        "# sgd = tf.keras.optimizers.SGD(learning_rate=0.001)\n",
        "# model = Sequential()\n",
        "# model.add(LSTM(50,activation='relu',input_shape=(trainX.shape[1], trainX.shape[2])))\n",
        "# model.add(Dropout(0.2))\n",
        "# model.add(Dense(1))\n",
        "# model.compile(loss='mean_squared_error', optimizer= sgd ,metrics=[tf.keras.metrics.RootMeanSquaredError()])"
      ]
    },
    {
      "cell_type": "code",
      "execution_count": null,
      "metadata": {
        "colab": {
          "base_uri": "https://localhost:8080/"
        },
        "id": "ohdFs8nACp7J",
        "outputId": "ee24080c-06c6-4f2b-fcba-efee7e3b29df"
      },
      "outputs": [
        {
          "name": "stdout",
          "output_type": "stream",
          "text": [
            "Model: \"sequential_3\"\n",
            "_________________________________________________________________\n",
            " Layer (type)                Output Shape              Param #   \n",
            "=================================================================\n",
            " lstm_4 (LSTM)               (None, 10, 64)            18432     \n",
            "                                                                 \n",
            " lstm_5 (LSTM)               (None, 32)                12416     \n",
            "                                                                 \n",
            " dropout_2 (Dropout)         (None, 32)                0         \n",
            "                                                                 \n",
            " dense_2 (Dense)             (None, 1)                 33        \n",
            "                                                                 \n",
            "=================================================================\n",
            "Total params: 30,881\n",
            "Trainable params: 30,881\n",
            "Non-trainable params: 0\n",
            "_________________________________________________________________\n"
          ]
        }
      ],
      "source": [
        "model = Sequential()\n",
        "model.add(LSTM(64, activation='relu', input_shape=(trainX.shape[1], trainX.shape[2]), return_sequences=True))\n",
        "model.add(LSTM(32, activation='relu', return_sequences=False))\n",
        "model.add(Dropout(0.2))\n",
        "model.add(Dense(trainY.shape[1]))\n",
        "sgd = tf.keras.optimizers.SGD(learning_rate=0.01)\n",
        "model.compile(optimizer=sgd , loss='mse')\n",
        "model.summary()"
      ]
    },
    {
      "cell_type": "code",
      "execution_count": null,
      "metadata": {
        "id": "t0jByL9_ep1A"
      },
      "outputs": [],
      "source": [
        "cp1 = ModelCheckpoint('model/', save_best_only=True)\n",
        "model.compile(loss=MeanSquaredError(), optimizer=Adam(learning_rate=0.001), metrics=[RootMeanSquaredError()])"
      ]
    },
    {
      "cell_type": "code",
      "execution_count": null,
      "metadata": {
        "colab": {
          "base_uri": "https://localhost:8080/"
        },
        "id": "VokqVSZ8N9z9",
        "outputId": "2ed2eff0-62f9-4d2d-ca42-a74f3c0ea6cf"
      },
      "outputs": [
        {
          "name": "stdout",
          "output_type": "stream",
          "text": [
            "Epoch 1/100\n"
          ]
        },
        {
          "name": "stderr",
          "output_type": "stream",
          "text": [
            "WARNING:absl:Found untraced functions such as _update_step_xla while saving (showing 1 of 1). These functions will not be directly callable after loading.\n"
          ]
        },
        {
          "name": "stdout",
          "output_type": "stream",
          "text": [
            "77/77 - 8s - loss: 0.0686 - root_mean_squared_error: 0.2618 - val_loss: 0.2838 - val_root_mean_squared_error: 0.5327 - 8s/epoch - 106ms/step\n",
            "Epoch 2/100\n"
          ]
        },
        {
          "name": "stderr",
          "output_type": "stream",
          "text": [
            "WARNING:absl:Found untraced functions such as _update_step_xla while saving (showing 1 of 1). These functions will not be directly callable after loading.\n"
          ]
        },
        {
          "name": "stdout",
          "output_type": "stream",
          "text": [
            "77/77 - 5s - loss: 0.0288 - root_mean_squared_error: 0.1698 - val_loss: 0.1904 - val_root_mean_squared_error: 0.4364 - 5s/epoch - 68ms/step\n",
            "Epoch 3/100\n"
          ]
        },
        {
          "name": "stderr",
          "output_type": "stream",
          "text": [
            "WARNING:absl:Found untraced functions such as _update_step_xla while saving (showing 1 of 1). These functions will not be directly callable after loading.\n"
          ]
        },
        {
          "name": "stdout",
          "output_type": "stream",
          "text": [
            "77/77 - 5s - loss: 0.0137 - root_mean_squared_error: 0.1172 - val_loss: 0.1736 - val_root_mean_squared_error: 0.4167 - 5s/epoch - 65ms/step\n",
            "Epoch 4/100\n",
            "77/77 - 1s - loss: 0.0105 - root_mean_squared_error: 0.1026 - val_loss: 0.1863 - val_root_mean_squared_error: 0.4316 - 882ms/epoch - 11ms/step\n",
            "Epoch 5/100\n",
            "77/77 - 1s - loss: 0.0080 - root_mean_squared_error: 0.0893 - val_loss: 0.1929 - val_root_mean_squared_error: 0.4392 - 871ms/epoch - 11ms/step\n",
            "Epoch 6/100\n",
            "77/77 - 1s - loss: 0.0080 - root_mean_squared_error: 0.0892 - val_loss: 0.1875 - val_root_mean_squared_error: 0.4330 - 953ms/epoch - 12ms/step\n",
            "Epoch 7/100\n",
            "77/77 - 1s - loss: 0.0072 - root_mean_squared_error: 0.0847 - val_loss: 0.2101 - val_root_mean_squared_error: 0.4584 - 875ms/epoch - 11ms/step\n",
            "Epoch 8/100\n"
          ]
        },
        {
          "name": "stderr",
          "output_type": "stream",
          "text": [
            "WARNING:absl:Found untraced functions such as _update_step_xla while saving (showing 1 of 1). These functions will not be directly callable after loading.\n"
          ]
        },
        {
          "name": "stdout",
          "output_type": "stream",
          "text": [
            "77/77 - 5s - loss: 0.0063 - root_mean_squared_error: 0.0794 - val_loss: 0.1698 - val_root_mean_squared_error: 0.4120 - 5s/epoch - 68ms/step\n",
            "Epoch 9/100\n",
            "77/77 - 1s - loss: 0.0063 - root_mean_squared_error: 0.0797 - val_loss: 0.1981 - val_root_mean_squared_error: 0.4451 - 1s/epoch - 14ms/step\n",
            "Epoch 10/100\n",
            "77/77 - 1s - loss: 0.0056 - root_mean_squared_error: 0.0748 - val_loss: 0.2292 - val_root_mean_squared_error: 0.4787 - 890ms/epoch - 12ms/step\n",
            "Epoch 11/100\n"
          ]
        },
        {
          "name": "stderr",
          "output_type": "stream",
          "text": [
            "WARNING:absl:Found untraced functions such as _update_step_xla while saving (showing 1 of 1). These functions will not be directly callable after loading.\n"
          ]
        },
        {
          "name": "stdout",
          "output_type": "stream",
          "text": [
            "77/77 - 5s - loss: 0.0049 - root_mean_squared_error: 0.0701 - val_loss: 0.1278 - val_root_mean_squared_error: 0.3575 - 5s/epoch - 66ms/step\n",
            "Epoch 12/100\n",
            "77/77 - 1s - loss: 0.0048 - root_mean_squared_error: 0.0689 - val_loss: 0.1911 - val_root_mean_squared_error: 0.4372 - 913ms/epoch - 12ms/step\n",
            "Epoch 13/100\n",
            "77/77 - 1s - loss: 0.0038 - root_mean_squared_error: 0.0619 - val_loss: 0.1922 - val_root_mean_squared_error: 0.4384 - 883ms/epoch - 11ms/step\n",
            "Epoch 14/100\n",
            "77/77 - 1s - loss: 0.0038 - root_mean_squared_error: 0.0615 - val_loss: 0.1617 - val_root_mean_squared_error: 0.4022 - 878ms/epoch - 11ms/step\n",
            "Epoch 15/100\n",
            "77/77 - 1s - loss: 0.0039 - root_mean_squared_error: 0.0626 - val_loss: 0.1512 - val_root_mean_squared_error: 0.3888 - 1s/epoch - 13ms/step\n",
            "Epoch 16/100\n",
            "77/77 - 1s - loss: 0.0036 - root_mean_squared_error: 0.0604 - val_loss: 0.1509 - val_root_mean_squared_error: 0.3884 - 1s/epoch - 19ms/step\n",
            "Epoch 17/100\n",
            "77/77 - 1s - loss: 0.0034 - root_mean_squared_error: 0.0586 - val_loss: 0.1536 - val_root_mean_squared_error: 0.3920 - 1s/epoch - 17ms/step\n",
            "Epoch 18/100\n",
            "77/77 - 1s - loss: 0.0033 - root_mean_squared_error: 0.0571 - val_loss: 0.1773 - val_root_mean_squared_error: 0.4210 - 892ms/epoch - 12ms/step\n",
            "Epoch 19/100\n",
            "77/77 - 1s - loss: 0.0030 - root_mean_squared_error: 0.0552 - val_loss: 0.1670 - val_root_mean_squared_error: 0.4086 - 904ms/epoch - 12ms/step\n",
            "Epoch 20/100\n",
            "77/77 - 1s - loss: 0.0028 - root_mean_squared_error: 0.0532 - val_loss: 0.1559 - val_root_mean_squared_error: 0.3949 - 913ms/epoch - 12ms/step\n",
            "Epoch 21/100\n",
            "77/77 - 1s - loss: 0.0030 - root_mean_squared_error: 0.0547 - val_loss: 0.1457 - val_root_mean_squared_error: 0.3817 - 895ms/epoch - 12ms/step\n",
            "Epoch 22/100\n",
            "77/77 - 1s - loss: 0.0026 - root_mean_squared_error: 0.0505 - val_loss: 0.1519 - val_root_mean_squared_error: 0.3898 - 909ms/epoch - 12ms/step\n",
            "Epoch 23/100\n",
            "77/77 - 1s - loss: 0.0026 - root_mean_squared_error: 0.0507 - val_loss: 0.1527 - val_root_mean_squared_error: 0.3908 - 894ms/epoch - 12ms/step\n",
            "Epoch 24/100\n",
            "77/77 - 1s - loss: 0.0027 - root_mean_squared_error: 0.0518 - val_loss: 0.1446 - val_root_mean_squared_error: 0.3803 - 905ms/epoch - 12ms/step\n",
            "Epoch 25/100\n",
            "77/77 - 1s - loss: 0.0026 - root_mean_squared_error: 0.0510 - val_loss: 0.1520 - val_root_mean_squared_error: 0.3899 - 891ms/epoch - 12ms/step\n",
            "Epoch 26/100\n",
            "77/77 - 1s - loss: 0.0027 - root_mean_squared_error: 0.0517 - val_loss: 0.1714 - val_root_mean_squared_error: 0.4140 - 883ms/epoch - 11ms/step\n",
            "Epoch 27/100\n",
            "77/77 - 1s - loss: 0.0024 - root_mean_squared_error: 0.0494 - val_loss: 0.1753 - val_root_mean_squared_error: 0.4187 - 957ms/epoch - 12ms/step\n",
            "Epoch 28/100\n",
            "77/77 - 1s - loss: 0.0026 - root_mean_squared_error: 0.0511 - val_loss: 0.1603 - val_root_mean_squared_error: 0.4004 - 1s/epoch - 13ms/step\n",
            "Epoch 29/100\n",
            "77/77 - 1s - loss: 0.0026 - root_mean_squared_error: 0.0512 - val_loss: 0.1649 - val_root_mean_squared_error: 0.4060 - 1s/epoch - 19ms/step\n",
            "Epoch 30/100\n",
            "77/77 - 1s - loss: 0.0024 - root_mean_squared_error: 0.0488 - val_loss: 0.1682 - val_root_mean_squared_error: 0.4102 - 1s/epoch - 16ms/step\n",
            "Epoch 31/100\n",
            "77/77 - 1s - loss: 0.0026 - root_mean_squared_error: 0.0507 - val_loss: 0.1545 - val_root_mean_squared_error: 0.3931 - 885ms/epoch - 11ms/step\n",
            "Epoch 32/100\n",
            "77/77 - 1s - loss: 0.0023 - root_mean_squared_error: 0.0476 - val_loss: 0.1400 - val_root_mean_squared_error: 0.3741 - 884ms/epoch - 11ms/step\n",
            "Epoch 33/100\n",
            "77/77 - 1s - loss: 0.0025 - root_mean_squared_error: 0.0499 - val_loss: 0.1382 - val_root_mean_squared_error: 0.3717 - 895ms/epoch - 12ms/step\n",
            "Epoch 34/100\n",
            "77/77 - 1s - loss: 0.0023 - root_mean_squared_error: 0.0478 - val_loss: 0.1652 - val_root_mean_squared_error: 0.4064 - 891ms/epoch - 12ms/step\n",
            "Epoch 35/100\n",
            "77/77 - 1s - loss: 0.0027 - root_mean_squared_error: 0.0518 - val_loss: 0.1466 - val_root_mean_squared_error: 0.3829 - 979ms/epoch - 13ms/step\n",
            "Epoch 36/100\n",
            "77/77 - 1s - loss: 0.0022 - root_mean_squared_error: 0.0465 - val_loss: 0.1434 - val_root_mean_squared_error: 0.3787 - 922ms/epoch - 12ms/step\n",
            "Epoch 37/100\n",
            "77/77 - 1s - loss: 0.0021 - root_mean_squared_error: 0.0455 - val_loss: 0.1676 - val_root_mean_squared_error: 0.4094 - 896ms/epoch - 12ms/step\n",
            "Epoch 38/100\n",
            "77/77 - 1s - loss: 0.0021 - root_mean_squared_error: 0.0454 - val_loss: 0.1601 - val_root_mean_squared_error: 0.4001 - 991ms/epoch - 13ms/step\n",
            "Epoch 39/100\n",
            "77/77 - 1s - loss: 0.0019 - root_mean_squared_error: 0.0440 - val_loss: 0.1557 - val_root_mean_squared_error: 0.3946 - 896ms/epoch - 12ms/step\n",
            "Epoch 40/100\n",
            "77/77 - 1s - loss: 0.0022 - root_mean_squared_error: 0.0471 - val_loss: 0.1550 - val_root_mean_squared_error: 0.3937 - 872ms/epoch - 11ms/step\n",
            "Epoch 41/100\n",
            "77/77 - 1s - loss: 0.0020 - root_mean_squared_error: 0.0448 - val_loss: 0.1708 - val_root_mean_squared_error: 0.4133 - 1s/epoch - 14ms/step\n",
            "Epoch 42/100\n",
            "77/77 - 1s - loss: 0.0022 - root_mean_squared_error: 0.0466 - val_loss: 0.1495 - val_root_mean_squared_error: 0.3867 - 1s/epoch - 18ms/step\n",
            "Epoch 43/100\n",
            "77/77 - 1s - loss: 0.0021 - root_mean_squared_error: 0.0454 - val_loss: 0.1569 - val_root_mean_squared_error: 0.3962 - 1s/epoch - 16ms/step\n",
            "Epoch 44/100\n",
            "77/77 - 1s - loss: 0.0023 - root_mean_squared_error: 0.0482 - val_loss: 0.1648 - val_root_mean_squared_error: 0.4059 - 894ms/epoch - 12ms/step\n",
            "Epoch 45/100\n",
            "77/77 - 1s - loss: 0.0019 - root_mean_squared_error: 0.0434 - val_loss: 0.1469 - val_root_mean_squared_error: 0.3833 - 881ms/epoch - 11ms/step\n",
            "Epoch 46/100\n",
            "77/77 - 1s - loss: 0.0018 - root_mean_squared_error: 0.0428 - val_loss: 0.1320 - val_root_mean_squared_error: 0.3633 - 909ms/epoch - 12ms/step\n",
            "Epoch 47/100\n",
            "77/77 - 1s - loss: 0.0020 - root_mean_squared_error: 0.0449 - val_loss: 0.1449 - val_root_mean_squared_error: 0.3806 - 884ms/epoch - 11ms/step\n",
            "Epoch 48/100\n",
            "77/77 - 1s - loss: 0.0020 - root_mean_squared_error: 0.0443 - val_loss: 0.1364 - val_root_mean_squared_error: 0.3693 - 940ms/epoch - 12ms/step\n",
            "Epoch 49/100\n",
            "77/77 - 1s - loss: 0.0018 - root_mean_squared_error: 0.0419 - val_loss: 0.1464 - val_root_mean_squared_error: 0.3827 - 974ms/epoch - 13ms/step\n",
            "Epoch 50/100\n",
            "77/77 - 1s - loss: 0.0019 - root_mean_squared_error: 0.0438 - val_loss: 0.1709 - val_root_mean_squared_error: 0.4134 - 886ms/epoch - 12ms/step\n",
            "Epoch 51/100\n",
            "77/77 - 1s - loss: 0.0021 - root_mean_squared_error: 0.0455 - val_loss: 0.1478 - val_root_mean_squared_error: 0.3844 - 879ms/epoch - 11ms/step\n",
            "Epoch 52/100\n",
            "77/77 - 1s - loss: 0.0020 - root_mean_squared_error: 0.0449 - val_loss: 0.1499 - val_root_mean_squared_error: 0.3871 - 887ms/epoch - 12ms/step\n",
            "Epoch 53/100\n",
            "77/77 - 1s - loss: 0.0018 - root_mean_squared_error: 0.0427 - val_loss: 0.1460 - val_root_mean_squared_error: 0.3820 - 877ms/epoch - 11ms/step\n",
            "Epoch 54/100\n",
            "77/77 - 1s - loss: 0.0017 - root_mean_squared_error: 0.0414 - val_loss: 0.1593 - val_root_mean_squared_error: 0.3991 - 1s/epoch - 14ms/step\n",
            "Epoch 55/100\n",
            "77/77 - 1s - loss: 0.0021 - root_mean_squared_error: 0.0453 - val_loss: 0.1449 - val_root_mean_squared_error: 0.3806 - 1s/epoch - 19ms/step\n",
            "Epoch 56/100\n",
            "77/77 - 1s - loss: 0.0017 - root_mean_squared_error: 0.0415 - val_loss: 0.1518 - val_root_mean_squared_error: 0.3896 - 1s/epoch - 15ms/step\n",
            "Epoch 57/100\n",
            "77/77 - 1s - loss: 0.0017 - root_mean_squared_error: 0.0408 - val_loss: 0.1445 - val_root_mean_squared_error: 0.3801 - 873ms/epoch - 11ms/step\n",
            "Epoch 58/100\n",
            "77/77 - 1s - loss: 0.0020 - root_mean_squared_error: 0.0443 - val_loss: 0.1355 - val_root_mean_squared_error: 0.3680 - 887ms/epoch - 12ms/step\n",
            "Epoch 59/100\n",
            "77/77 - 1s - loss: 0.0019 - root_mean_squared_error: 0.0436 - val_loss: 0.1457 - val_root_mean_squared_error: 0.3817 - 884ms/epoch - 11ms/step\n",
            "Epoch 60/100\n",
            "77/77 - 1s - loss: 0.0019 - root_mean_squared_error: 0.0436 - val_loss: 0.1351 - val_root_mean_squared_error: 0.3676 - 886ms/epoch - 12ms/step\n",
            "Epoch 61/100\n",
            "77/77 - 1s - loss: 0.0020 - root_mean_squared_error: 0.0449 - val_loss: 0.1441 - val_root_mean_squared_error: 0.3796 - 913ms/epoch - 12ms/step\n",
            "Epoch 62/100\n",
            "77/77 - 1s - loss: 0.0019 - root_mean_squared_error: 0.0433 - val_loss: 0.1467 - val_root_mean_squared_error: 0.3830 - 969ms/epoch - 13ms/step\n",
            "Epoch 63/100\n",
            "77/77 - 1s - loss: 0.0016 - root_mean_squared_error: 0.0403 - val_loss: 0.1413 - val_root_mean_squared_error: 0.3758 - 889ms/epoch - 12ms/step\n",
            "Epoch 64/100\n",
            "77/77 - 1s - loss: 0.0016 - root_mean_squared_error: 0.0405 - val_loss: 0.1330 - val_root_mean_squared_error: 0.3646 - 929ms/epoch - 12ms/step\n",
            "Epoch 65/100\n",
            "77/77 - 1s - loss: 0.0016 - root_mean_squared_error: 0.0396 - val_loss: 0.1428 - val_root_mean_squared_error: 0.3778 - 868ms/epoch - 11ms/step\n",
            "Epoch 66/100\n",
            "77/77 - 1s - loss: 0.0016 - root_mean_squared_error: 0.0405 - val_loss: 0.1490 - val_root_mean_squared_error: 0.3860 - 963ms/epoch - 13ms/step\n",
            "Epoch 67/100\n",
            "77/77 - 1s - loss: 0.0015 - root_mean_squared_error: 0.0390 - val_loss: 0.1376 - val_root_mean_squared_error: 0.3710 - 1s/epoch - 15ms/step\n",
            "Epoch 68/100\n",
            "77/77 - 1s - loss: 0.0015 - root_mean_squared_error: 0.0389 - val_loss: 0.1412 - val_root_mean_squared_error: 0.3758 - 1s/epoch - 18ms/step\n",
            "Epoch 69/100\n",
            "77/77 - 1s - loss: 0.0019 - root_mean_squared_error: 0.0431 - val_loss: 0.1473 - val_root_mean_squared_error: 0.3838 - 1s/epoch - 15ms/step\n",
            "Epoch 70/100\n",
            "77/77 - 1s - loss: 0.0015 - root_mean_squared_error: 0.0383 - val_loss: 0.1463 - val_root_mean_squared_error: 0.3825 - 881ms/epoch - 11ms/step\n",
            "Epoch 71/100\n",
            "77/77 - 1s - loss: 0.0016 - root_mean_squared_error: 0.0403 - val_loss: 0.1498 - val_root_mean_squared_error: 0.3870 - 868ms/epoch - 11ms/step\n",
            "Epoch 72/100\n",
            "77/77 - 1s - loss: 0.0017 - root_mean_squared_error: 0.0414 - val_loss: 0.1430 - val_root_mean_squared_error: 0.3782 - 865ms/epoch - 11ms/step\n",
            "Epoch 73/100\n",
            "77/77 - 1s - loss: 0.0017 - root_mean_squared_error: 0.0408 - val_loss: 0.1713 - val_root_mean_squared_error: 0.4139 - 904ms/epoch - 12ms/step\n",
            "Epoch 74/100\n",
            "77/77 - 1s - loss: 0.0017 - root_mean_squared_error: 0.0408 - val_loss: 0.1344 - val_root_mean_squared_error: 0.3666 - 878ms/epoch - 11ms/step\n",
            "Epoch 75/100\n",
            "77/77 - 1s - loss: 0.0017 - root_mean_squared_error: 0.0408 - val_loss: 0.1566 - val_root_mean_squared_error: 0.3957 - 901ms/epoch - 12ms/step\n",
            "Epoch 76/100\n",
            "77/77 - 1s - loss: 0.0016 - root_mean_squared_error: 0.0401 - val_loss: 0.1438 - val_root_mean_squared_error: 0.3793 - 853ms/epoch - 11ms/step\n",
            "Epoch 77/100\n",
            "77/77 - 1s - loss: 0.0017 - root_mean_squared_error: 0.0410 - val_loss: 0.1570 - val_root_mean_squared_error: 0.3963 - 874ms/epoch - 11ms/step\n",
            "Epoch 78/100\n",
            "77/77 - 1s - loss: 0.0016 - root_mean_squared_error: 0.0402 - val_loss: 0.1409 - val_root_mean_squared_error: 0.3753 - 877ms/epoch - 11ms/step\n",
            "Epoch 79/100\n",
            "77/77 - 1s - loss: 0.0017 - root_mean_squared_error: 0.0406 - val_loss: 0.1585 - val_root_mean_squared_error: 0.3981 - 936ms/epoch - 12ms/step\n",
            "Epoch 80/100\n",
            "77/77 - 1s - loss: 0.0016 - root_mean_squared_error: 0.0400 - val_loss: 0.1378 - val_root_mean_squared_error: 0.3712 - 1s/epoch - 13ms/step\n",
            "Epoch 81/100\n",
            "77/77 - 1s - loss: 0.0016 - root_mean_squared_error: 0.0404 - val_loss: 0.1383 - val_root_mean_squared_error: 0.3719 - 1s/epoch - 18ms/step\n",
            "Epoch 82/100\n",
            "77/77 - 1s - loss: 0.0017 - root_mean_squared_error: 0.0416 - val_loss: 0.1453 - val_root_mean_squared_error: 0.3812 - 1s/epoch - 17ms/step\n",
            "Epoch 83/100\n",
            "77/77 - 1s - loss: 0.0015 - root_mean_squared_error: 0.0382 - val_loss: 0.1413 - val_root_mean_squared_error: 0.3759 - 874ms/epoch - 11ms/step\n",
            "Epoch 84/100\n",
            "77/77 - 1s - loss: 0.0017 - root_mean_squared_error: 0.0414 - val_loss: 0.1382 - val_root_mean_squared_error: 0.3717 - 868ms/epoch - 11ms/step\n",
            "Epoch 85/100\n",
            "77/77 - 1s - loss: 0.0014 - root_mean_squared_error: 0.0380 - val_loss: 0.1302 - val_root_mean_squared_error: 0.3608 - 882ms/epoch - 11ms/step\n",
            "Epoch 86/100\n",
            "77/77 - 1s - loss: 0.0015 - root_mean_squared_error: 0.0386 - val_loss: 0.1593 - val_root_mean_squared_error: 0.3991 - 897ms/epoch - 12ms/step\n",
            "Epoch 87/100\n",
            "77/77 - 1s - loss: 0.0017 - root_mean_squared_error: 0.0408 - val_loss: 0.1461 - val_root_mean_squared_error: 0.3822 - 879ms/epoch - 11ms/step\n",
            "Epoch 88/100\n",
            "77/77 - 1s - loss: 0.0015 - root_mean_squared_error: 0.0393 - val_loss: 0.1446 - val_root_mean_squared_error: 0.3803 - 901ms/epoch - 12ms/step\n",
            "Epoch 89/100\n",
            "77/77 - 1s - loss: 0.0016 - root_mean_squared_error: 0.0397 - val_loss: 0.1475 - val_root_mean_squared_error: 0.3840 - 895ms/epoch - 12ms/step\n",
            "Epoch 90/100\n",
            "77/77 - 1s - loss: 0.0015 - root_mean_squared_error: 0.0386 - val_loss: 0.1343 - val_root_mean_squared_error: 0.3665 - 903ms/epoch - 12ms/step\n",
            "Epoch 91/100\n",
            "77/77 - 1s - loss: 0.0015 - root_mean_squared_error: 0.0390 - val_loss: 0.1358 - val_root_mean_squared_error: 0.3685 - 892ms/epoch - 12ms/step\n",
            "Epoch 92/100\n",
            "77/77 - 1s - loss: 0.0015 - root_mean_squared_error: 0.0381 - val_loss: 0.1289 - val_root_mean_squared_error: 0.3590 - 873ms/epoch - 11ms/step\n",
            "Epoch 93/100\n",
            "77/77 - 1s - loss: 0.0017 - root_mean_squared_error: 0.0409 - val_loss: 0.1361 - val_root_mean_squared_error: 0.3689 - 894ms/epoch - 12ms/step\n",
            "Epoch 94/100\n"
          ]
        },
        {
          "name": "stderr",
          "output_type": "stream",
          "text": [
            "WARNING:absl:Found untraced functions such as _update_step_xla while saving (showing 1 of 1). These functions will not be directly callable after loading.\n"
          ]
        },
        {
          "name": "stdout",
          "output_type": "stream",
          "text": [
            "77/77 - 5s - loss: 0.0015 - root_mean_squared_error: 0.0394 - val_loss: 0.1264 - val_root_mean_squared_error: 0.3555 - 5s/epoch - 69ms/step\n",
            "Epoch 95/100\n",
            "77/77 - 1s - loss: 0.0016 - root_mean_squared_error: 0.0402 - val_loss: 0.1431 - val_root_mean_squared_error: 0.3783 - 903ms/epoch - 12ms/step\n",
            "Epoch 96/100\n",
            "77/77 - 1s - loss: 0.0017 - root_mean_squared_error: 0.0417 - val_loss: 0.1327 - val_root_mean_squared_error: 0.3643 - 888ms/epoch - 12ms/step\n",
            "Epoch 97/100\n",
            "77/77 - 1s - loss: 0.0014 - root_mean_squared_error: 0.0379 - val_loss: 0.1446 - val_root_mean_squared_error: 0.3802 - 874ms/epoch - 11ms/step\n",
            "Epoch 98/100\n",
            "77/77 - 1s - loss: 0.0016 - root_mean_squared_error: 0.0397 - val_loss: 0.1338 - val_root_mean_squared_error: 0.3658 - 879ms/epoch - 11ms/step\n",
            "Epoch 99/100\n",
            "77/77 - 1s - loss: 0.0016 - root_mean_squared_error: 0.0394 - val_loss: 0.1442 - val_root_mean_squared_error: 0.3797 - 881ms/epoch - 11ms/step\n",
            "Epoch 100/100\n",
            "77/77 - 1s - loss: 0.0015 - root_mean_squared_error: 0.0393 - val_loss: 0.1328 - val_root_mean_squared_error: 0.3645 - 883ms/epoch - 11ms/step\n"
          ]
        }
      ],
      "source": [
        "history = model.fit(trainX, trainY, epochs=100, batch_size=16, validation_split=0.2, verbose=2,callbacks=[cp1])"
      ]
    },
    {
      "cell_type": "code",
      "execution_count": null,
      "metadata": {
        "id": "DziNgyTMRpuR"
      },
      "outputs": [],
      "source": [
        "# history = model.fit(trainX, trainY, epochs=200, batch_size=16, validation_split=0.2, verbose=1)"
      ]
    },
    {
      "cell_type": "code",
      "execution_count": null,
      "metadata": {
        "colab": {
          "base_uri": "https://localhost:8080/",
          "height": 447
        },
        "id": "a65aBn2ZcQRw",
        "outputId": "c3426e78-cbbd-4cf8-8082-bda07aa7a57a"
      },
      "outputs": [
        {
          "data": {
            "text/plain": [
              "<matplotlib.legend.Legend at 0x7f96967aa580>"
            ]
          },
          "execution_count": 117,
          "metadata": {},
          "output_type": "execute_result"
        },
        {
          "data": {
            "image/png": "[encoded data removed]",
            "text/plain": [
              "<Figure size 640x480 with 1 Axes>"
            ]
          },
          "metadata": {},
          "output_type": "display_data"
        }
      ],
      "source": [
        "plt.plot(history.history['loss'], label='Training loss')\n",
        "plt.plot(history.history['val_loss'], label='Validation loss')\n",
        "plt.legend()"
      ]
    },
    {
      "cell_type": "code",
      "execution_count": null,
      "metadata": {
        "colab": {
          "base_uri": "https://localhost:8080/"
        },
        "id": "MNrSyH7nRpuS",
        "outputId": "4a8abb4c-adc7-4597-ad03-8acd1b5a2833"
      },
      "outputs": [
        {
          "name": "stdout",
          "output_type": "stream",
          "text": [
            "48/48 [==============================] - 1s 4ms/step\n"
          ]
        }
      ],
      "source": [
        "train_predict = model.predict(trainX)"
      ]
    },
    {
      "cell_type": "code",
      "execution_count": null,
      "metadata": {
        "id": "XzlE7AP0RsZZ"
      },
      "outputs": [],
      "source": [
        "# features = np.array([[5, 2.9, 1, 0.2]])\n",
        "# features = np.repeat(features, 10, axis=-1)\n",
        "# model.predict(features)"
      ]
    },
    {
      "cell_type": "code",
      "execution_count": null,
      "metadata": {
        "id": "kPRcp0__RpuS"
      },
      "outputs": [],
      "source": [
        "# fit the model\n",
        "# history = model.fit(trainX, trainY, epochs=10, batch_size=64, validation_split=0.1, verbose=1)\n",
        "\n",
        "# plt.plot(history.history['loss'], label='Training loss')\n",
        "# plt.plot(history.history['val_loss'], label='Validation loss')\n",
        "# plt.legend()"
      ]
    },
    {
      "cell_type": "code",
      "execution_count": null,
      "metadata": {
        "id": "u7vYvsVZRpuS"
      },
      "outputs": [],
      "source": [
        "# train_predict = model.predict(trainX )"
      ]
    },
    {
      "cell_type": "code",
      "execution_count": null,
      "metadata": {
        "id": "fQOV4iqcRpuS"
      },
      "outputs": [],
      "source": [
        "trainY = np.repeat(trainY, data_scaled.shape[1], axis=-1)\n",
        "trainY_scaler = scaler.inverse_transform(trainY)[:,0]\n",
        "#train original"
      ]
    },
    {
      "cell_type": "code",
      "execution_count": null,
      "metadata": {
        "id": "O6A66hbdRpuT"
      },
      "outputs": [],
      "source": [
        "train_predict_new = np.repeat(train_predict, data_scaled.shape[1], axis=-1)\n",
        "train_predict_scaler = scaler.inverse_transform(train_predict_new)[:,0]\n",
        "#train prediction\n"
      ]
    },
    {
      "cell_type": "code",
      "execution_count": null,
      "metadata": {
        "colab": {
          "base_uri": "https://localhost:8080/"
        },
        "id": "CPTAmrQpCwKu",
        "outputId": "d307f3fc-e8cb-4c8e-94ce-a52d6c737821"
      },
      "outputs": [
        {
          "data": {
            "text/plain": [
              "[]"
            ]
          },
          "execution_count": 124,
          "metadata": {},
          "output_type": "execute_result"
        }
      ],
      "source": [
        "neg_nos = [num for num in train_predict_scaler if num < 0]\n",
        "neg_nos"
      ]
    },
    {
      "cell_type": "code",
      "execution_count": null,
      "metadata": {
        "colab": {
          "base_uri": "https://localhost:8080/",
          "height": 447
        },
        "id": "CdrqIsPuRpuT",
        "outputId": "8c59e7e4-fb6f-4d52-8105-e5c1d2f2868f"
      },
      "outputs": [
        {
          "data": {
            "text/plain": [
              "[<matplotlib.lines.Line2D at 0x7f969dd322b0>]"
            ]
          },
          "execution_count": 125,
          "metadata": {},
          "output_type": "execute_result"
        },
        {
          "data": {
            "image/png": "[encoded data removed]",
            "text/plain": [
              "<Figure size 640x480 with 1 Axes>"
            ]
          },
          "metadata": {},
          "output_type": "display_data"
        }
      ],
      "source": [
        "plt.plot(trainY_scaler, label=\"actual\")"
      ]
    },
    {
      "cell_type": "code",
      "execution_count": null,
      "metadata": {
        "colab": {
          "base_uri": "https://localhost:8080/",
          "height": 447
        },
        "id": "zg6ZrIr2RpuT",
        "outputId": "5dd16fde-071b-4042-9b74-6c0b3109b741"
      },
      "outputs": [
        {
          "data": {
            "text/plain": [
              "[<matplotlib.lines.Line2D at 0x7f969769bfa0>]"
            ]
          },
          "execution_count": 126,
          "metadata": {},
          "output_type": "execute_result"
        },
        {
          "data": {
            "image/png": "[encoded data removed]",
            "text/plain": [
              "<Figure size 640x480 with 1 Axes>"
            ]
          },
          "metadata": {},
          "output_type": "display_data"
        }
      ],
      "source": [
        "plt.plot(train_predict_scaler, label=\"predicted\")"
      ]
    },
    {
      "cell_type": "code",
      "execution_count": null,
      "metadata": {
        "colab": {
          "base_uri": "https://localhost:8080/"
        },
        "id": "px6ISEBJRpuT",
        "outputId": "67e3b114-593a-4ab4-9216-78311dfb156e"
      },
      "outputs": [
        {
          "name": "stdout",
          "output_type": "stream",
          "text": [
            "train data\n",
            "R2 score = 0.70552799661937\n"
          ]
        }
      ],
      "source": [
        "print(\"train data\") \n",
        "print(\"R2 score =\", r2_score(trainY_scaler,train_predict_scaler))"
      ]
    },
    {
      "cell_type": "code",
      "execution_count": null,
      "metadata": {
        "colab": {
          "base_uri": "https://localhost:8080/"
        },
        "id": "azoXDB5uRpuT",
        "outputId": "44a575e4-c1fe-4fbd-c130-4991babaa6c0"
      },
      "outputs": [
        {
          "name": "stdout",
          "output_type": "stream",
          "text": [
            "Root Mean Square Error:\n",
            "\n",
            "22.903003346946313\n"
          ]
        }
      ],
      "source": [
        "MSE = np.square(np.subtract(trainY_scaler,train_predict_scaler)).mean()   \n",
        "   \n",
        "rsme = math.sqrt(MSE)  \n",
        "print(\"Root Mean Square Error:\\n\")  \n",
        "print(rsme)  "
      ]
    },
    {
      "cell_type": "code",
      "execution_count": null,
      "metadata": {
        "colab": {
          "base_uri": "https://localhost:8080/",
          "height": 423
        },
        "id": "68JGS05yRpuU",
        "outputId": "f3f2e199-4c22-43e7-e451-b488dee2ff70"
      },
      "outputs": [
        {
          "data": {
            "text/html": [
              "\n",
              "  <div id=\"df-12e4aa4d-7815-4278-b0b0-2b400e346df0\">\n",
              "    <div class=\"colab-df-container\">\n",
              "      <div>\n",
              "<style scoped>\n",
              "    .dataframe tbody tr th:only-of-type {\n",
              "        vertical-align: middle;\n",
              "    }\n",
              "\n",
              "    .dataframe tbody tr th {\n",
              "        vertical-align: top;\n",
              "    }\n",
              "\n",
              "    .dataframe thead th {\n",
              "        text-align: right;\n",
              "    }\n",
              "</style>\n",
              "<table border=\"1\" class=\"dataframe\">\n",
              "  <thead>\n",
              "    <tr style=\"text-align: right;\">\n",
              "      <th></th>\n",
              "      <th>Val Predictions</th>\n",
              "      <th>Actuals</th>\n",
              "    </tr>\n",
              "  </thead>\n",
              "  <tbody>\n",
              "    <tr>\n",
              "      <th>0</th>\n",
              "      <td>2.535046</td>\n",
              "      <td>0.0</td>\n",
              "    </tr>\n",
              "    <tr>\n",
              "      <th>1</th>\n",
              "      <td>2.528921</td>\n",
              "      <td>0.0</td>\n",
              "    </tr>\n",
              "    <tr>\n",
              "      <th>2</th>\n",
              "      <td>2.497445</td>\n",
              "      <td>0.0</td>\n",
              "    </tr>\n",
              "    <tr>\n",
              "      <th>3</th>\n",
              "      <td>2.306244</td>\n",
              "      <td>0.0</td>\n",
              "    </tr>\n",
              "    <tr>\n",
              "      <th>4</th>\n",
              "      <td>2.377082</td>\n",
              "      <td>0.0</td>\n",
              "    </tr>\n",
              "    <tr>\n",
              "      <th>...</th>\n",
              "      <td>...</td>\n",
              "      <td>...</td>\n",
              "    </tr>\n",
              "    <tr>\n",
              "      <th>1525</th>\n",
              "      <td>95.327187</td>\n",
              "      <td>140.0</td>\n",
              "    </tr>\n",
              "    <tr>\n",
              "      <th>1526</th>\n",
              "      <td>96.238861</td>\n",
              "      <td>140.0</td>\n",
              "    </tr>\n",
              "    <tr>\n",
              "      <th>1527</th>\n",
              "      <td>95.618904</td>\n",
              "      <td>140.0</td>\n",
              "    </tr>\n",
              "    <tr>\n",
              "      <th>1528</th>\n",
              "      <td>95.734665</td>\n",
              "      <td>140.0</td>\n",
              "    </tr>\n",
              "    <tr>\n",
              "      <th>1529</th>\n",
              "      <td>95.620560</td>\n",
              "      <td>140.0</td>\n",
              "    </tr>\n",
              "  </tbody>\n",
              "</table>\n",
              "<p>1530 rows × 2 columns</p>\n",
              "</div>\n",
              "      <button class=\"colab-df-convert\" onclick=\"convertToInteractive('df-12e4aa4d-7815-4278-b0b0-2b400e346df0')\"\n",
              "              title=\"Convert this dataframe to an interactive table.\"\n",
              "              style=\"display:none;\">\n",
              "        \n",
              "  <svg xmlns=\"http://www.w3.org/2000/svg\" height=\"24px\"viewBox=\"0 0 24 24\"\n",
              "       width=\"24px\">\n",
              "    <path d=\"M0 0h24v24H0V0z\" fill=\"none\"/>\n",
              "    <path d=\"M18.56 5.44l.94 2.06.94-2.06 2.06-.94-2.06-.94-.94-2.06-.94 2.06-2.06.94zm-11 1L8.5 8.5l.94-2.06 2.06-.94-2.06-.94L8.5 2.5l-.94 2.06-2.06.94zm10 10l.94 2.06.94-2.06 2.06-.94-2.06-.94-.94-2.06-.94 2.06-2.06.94z\"/><path d=\"M17.41 7.96l-1.37-1.37c-.4-.4-.92-.59-1.43-.59-.52 0-1.04.2-1.43.59L10.3 9.45l-7.72 7.72c-.78.78-.78 2.05 0 2.83L4 21.41c.39.39.9.59 1.41.59.51 0 1.02-.2 1.41-.59l7.78-7.78 2.81-2.81c.8-.78.8-2.07 0-2.86zM5.41 20L4 18.59l7.72-7.72 1.47 1.35L5.41 20z\"/>\n",
              "  </svg>\n",
              "      </button>\n",
              "      \n",
              "  <style>\n",
              "    .colab-df-container {\n",
              "      display:flex;\n",
              "      flex-wrap:wrap;\n",
              "      gap: 12px;\n",
              "    }\n",
              "\n",
              "    .colab-df-convert {\n",
              "      background-color: #E8F0FE;\n",
              "      border: none;\n",
              "      border-radius: 50%;\n",
              "      cursor: pointer;\n",
              "      display: none;\n",
              "      fill: #1967D2;\n",
              "      height: 32px;\n",
              "      padding: 0 0 0 0;\n",
              "      width: 32px;\n",
              "    }\n",
              "\n",
              "    .colab-df-convert:hover {\n",
              "      background-color: #E2EBFA;\n",
              "      box-shadow: 0px 1px 2px rgba(60, 64, 67, 0.3), 0px 1px 3px 1px rgba(60, 64, 67, 0.15);\n",
              "      fill: #174EA6;\n",
              "    }\n",
              "\n",
              "    [theme=dark] .colab-df-convert {\n",
              "      background-color: #3B4455;\n",
              "      fill: #D2E3FC;\n",
              "    }\n",
              "\n",
              "    [theme=dark] .colab-df-convert:hover {\n",
              "      background-color: #434B5C;\n",
              "      box-shadow: 0px 1px 3px 1px rgba(0, 0, 0, 0.15);\n",
              "      filter: drop-shadow(0px 1px 2px rgba(0, 0, 0, 0.3));\n",
              "      fill: #FFFFFF;\n",
              "    }\n",
              "  </style>\n",
              "\n",
              "      <script>\n",
              "        const buttonEl =\n",
              "          document.querySelector('#df-12e4aa4d-7815-4278-b0b0-2b400e346df0 button.colab-df-convert');\n",
              "        buttonEl.style.display =\n",
              "          google.colab.kernel.accessAllowed ? 'block' : 'none';\n",
              "\n",
              "        async function convertToInteractive(key) {\n",
              "          const element = document.querySelector('#df-12e4aa4d-7815-4278-b0b0-2b400e346df0');\n",
              "          const dataTable =\n",
              "            await google.colab.kernel.invokeFunction('convertToInteractive',\n",
              "                                                     [key], {});\n",
              "          if (!dataTable) return;\n",
              "\n",
              "          const docLinkHtml = 'Like what you see? Visit the ' +\n",
              "            '<a target=\"_blank\" href=https://colab.research.google.com/notebooks/data_table.ipynb>data table notebook</a>'\n",
              "            + ' to learn more about interactive tables.';\n",
              "          element.innerHTML = '';\n",
              "          dataTable['output_type'] = 'display_data';\n",
              "          await google.colab.output.renderOutput(dataTable, element);\n",
              "          const docLink = document.createElement('div');\n",
              "          docLink.innerHTML = docLinkHtml;\n",
              "          element.appendChild(docLink);\n",
              "        }\n",
              "      </script>\n",
              "    </div>\n",
              "  </div>\n",
              "  "
            ],
            "text/plain": [
              "      Val Predictions  Actuals\n",
              "0            2.535046      0.0\n",
              "1            2.528921      0.0\n",
              "2            2.497445      0.0\n",
              "3            2.306244      0.0\n",
              "4            2.377082      0.0\n",
              "...               ...      ...\n",
              "1525        95.327187    140.0\n",
              "1526        96.238861    140.0\n",
              "1527        95.618904    140.0\n",
              "1528        95.734665    140.0\n",
              "1529        95.620560    140.0\n",
              "\n",
              "[1530 rows x 2 columns]"
            ]
          },
          "execution_count": 129,
          "metadata": {},
          "output_type": "execute_result"
        }
      ],
      "source": [
        "val_results = pd.DataFrame(data={'Val Predictions':train_predict_scaler, 'Actuals':trainY_scaler})\n",
        "val_results"
      ]
    },
    {
      "cell_type": "code",
      "execution_count": null,
      "metadata": {
        "colab": {
          "base_uri": "https://localhost:8080/"
        },
        "id": "-RXK1a-z03Vw",
        "outputId": "2295cb12-425c-418d-95bb-1ef9c501f71d"
      },
      "outputs": [
        {
          "name": "stdout",
          "output_type": "stream",
          "text": [
            "Unique elements of the list using numpy.unique():\n",
            "\n",
            "[  0.           6.66666667  13.33333333  20.          26.66666667\n",
            "  33.33333333  40.          46.66666667  53.33333333  60.\n",
            "  66.66666667  73.33333333  80.          86.66666667  93.33333333\n",
            " 100.         106.66666667 113.33333333 120.         126.66666667\n",
            " 133.33333333 140.        ]\n"
          ]
        }
      ],
      "source": [
        "res = np.array(trainY_scaler) \n",
        "unique_res = np.unique(res) \n",
        "print(\"Unique elements of the list using numpy.unique():\\n\")\n",
        "print(unique_res)"
      ]
    },
    {
      "cell_type": "code",
      "execution_count": null,
      "metadata": {
        "id": "lPvgmDkL15ys"
      },
      "outputs": [],
      "source": [
        "new_predicetd = []\n",
        "for j in train_predict_scaler:\n",
        "  temp = []\n",
        "  for k in unique_res:\n",
        "    diff = j - k\n",
        "    diff = int(abs(diff))\n",
        "    temp.append(diff)\n",
        "  value = min(temp)\n",
        "  ind = temp.index(value)\n",
        "  new_predicetd.append(unique_res[ind])"
      ]
    },
    {
      "cell_type": "code",
      "execution_count": null,
      "metadata": {
        "colab": {
          "base_uri": "https://localhost:8080/"
        },
        "id": "tr9GvvLJ9DFR",
        "outputId": "4880a346-7151-4d1f-e446-2dc5eee0e49f"
      },
      "outputs": [
        {
          "name": "stdout",
          "output_type": "stream",
          "text": [
            "train data\n",
            "R2 score = 0.7003348967989882\n"
          ]
        }
      ],
      "source": [
        "print(\"train data\") \n",
        "print(\"R2 score =\", r2_score(trainY_scaler,new_predicetd))"
      ]
    },
    {
      "cell_type": "code",
      "execution_count": null,
      "metadata": {
        "colab": {
          "base_uri": "https://localhost:8080/"
        },
        "id": "YB3-fIDE_a2m",
        "outputId": "454bc796-8064-4202-93dd-24be7e78d8ab"
      },
      "outputs": [
        {
          "data": {
            "text/plain": [
              "1530"
            ]
          },
          "execution_count": 133,
          "metadata": {},
          "output_type": "execute_result"
        }
      ],
      "source": [
        "len(new_predicetd)"
      ]
    },
    {
      "cell_type": "code",
      "execution_count": null,
      "metadata": {
        "colab": {
          "base_uri": "https://localhost:8080/",
          "height": 650
        },
        "id": "PodcpnVc9EmA",
        "outputId": "33bcf688-a595-4f48-d294-bf8a3d70ab7c"
      },
      "outputs": [
        {
          "data": {
            "text/html": [
              "\n",
              "  <div id=\"df-a325b8af-951a-4621-b254-a1f2f2ea5381\">\n",
              "    <div class=\"colab-df-container\">\n",
              "      <div>\n",
              "<style scoped>\n",
              "    .dataframe tbody tr th:only-of-type {\n",
              "        vertical-align: middle;\n",
              "    }\n",
              "\n",
              "    .dataframe tbody tr th {\n",
              "        vertical-align: top;\n",
              "    }\n",
              "\n",
              "    .dataframe thead th {\n",
              "        text-align: right;\n",
              "    }\n",
              "</style>\n",
              "<table border=\"1\" class=\"dataframe\">\n",
              "  <thead>\n",
              "    <tr style=\"text-align: right;\">\n",
              "      <th></th>\n",
              "      <th>Val Predictions</th>\n",
              "      <th>Actuals</th>\n",
              "    </tr>\n",
              "  </thead>\n",
              "  <tbody>\n",
              "    <tr>\n",
              "      <th>0</th>\n",
              "      <td>0.000000</td>\n",
              "      <td>0.0</td>\n",
              "    </tr>\n",
              "    <tr>\n",
              "      <th>1</th>\n",
              "      <td>0.000000</td>\n",
              "      <td>0.0</td>\n",
              "    </tr>\n",
              "    <tr>\n",
              "      <th>2</th>\n",
              "      <td>0.000000</td>\n",
              "      <td>0.0</td>\n",
              "    </tr>\n",
              "    <tr>\n",
              "      <th>3</th>\n",
              "      <td>0.000000</td>\n",
              "      <td>0.0</td>\n",
              "    </tr>\n",
              "    <tr>\n",
              "      <th>4</th>\n",
              "      <td>0.000000</td>\n",
              "      <td>0.0</td>\n",
              "    </tr>\n",
              "    <tr>\n",
              "      <th>...</th>\n",
              "      <td>...</td>\n",
              "      <td>...</td>\n",
              "    </tr>\n",
              "    <tr>\n",
              "      <th>1525</th>\n",
              "      <td>93.333333</td>\n",
              "      <td>140.0</td>\n",
              "    </tr>\n",
              "    <tr>\n",
              "      <th>1526</th>\n",
              "      <td>93.333333</td>\n",
              "      <td>140.0</td>\n",
              "    </tr>\n",
              "    <tr>\n",
              "      <th>1527</th>\n",
              "      <td>93.333333</td>\n",
              "      <td>140.0</td>\n",
              "    </tr>\n",
              "    <tr>\n",
              "      <th>1528</th>\n",
              "      <td>93.333333</td>\n",
              "      <td>140.0</td>\n",
              "    </tr>\n",
              "    <tr>\n",
              "      <th>1529</th>\n",
              "      <td>93.333333</td>\n",
              "      <td>140.0</td>\n",
              "    </tr>\n",
              "  </tbody>\n",
              "</table>\n",
              "<p>1530 rows × 2 columns</p>\n",
              "</div>\n",
              "      <button class=\"colab-df-convert\" onclick=\"convertToInteractive('df-a325b8af-951a-4621-b254-a1f2f2ea5381')\"\n",
              "              title=\"Convert this dataframe to an interactive table.\"\n",
              "              style=\"display:none;\">\n",
              "        \n",
              "  <svg xmlns=\"http://www.w3.org/2000/svg\" height=\"24px\"viewBox=\"0 0 24 24\"\n",
              "       width=\"24px\">\n",
              "    <path d=\"M0 0h24v24H0V0z\" fill=\"none\"/>\n",
              "    <path d=\"M18.56 5.44l.94 2.06.94-2.06 2.06-.94-2.06-.94-.94-2.06-.94 2.06-2.06.94zm-11 1L8.5 8.5l.94-2.06 2.06-.94-2.06-.94L8.5 2.5l-.94 2.06-2.06.94zm10 10l.94 2.06.94-2.06 2.06-.94-2.06-.94-.94-2.06-.94 2.06-2.06.94z\"/><path d=\"M17.41 7.96l-1.37-1.37c-.4-.4-.92-.59-1.43-.59-.52 0-1.04.2-1.43.59L10.3 9.45l-7.72 7.72c-.78.78-.78 2.05 0 2.83L4 21.41c.39.39.9.59 1.41.59.51 0 1.02-.2 1.41-.59l7.78-7.78 2.81-2.81c.8-.78.8-2.07 0-2.86zM5.41 20L4 18.59l7.72-7.72 1.47 1.35L5.41 20z\"/>\n",
              "  </svg>\n",
              "      </button>\n",
              "      \n",
              "  <style>\n",
              "    .colab-df-container {\n",
              "      display:flex;\n",
              "      flex-wrap:wrap;\n",
              "      gap: 12px;\n",
              "    }\n",
              "\n",
              "    .colab-df-convert {\n",
              "      background-color: #E8F0FE;\n",
              "      border: none;\n",
              "      border-radius: 50%;\n",
              "      cursor: pointer;\n",
              "      display: none;\n",
              "      fill: #1967D2;\n",
              "      height: 32px;\n",
              "      padding: 0 0 0 0;\n",
              "      width: 32px;\n",
              "    }\n",
              "\n",
              "    .colab-df-convert:hover {\n",
              "      background-color: #E2EBFA;\n",
              "      box-shadow: 0px 1px 2px rgba(60, 64, 67, 0.3), 0px 1px 3px 1px rgba(60, 64, 67, 0.15);\n",
              "      fill: #174EA6;\n",
              "    }\n",
              "\n",
              "    [theme=dark] .colab-df-convert {\n",
              "      background-color: #3B4455;\n",
              "      fill: #D2E3FC;\n",
              "    }\n",
              "\n",
              "    [theme=dark] .colab-df-convert:hover {\n",
              "      background-color: #434B5C;\n",
              "      box-shadow: 0px 1px 3px 1px rgba(0, 0, 0, 0.15);\n",
              "      filter: drop-shadow(0px 1px 2px rgba(0, 0, 0, 0.3));\n",
              "      fill: #FFFFFF;\n",
              "    }\n",
              "  </style>\n",
              "\n",
              "      <script>\n",
              "        const buttonEl =\n",
              "          document.querySelector('#df-a325b8af-951a-4621-b254-a1f2f2ea5381 button.colab-df-convert');\n",
              "        buttonEl.style.display =\n",
              "          google.colab.kernel.accessAllowed ? 'block' : 'none';\n",
              "\n",
              "        async function convertToInteractive(key) {\n",
              "          const element = document.querySelector('#df-a325b8af-951a-4621-b254-a1f2f2ea5381');\n",
              "          const dataTable =\n",
              "            await google.colab.kernel.invokeFunction('convertToInteractive',\n",
              "                                                     [key], {});\n",
              "          if (!dataTable) return;\n",
              "\n",
              "          const docLinkHtml = 'Like what you see? Visit the ' +\n",
              "            '<a target=\"_blank\" href=https://colab.research.google.com/notebooks/data_table.ipynb>data table notebook</a>'\n",
              "            + ' to learn more about interactive tables.';\n",
              "          element.innerHTML = '';\n",
              "          dataTable['output_type'] = 'display_data';\n",
              "          await google.colab.output.renderOutput(dataTable, element);\n",
              "          const docLink = document.createElement('div');\n",
              "          docLink.innerHTML = docLinkHtml;\n",
              "          element.appendChild(docLink);\n",
              "        }\n",
              "      </script>\n",
              "    </div>\n",
              "  </div>\n",
              "  "
            ],
            "text/plain": [
              "      Val Predictions  Actuals\n",
              "0            0.000000      0.0\n",
              "1            0.000000      0.0\n",
              "2            0.000000      0.0\n",
              "3            0.000000      0.0\n",
              "4            0.000000      0.0\n",
              "...               ...      ...\n",
              "1525        93.333333    140.0\n",
              "1526        93.333333    140.0\n",
              "1527        93.333333    140.0\n",
              "1528        93.333333    140.0\n",
              "1529        93.333333    140.0\n",
              "\n",
              "[1530 rows x 2 columns]"
            ]
          },
          "execution_count": 134,
          "metadata": {},
          "output_type": "execute_result"
        }
      ],
      "source": [
        "val_results = pd.DataFrame(data={'Val Predictions':new_predicetd, 'Actuals':trainY_scaler})\n",
        "val_results"
      ]
    },
    {
      "cell_type": "code",
      "execution_count": null,
      "metadata": {
        "colab": {
          "base_uri": "https://localhost:8080/"
        },
        "id": "svd_o1pRZ7O3",
        "outputId": "66aa26c0-94f6-481e-d641-3d9c8300c673"
      },
      "outputs": [
        {
          "name": "stdout",
          "output_type": "stream",
          "text": [
            "21/21 [==============================] - 0s 4ms/step\n"
          ]
        }
      ],
      "source": [
        "test_predict = model.predict(testX)"
      ]
    },
    {
      "cell_type": "code",
      "execution_count": null,
      "metadata": {
        "id": "McOg5d5Tj0L4"
      },
      "outputs": [],
      "source": [
        "test_predict_new = np.repeat(test_predict, data_scaled.shape[1], axis=-1)\n",
        "test_predict_scaler = scaler.inverse_transform(test_predict_new)[:,0]\n",
        "#test prediction\n",
        "testY = np.repeat(testY, data_scaled.shape[1], axis=-1)\n",
        "testY_scaler = scaler.inverse_transform(testY)[:,0]"
      ]
    },
    {
      "cell_type": "code",
      "execution_count": null,
      "metadata": {
        "colab": {
          "base_uri": "https://localhost:8080/"
        },
        "id": "-LQu5MEaj0Os",
        "outputId": "4410e8f7-d8c0-4f0e-c47d-49238193f909"
      },
      "outputs": [
        {
          "name": "stdout",
          "output_type": "stream",
          "text": [
            "test data\n",
            "R2 score = 0.6570278401725822\n"
          ]
        }
      ],
      "source": [
        "print(\"test data\") \n",
        "print(\"R2 score =\", r2_score(testY_scaler,test_predict_scaler))"
      ]
    },
    {
      "cell_type": "code",
      "execution_count": null,
      "metadata": {
        "colab": {
          "base_uri": "https://localhost:8080/"
        },
        "id": "FDaiOu0YYPhA",
        "outputId": "f7a04c59-ca24-487e-abb3-99137262b159"
      },
      "outputs": [
        {
          "name": "stdout",
          "output_type": "stream",
          "text": [
            "Root Mean Square Error:\n",
            "\n",
            "24.200713613589972\n"
          ]
        }
      ],
      "source": [
        "MSE = np.square(np.subtract(testY_scaler,test_predict_scaler)).mean()   \n",
        "   \n",
        "rsme = math.sqrt(MSE)  \n",
        "print(\"Root Mean Square Error:\\n\")  \n",
        "print(rsme)"
      ]
    },
    {
      "cell_type": "code",
      "execution_count": null,
      "metadata": {
        "colab": {
          "base_uri": "https://localhost:8080/",
          "height": 447
        },
        "id": "sPmSfimVYPhA",
        "outputId": "1ad785ad-b12a-493b-ca53-a83ede51e19a"
      },
      "outputs": [
        {
          "data": {
            "text/plain": [
              "[<matplotlib.lines.Line2D at 0x7f96a5dcd9a0>]"
            ]
          },
          "execution_count": 139,
          "metadata": {},
          "output_type": "execute_result"
        },
        {
          "data": {
            "image/png": "[encoded data removed]",
            "text/plain": [
              "<Figure size 640x480 with 1 Axes>"
            ]
          },
          "metadata": {},
          "output_type": "display_data"
        }
      ],
      "source": [
        "plt.plot(test_predict_scaler, label=\"predicted\")"
      ]
    },
    {
      "cell_type": "code",
      "execution_count": null,
      "metadata": {
        "colab": {
          "base_uri": "https://localhost:8080/",
          "height": 447
        },
        "id": "-u8OZYI2YPhA",
        "outputId": "8086b7d5-6ec5-4b5f-f8cb-2297a75c1978"
      },
      "outputs": [
        {
          "data": {
            "text/plain": [
              "[<matplotlib.lines.Line2D at 0x7f968e9b2610>]"
            ]
          },
          "execution_count": 140,
          "metadata": {},
          "output_type": "execute_result"
        },
        {
          "data": {
            "image/png": "[encoded data removed]",
            "text/plain": [
              "<Figure size 640x480 with 1 Axes>"
            ]
          },
          "metadata": {},
          "output_type": "display_data"
        }
      ],
      "source": [
        "plt.plot(testY_scaler, label=\"actual\")"
      ]
    },
    {
      "cell_type": "code",
      "execution_count": null,
      "metadata": {
        "id": "0Nphr_RzaolE"
      },
      "outputs": [],
      "source": [
        "# import pickle\n",
        "\n",
        "# loaded_model = pickle.load(open('model.pkl', 'rb'))\n",
        "\n",
        "# # result = loaded_model.score(X_test, Y_test)\n",
        "# # print(result)"
      ]
    },
    {
      "cell_type": "code",
      "execution_count": null,
      "metadata": {
        "id": "lNRB3R5HnR17"
      },
      "outputs": [],
      "source": [
        "data_new = pd.read_csv(\"crop.csv\")"
      ]
    },
    {
      "cell_type": "code",
      "execution_count": null,
      "metadata": {
        "colab": {
          "base_uri": "https://localhost:8080/",
          "height": 423
        },
        "id": "CA3JPB9Fna3P",
        "outputId": "a23ff462-d9d5-4f6d-b62f-26c5cb5fc5f1"
      },
      "outputs": [
        {
          "data": {
            "text/html": [
              "\n",
              "  <div id=\"df-23035f3b-a6e3-46df-8799-94dbf36716a7\">\n",
              "    <div class=\"colab-df-container\">\n",
              "      <div>\n",
              "<style scoped>\n",
              "    .dataframe tbody tr th:only-of-type {\n",
              "        vertical-align: middle;\n",
              "    }\n",
              "\n",
              "    .dataframe tbody tr th {\n",
              "        vertical-align: top;\n",
              "    }\n",
              "\n",
              "    .dataframe thead th {\n",
              "        text-align: right;\n",
              "    }\n",
              "</style>\n",
              "<table border=\"1\" class=\"dataframe\">\n",
              "  <thead>\n",
              "    <tr style=\"text-align: right;\">\n",
              "      <th></th>\n",
              "      <th>N</th>\n",
              "      <th>P</th>\n",
              "      <th>K</th>\n",
              "      <th>temperature</th>\n",
              "      <th>humidity</th>\n",
              "      <th>ph</th>\n",
              "      <th>rainfall</th>\n",
              "      <th>label</th>\n",
              "    </tr>\n",
              "  </thead>\n",
              "  <tbody>\n",
              "    <tr>\n",
              "      <th>0</th>\n",
              "      <td>90</td>\n",
              "      <td>42</td>\n",
              "      <td>43</td>\n",
              "      <td>20.879744</td>\n",
              "      <td>82.002744</td>\n",
              "      <td>6.502985</td>\n",
              "      <td>202.935536</td>\n",
              "      <td>rice</td>\n",
              "    </tr>\n",
              "    <tr>\n",
              "      <th>1</th>\n",
              "      <td>85</td>\n",
              "      <td>58</td>\n",
              "      <td>41</td>\n",
              "      <td>21.770462</td>\n",
              "      <td>80.319644</td>\n",
              "      <td>7.038096</td>\n",
              "      <td>226.655537</td>\n",
              "      <td>rice</td>\n",
              "    </tr>\n",
              "    <tr>\n",
              "      <th>2</th>\n",
              "      <td>60</td>\n",
              "      <td>55</td>\n",
              "      <td>44</td>\n",
              "      <td>23.004459</td>\n",
              "      <td>82.320763</td>\n",
              "      <td>7.840207</td>\n",
              "      <td>263.964248</td>\n",
              "      <td>rice</td>\n",
              "    </tr>\n",
              "    <tr>\n",
              "      <th>3</th>\n",
              "      <td>74</td>\n",
              "      <td>35</td>\n",
              "      <td>40</td>\n",
              "      <td>26.491096</td>\n",
              "      <td>80.158363</td>\n",
              "      <td>6.980401</td>\n",
              "      <td>242.864034</td>\n",
              "      <td>rice</td>\n",
              "    </tr>\n",
              "    <tr>\n",
              "      <th>4</th>\n",
              "      <td>78</td>\n",
              "      <td>42</td>\n",
              "      <td>42</td>\n",
              "      <td>20.130175</td>\n",
              "      <td>81.604873</td>\n",
              "      <td>7.628473</td>\n",
              "      <td>262.717340</td>\n",
              "      <td>rice</td>\n",
              "    </tr>\n",
              "    <tr>\n",
              "      <th>...</th>\n",
              "      <td>...</td>\n",
              "      <td>...</td>\n",
              "      <td>...</td>\n",
              "      <td>...</td>\n",
              "      <td>...</td>\n",
              "      <td>...</td>\n",
              "      <td>...</td>\n",
              "      <td>...</td>\n",
              "    </tr>\n",
              "    <tr>\n",
              "      <th>2195</th>\n",
              "      <td>107</td>\n",
              "      <td>34</td>\n",
              "      <td>32</td>\n",
              "      <td>26.774637</td>\n",
              "      <td>66.413269</td>\n",
              "      <td>6.780064</td>\n",
              "      <td>177.774507</td>\n",
              "      <td>coffee</td>\n",
              "    </tr>\n",
              "    <tr>\n",
              "      <th>2196</th>\n",
              "      <td>99</td>\n",
              "      <td>15</td>\n",
              "      <td>27</td>\n",
              "      <td>27.417112</td>\n",
              "      <td>56.636362</td>\n",
              "      <td>6.086922</td>\n",
              "      <td>127.924610</td>\n",
              "      <td>coffee</td>\n",
              "    </tr>\n",
              "    <tr>\n",
              "      <th>2197</th>\n",
              "      <td>118</td>\n",
              "      <td>33</td>\n",
              "      <td>30</td>\n",
              "      <td>24.131797</td>\n",
              "      <td>67.225123</td>\n",
              "      <td>6.362608</td>\n",
              "      <td>173.322839</td>\n",
              "      <td>coffee</td>\n",
              "    </tr>\n",
              "    <tr>\n",
              "      <th>2198</th>\n",
              "      <td>117</td>\n",
              "      <td>32</td>\n",
              "      <td>34</td>\n",
              "      <td>26.272418</td>\n",
              "      <td>52.127394</td>\n",
              "      <td>6.758793</td>\n",
              "      <td>127.175293</td>\n",
              "      <td>coffee</td>\n",
              "    </tr>\n",
              "    <tr>\n",
              "      <th>2199</th>\n",
              "      <td>104</td>\n",
              "      <td>18</td>\n",
              "      <td>30</td>\n",
              "      <td>23.603016</td>\n",
              "      <td>60.396475</td>\n",
              "      <td>6.779833</td>\n",
              "      <td>140.937041</td>\n",
              "      <td>coffee</td>\n",
              "    </tr>\n",
              "  </tbody>\n",
              "</table>\n",
              "<p>2200 rows × 8 columns</p>\n",
              "</div>\n",
              "      <button class=\"colab-df-convert\" onclick=\"convertToInteractive('df-23035f3b-a6e3-46df-8799-94dbf36716a7')\"\n",
              "              title=\"Convert this dataframe to an interactive table.\"\n",
              "              style=\"display:none;\">\n",
              "        \n",
              "  <svg xmlns=\"http://www.w3.org/2000/svg\" height=\"24px\"viewBox=\"0 0 24 24\"\n",
              "       width=\"24px\">\n",
              "    <path d=\"M0 0h24v24H0V0z\" fill=\"none\"/>\n",
              "    <path d=\"M18.56 5.44l.94 2.06.94-2.06 2.06-.94-2.06-.94-.94-2.06-.94 2.06-2.06.94zm-11 1L8.5 8.5l.94-2.06 2.06-.94-2.06-.94L8.5 2.5l-.94 2.06-2.06.94zm10 10l.94 2.06.94-2.06 2.06-.94-2.06-.94-.94-2.06-.94 2.06-2.06.94z\"/><path d=\"M17.41 7.96l-1.37-1.37c-.4-.4-.92-.59-1.43-.59-.52 0-1.04.2-1.43.59L10.3 9.45l-7.72 7.72c-.78.78-.78 2.05 0 2.83L4 21.41c.39.39.9.59 1.41.59.51 0 1.02-.2 1.41-.59l7.78-7.78 2.81-2.81c.8-.78.8-2.07 0-2.86zM5.41 20L4 18.59l7.72-7.72 1.47 1.35L5.41 20z\"/>\n",
              "  </svg>\n",
              "      </button>\n",
              "      \n",
              "  <style>\n",
              "    .colab-df-container {\n",
              "      display:flex;\n",
              "      flex-wrap:wrap;\n",
              "      gap: 12px;\n",
              "    }\n",
              "\n",
              "    .colab-df-convert {\n",
              "      background-color: #E8F0FE;\n",
              "      border: none;\n",
              "      border-radius: 50%;\n",
              "      cursor: pointer;\n",
              "      display: none;\n",
              "      fill: #1967D2;\n",
              "      height: 32px;\n",
              "      padding: 0 0 0 0;\n",
              "      width: 32px;\n",
              "    }\n",
              "\n",
              "    .colab-df-convert:hover {\n",
              "      background-color: #E2EBFA;\n",
              "      box-shadow: 0px 1px 2px rgba(60, 64, 67, 0.3), 0px 1px 3px 1px rgba(60, 64, 67, 0.15);\n",
              "      fill: #174EA6;\n",
              "    }\n",
              "\n",
              "    [theme=dark] .colab-df-convert {\n",
              "      background-color: #3B4455;\n",
              "      fill: #D2E3FC;\n",
              "    }\n",
              "\n",
              "    [theme=dark] .colab-df-convert:hover {\n",
              "      background-color: #434B5C;\n",
              "      box-shadow: 0px 1px 3px 1px rgba(0, 0, 0, 0.15);\n",
              "      filter: drop-shadow(0px 1px 2px rgba(0, 0, 0, 0.3));\n",
              "      fill: #FFFFFF;\n",
              "    }\n",
              "  </style>\n",
              "\n",
              "      <script>\n",
              "        const buttonEl =\n",
              "          document.querySelector('#df-23035f3b-a6e3-46df-8799-94dbf36716a7 button.colab-df-convert');\n",
              "        buttonEl.style.display =\n",
              "          google.colab.kernel.accessAllowed ? 'block' : 'none';\n",
              "\n",
              "        async function convertToInteractive(key) {\n",
              "          const element = document.querySelector('#df-23035f3b-a6e3-46df-8799-94dbf36716a7');\n",
              "          const dataTable =\n",
              "            await google.colab.kernel.invokeFunction('convertToInteractive',\n",
              "                                                     [key], {});\n",
              "          if (!dataTable) return;\n",
              "\n",
              "          const docLinkHtml = 'Like what you see? Visit the ' +\n",
              "            '<a target=\"_blank\" href=https://colab.research.google.com/notebooks/data_table.ipynb>data table notebook</a>'\n",
              "            + ' to learn more about interactive tables.';\n",
              "          element.innerHTML = '';\n",
              "          dataTable['output_type'] = 'display_data';\n",
              "          await google.colab.output.renderOutput(dataTable, element);\n",
              "          const docLink = document.createElement('div');\n",
              "          docLink.innerHTML = docLinkHtml;\n",
              "          element.appendChild(docLink);\n",
              "        }\n",
              "      </script>\n",
              "    </div>\n",
              "  </div>\n",
              "  "
            ],
            "text/plain": [
              "        N   P   K  temperature   humidity        ph    rainfall   label\n",
              "0      90  42  43    20.879744  82.002744  6.502985  202.935536    rice\n",
              "1      85  58  41    21.770462  80.319644  7.038096  226.655537    rice\n",
              "2      60  55  44    23.004459  82.320763  7.840207  263.964248    rice\n",
              "3      74  35  40    26.491096  80.158363  6.980401  242.864034    rice\n",
              "4      78  42  42    20.130175  81.604873  7.628473  262.717340    rice\n",
              "...   ...  ..  ..          ...        ...       ...         ...     ...\n",
              "2195  107  34  32    26.774637  66.413269  6.780064  177.774507  coffee\n",
              "2196   99  15  27    27.417112  56.636362  6.086922  127.924610  coffee\n",
              "2197  118  33  30    24.131797  67.225123  6.362608  173.322839  coffee\n",
              "2198  117  32  34    26.272418  52.127394  6.758793  127.175293  coffee\n",
              "2199  104  18  30    23.603016  60.396475  6.779833  140.937041  coffee\n",
              "\n",
              "[2200 rows x 8 columns]"
            ]
          },
          "execution_count": 180,
          "metadata": {},
          "output_type": "execute_result"
        }
      ],
      "source": [
        "data_new"
      ]
    },
    {
      "cell_type": "code",
      "execution_count": null,
      "metadata": {
        "id": "6C6gYQupm13C"
      },
      "outputs": [],
      "source": [
        "import numpy as np\n",
        "import matplotlib.pyplot as plt\n",
        "label = data_new['label'].values.tolist()\n",
        "actual_count = []\n",
        "count_predicted =[ ]\n",
        "for y in crops:\n",
        "  count_predicted.append(crop_predicted.count(y))\n",
        "  actual_count.append(label.count(y))\n"
      ]
    },
    {
      "cell_type": "code",
      "execution_count": null,
      "metadata": {
        "colab": {
          "base_uri": "https://localhost:8080/"
        },
        "id": "JdmWae8LpvOZ",
        "outputId": "081a6b91-cc4b-4b4c-cee9-aac90c579059"
      },
      "outputs": [
        {
          "data": {
            "text/plain": [
              "22"
            ]
          },
          "execution_count": 201,
          "metadata": {},
          "output_type": "execute_result"
        }
      ],
      "source": [
        "len(count_predicted)"
      ]
    },
    {
      "cell_type": "code",
      "execution_count": null,
      "metadata": {
        "colab": {
          "base_uri": "https://localhost:8080/",
          "height": 603
        },
        "id": "Hj8JbWYym199",
        "outputId": "4d591264-2f59-4628-bf07-78806945d8df"
      },
      "outputs": [
        {
          "data": {
            "image/png": "[encoded data removed]",
            "text/plain": [
              "<Figure size 2000x1000 with 1 Axes>"
            ]
          },
          "metadata": {},
          "output_type": "display_data"
        }
      ],
      "source": [
        "X = ['Group A','Group B','Group C','Group D']\n",
        "plt.figure(figsize=(20,10))\n",
        "X_axis = np.arange(len(crops))\n",
        "  \n",
        "plt.bar(X_axis - 0.2, actual_count, 0.4, label = 'actual',)\n",
        "plt.bar(X_axis + 0.2, count_predicted, 0.4, label = 'predicted',)\n",
        "  \n",
        "plt.xticks(X_axis, crops)\n",
        "plt.xlabel(\"Crops\")\n",
        "plt.ylabel(\"count\")\n",
        "plt.title(\"Predicted vs actual\")\n",
        "plt.legend()\n",
        "plt.show()"
      ]
    }
  ],
  "metadata": {
    "colab": {
      "provenance": []
    },
    "kernelspec": {
      "display_name": "Python 3",
      "language": "python",
      "name": "python3"
    },
    "language_info": {
      "codemirror_mode": {
        "name": "ipython",
        "version": 3
      },
      "file_extension": ".py",
      "mimetype": "text/x-python",
      "name": "python",
      "nbconvert_exporter": "python",
      "pygments_lexer": "ipython3",
      "version": "3.10.10"
    },
    "orig_nbformat": 4
  },
  "nbformat": 4,
  "nbformat_minor": 0
}
